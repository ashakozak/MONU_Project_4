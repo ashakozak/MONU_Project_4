{
 "cells": [
  {
   "cell_type": "markdown",
   "id": "803d5908",
   "metadata": {
    "id": "803d5908"
   },
   "source": [
    "## Data Modelling using Supervised learning - SVM & Naive Bayes Classifier\n",
    "_________________________________________________\n"
   ]
  },
  {
   "cell_type": "code",
   "execution_count": 1,
   "id": "95428a31",
   "metadata": {
    "executionInfo": {
     "elapsed": 445,
     "status": "ok",
     "timestamp": 1699001069852,
     "user": {
      "displayName": "Jyotsna Jayaraman",
      "userId": "05432190663465161045"
     },
     "user_tz": -660
    },
    "id": "95428a31"
   },
   "outputs": [],
   "source": [
    "# Importing Dependencies\n",
    "import pandas as pd\n",
    "from pathlib import Path\n",
    "import matplotlib.pyplot as plt\n",
    "import numpy as np"
   ]
  },
  {
   "cell_type": "code",
   "execution_count": 2,
   "id": "625c5591",
   "metadata": {
    "executionInfo": {
     "elapsed": 2494,
     "status": "ok",
     "timestamp": 1699001073015,
     "user": {
      "displayName": "Jyotsna Jayaraman",
      "userId": "05432190663465161045"
     },
     "user_tz": -660
    },
    "id": "625c5591"
   },
   "outputs": [],
   "source": [
    "# Importing dependencies for vectorization and ML/DL\n",
    "from nltk.tokenize import word_tokenize\n",
    "from nltk import pos_tag\n",
    "from nltk.corpus import stopwords\n",
    "from nltk.stem import WordNetLemmatizer\n",
    "from sklearn.preprocessing import LabelEncoder\n",
    "from collections import defaultdict\n",
    "from nltk.corpus import wordnet as wn\n",
    "from sklearn.feature_extraction.text import TfidfVectorizer\n",
    "from sklearn import model_selection, naive_bayes, svm\n",
    "from sklearn.metrics import accuracy_score"
   ]
  },
  {
   "cell_type": "code",
   "execution_count": 3,
   "id": "7a291b60",
   "metadata": {
    "executionInfo": {
     "elapsed": 1609,
     "status": "ok",
     "timestamp": 1699001805915,
     "user": {
      "displayName": "Jyotsna Jayaraman",
      "userId": "05432190663465161045"
     },
     "user_tz": -660
    },
    "id": "7a291b60"
   },
   "outputs": [],
   "source": [
    "# Reading cleaned file with text for model creation\n",
    "# news_csv = Path('/content/drive/MyDrive/nlp_cleaned_news.csv')\n",
    "news_csv = Path('nlp_cleaned_news.csv')\n",
    "news_df = pd.read_csv(news_csv)"
   ]
  },
  {
   "cell_type": "code",
   "execution_count": 4,
   "id": "1NhiA-KZZCXK",
   "metadata": {
    "colab": {
     "base_uri": "https://localhost:8080/",
     "height": 206
    },
    "executionInfo": {
     "elapsed": 23,
     "status": "ok",
     "timestamp": 1699001808061,
     "user": {
      "displayName": "Jyotsna Jayaraman",
      "userId": "05432190663465161045"
     },
     "user_tz": -660
    },
    "id": "1NhiA-KZZCXK",
    "outputId": "115c3c3a-6eff-490e-fc83-3b04c8cf72b8"
   },
   "outputs": [
    {
     "data": {
      "text/html": [
       "<div>\n",
       "<style scoped>\n",
       "    .dataframe tbody tr th:only-of-type {\n",
       "        vertical-align: middle;\n",
       "    }\n",
       "\n",
       "    .dataframe tbody tr th {\n",
       "        vertical-align: top;\n",
       "    }\n",
       "\n",
       "    .dataframe thead th {\n",
       "        text-align: right;\n",
       "    }\n",
       "</style>\n",
       "<table border=\"1\" class=\"dataframe\">\n",
       "  <thead>\n",
       "    <tr style=\"text-align: right;\">\n",
       "      <th></th>\n",
       "      <th>text</th>\n",
       "      <th>class</th>\n",
       "    </tr>\n",
       "  </thead>\n",
       "  <tbody>\n",
       "    <tr>\n",
       "      <th>0</th>\n",
       "      <td>budget fight loom republicans flip fiscal scri...</td>\n",
       "      <td>1</td>\n",
       "    </tr>\n",
       "    <tr>\n",
       "      <th>1</th>\n",
       "      <td>military accept transgender recruit monday pen...</td>\n",
       "      <td>1</td>\n",
       "    </tr>\n",
       "    <tr>\n",
       "      <th>2</th>\n",
       "      <td>senior republican senator let mr mueller job w...</td>\n",
       "      <td>1</td>\n",
       "    </tr>\n",
       "    <tr>\n",
       "      <th>3</th>\n",
       "      <td>fbi russia probe help australian diplomat tip ...</td>\n",
       "      <td>1</td>\n",
       "    </tr>\n",
       "    <tr>\n",
       "      <th>4</th>\n",
       "      <td>trump want postal service charge amazon shipme...</td>\n",
       "      <td>1</td>\n",
       "    </tr>\n",
       "  </tbody>\n",
       "</table>\n",
       "</div>"
      ],
      "text/plain": [
       "                                                text  class\n",
       "0  budget fight loom republicans flip fiscal scri...      1\n",
       "1  military accept transgender recruit monday pen...      1\n",
       "2  senior republican senator let mr mueller job w...      1\n",
       "3  fbi russia probe help australian diplomat tip ...      1\n",
       "4  trump want postal service charge amazon shipme...      1"
      ]
     },
     "execution_count": 4,
     "metadata": {},
     "output_type": "execute_result"
    }
   ],
   "source": [
    "# Dropping extra column\n",
    "news_df = news_df.drop(['Unnamed: 0'], axis=1)\n",
    "news_df.head()"
   ]
  },
  {
   "cell_type": "code",
   "execution_count": 5,
   "id": "42oKDxbWZac4",
   "metadata": {
    "colab": {
     "base_uri": "https://localhost:8080/"
    },
    "executionInfo": {
     "elapsed": 593,
     "status": "ok",
     "timestamp": 1699001817288,
     "user": {
      "displayName": "Jyotsna Jayaraman",
      "userId": "05432190663465161045"
     },
     "user_tz": -660
    },
    "id": "42oKDxbWZac4",
    "outputId": "3f8b8f8d-a52c-45e3-b862-b1c7e9056f48"
   },
   "outputs": [
    {
     "data": {
      "text/plain": [
       "text     44678\n",
       "class    44678\n",
       "dtype: int64"
      ]
     },
     "execution_count": 5,
     "metadata": {},
     "output_type": "execute_result"
    }
   ],
   "source": [
    "# Dropping null rows\n",
    "news_df.dropna(inplace = True)\n",
    "news_df.count()"
   ]
  },
  {
   "cell_type": "markdown",
   "id": "59d7260c",
   "metadata": {},
   "source": [
    "### Splitting data into Train and Test and Vectorization\n",
    "Target  = news_df['class'], Features = news_df['text']\n"
   ]
  },
  {
   "cell_type": "code",
   "execution_count": 6,
   "id": "f1fc9371",
   "metadata": {
    "executionInfo": {
     "elapsed": 376,
     "status": "ok",
     "timestamp": 1699003178264,
     "user": {
      "displayName": "Jyotsna Jayaraman",
      "userId": "05432190663465161045"
     },
     "user_tz": -660
    },
    "id": "f1fc9371"
   },
   "outputs": [],
   "source": [
    "# Preparing Train and Test Data sets\n",
    "Train_X, Test_X, Train_Y, Test_Y = model_selection.train_test_split(news_df['text'],news_df['class'], random_state=42)"
   ]
  },
  {
   "cell_type": "code",
   "execution_count": 8,
   "id": "1ec3c891",
   "metadata": {
    "executionInfo": {
     "elapsed": 16066,
     "status": "ok",
     "timestamp": 1699003206415,
     "user": {
      "displayName": "Jyotsna Jayaraman",
      "userId": "05432190663465161045"
     },
     "user_tz": -660
    },
    "id": "1ec3c891"
   },
   "outputs": [],
   "source": [
    "# Word Vectorization\n",
    "\n",
    "Tfidf_vect = TfidfVectorizer(max_features=5000)\n",
    "Train_X_Tfidf = Tfidf_vect.fit_transform(Train_X)\n",
    "Test_X_Tfidf = Tfidf_vect.fit_transform(Test_X)\n",
    "# Tfidf_vect.fit(Train_X, Test_X)\n",
    "# Train_X_Tfidf = Tfidf_vect.transform(Train_X)\n",
    "# Test_X_Tfidf = Tfidf_vect.transform(Test_X)"
   ]
  },
  {
   "cell_type": "code",
   "execution_count": 9,
   "id": "5e7ee9f6",
   "metadata": {
    "colab": {
     "base_uri": "https://localhost:8080/"
    },
    "executionInfo": {
     "elapsed": 916,
     "status": "ok",
     "timestamp": 1699003212948,
     "user": {
      "displayName": "Jyotsna Jayaraman",
      "userId": "05432190663465161045"
     },
     "user_tz": -660
    },
    "id": "5e7ee9f6",
    "outputId": "4bd6cf1b-791e-4383-ffbb-1dc12b4b022d"
   },
   "outputs": [
    {
     "name": "stdout",
     "output_type": "stream",
     "text": [
      "{'trump': 4650, 'weigh': 4884, 'son': 4198, 'russia': 3900, 'attorney': 319, 'statement': 4279, 'white': 4902, 'house': 2138, 'washington': 4859, 'reuters': 3811, 'say': 3945, 'tuesday': 4656, 'president': 3456, 'donald': 1356, 'role': 3865, 'produce': 3499, 'deny': 1198, 'meeting': 2807, 'russian': 3901, 'lawyer': 2569, 'relate': 3714, 'presidential': 3457, 'campaign': 626, 'comment': 854, 'later': 2551, 'show': 4102, 'spokeswoman': 4245, 'sarah': 3936, 'sander': 3929, 'tell': 4489, 'briefing': 561, 'certainly': 697, 'offer': 3110, 'suggestion': 4370, 'like': 2632, 'father': 1692, 'issue': 2378, 'true': 4648, 'email': 1460, 'release': 3719, 'jr': 2444, 'subject': 4345, 'possible': 3410, 'damaging': 1105, 'information': 2269, 'republican': 3760, 'rival': 3849, 'presidency': 3455, 'democrat': 1187, 'hillary': 2093, 'clinton': 793, 'post': 3412, 'report': 3751, 'monday': 2907, 'adviser': 86, 'discuss': 1301, 'agree': 116, 'account': 38, 'episode': 1533, 'detail': 1231, 'emerge': 1469, 'fly': 1778, 'home': 2113, 'germany': 1900, 'july': 2452, 'change': 711, 'plan': 3352, 'personally': 3306, 'primarily': 3472, 'program': 3508, 'adoption': 77, 'child': 739, 'cite': 763, 'unidentified': 4717, 'people': 3286, 'knowledge': 2511, 'year': 4973, 'meet': 2806, 'woman': 4939, 'government': 1938, 'moscow': 2927, 'official': 3113, 'support': 4385, 'new': 3019, 'york': 4981, 'times': 4551, 'tower': 4586, 'version': 4791, 'story': 4312, 'refile': 3683, 'add': 65, 'drop': 1387, 'quote': 3594, 'paragraph': 3227, 'approve': 242, 'funding': 1859, 'healthcare': 2056, 'representative': 3757, 'friday': 1838, 'legislation': 2594, 'continue': 970, 'federal': 1705, 'insurance': 2299, 'million': 2855, 'low': 2684, 'income': 2231, 'pregnant': 3443, 'ongoing': 3128, 'battle': 410, 'week': 4881, 'get': 1902, 'money': 2909, 'measure': 2794, 'largely': 2545, 'party': 3248, 'line': 2638, 'health': 2055, 'chip': 744, 'democrats': 1189, 'warn': 4852, 'partisan': 3244, 'approach': 238, 'senate': 4017, 'delay': 1174, 'cash': 660, 'expire': 1623, 'month': 2915, 'ago': 115, 'bill': 466, 'go': 1922, 'wait': 4836, 'christmas': 754, 'democratic': 1188, 'frank': 1825, 'republicans': 3761, 'control': 979, 'seat': 3990, 'vote': 4828, 'need': 2999, 'passage': 3250, 'provide': 3543, 'bipartisan': 472, 'creation': 1046, 'contentious': 967, 'congress': 929, 'highly': 2087, 'repeatedly': 3747, 'fail': 1663, 'repeal': 3745, 'replace': 3748, 'obamacare': 3082, 'promise': 3516, 'sept': 4031, 'state': 4278, 'past': 3254, 'include': 2230, 'colorado': 839, 'california': 619, 'utah': 4764, 'ohio': 3118, 'pennsylvania': 3282, 'expect': 1616, 'end': 1490, 'accord': 37, 'family': 1676, 'foundation': 1814, 'anticipate': 210, 'run': 3895, 'march': 2745, 'extend': 1638, 'community': 871, 'center': 689, 'billion': 467, 'medicaid': 2800, 'puerto': 3558, 'rico': 3834, 'hard': 2026, 'hit': 2102, 'recent': 3656, 'hurricane': 2163, 'controversial': 980, 'provision': 3547, 'affect': 94, 'affordable': 98, 'care': 645, 'act': 53, 'barack': 391, 'obama': 3081, 'signature': 4115, 'domestic': 1353, 'policy': 3377, 'achievement': 47, 'slash': 4150, 'law': 2563, 'prevention': 3466, 'public': 3554, 'fund': 1857, 'thing': 4527, 'help': 2072, 'fight': 1727, 'epidemic': 1531, 'make': 2711, 'easy': 1416, 'kick': 2487, 'non': 3043, 'payment': 3270, 'premium': 3446, 'greg': 1964, 'point': 3371, 'block': 498, 'cut': 1095, 'hospital': 2130, 'occur': 3100, 'criticize': 1063, 'ask': 277, 'medicare': 2802, 'wealthy': 4873, 'percent': 3288, 'beneficiary': 443, 'pay': 3269, 'nra': 3066, 'commercial': 858, 'stupid': 4341, 'brain': 543, 'video': 4802, 'day': 1122, 'parenthood': 3231, 'shooting': 4092, 'spring': 4253, 'leave': 2582, 'dead': 1125, 'injure': 2275, 'national': 2977, 'rifle': 3838, 'association': 299, 'dumb': 1398, 'pro': 3489, 'gun': 1990, 'likely': 2633, 'see': 4004, 'aftermath': 104, 'mass': 2766, 'pop': 3393, 'television': 4488, 'screen': 3977, 'multiple': 2951, 'time': 4549, 'single': 4133, 'little': 2645, 'title': 4556, 'door': 1360, 'scary': 3954, 'begin': 424, 'close': 796, 'executive': 1604, 'vice': 4799, 'start': 4277, 'didn': 1259, 'choose': 747, 'target': 4460, 'age': 107, 'terror': 4508, 'speak': 4222, 'music': 2960, 'play': 3359, 'background': 361, 'black': 483, 'photo': 3327, 'ordinary': 3150, 'american': 173, 'scene': 3956, 'flash': 1763, 'innocent': 2280, 'slaughter': 4152, 'come': 846, 'worship': 4954, 'educate': 1429, 'live': 2646, 'right': 3840, 'roof': 3873, 'walk': 4839, 'church': 757, 'murder': 2954, 'firearm': 1751, 'pray': 3430, 'adam': 64, 'sandy': 3931, 'hook': 2121, 'elementary': 1454, 'school': 3962, 'shawn': 4070, 'fill': 1734, 'old': 3123, 'body': 512, 'bullet': 592, 'north': 3050, 'carolina': 653, 'crazy': 1044, 'mother': 2930, 'friend': 1840, 'etc': 1564, 'constantly': 949, 'fear': 1700, 'solution': 4191, 'evil': 1584, 'knock': 2509, 'americans': 174, 'power': 3424, 'planet': 3354, 'share': 4062, 'defend': 1160, 'second': 3995, 'amendment': 171, 'solve': 4192, 'realize': 3646, 'sure': 4394, 'sound': 4205, 'perfectly': 3293, 'describe': 1216, 'wing': 4924, 'wage': 4835, 'decade': 1138, 'safe': 3912, 'brother': 576, 'place': 3348, 'sacred': 3907, 'country': 1027, 'muslim': 2961, 'actively': 56, 'arm': 260, 'organization': 3153, 'reason': 3647, 'die': 1260, 'hypocrisy': 2169, 'feature': 1701, 'image': 2195, 'screenshot': 3980, 'senior': 4020, 'diplomat': 1273, 'political': 3380, 'affair': 92, 'thomas': 4531, 'deputy': 1214, 'foreign': 1795, 'minister': 2863, 'sergei': 4034, 'department': 1200, 'set': 4044, 'cancel': 630, 'early': 1407, 'united': 4727, 'states': 4280, 'individual': 2250, 'list': 2641, 'sanction': 3927, 'activity': 58, 'ukraine': 4678, 'book': 526, 'heather': 2063, 'nauert': 2988, 'reporter': 3753, 'dakota': 1102, 'governor': 1940, 'pipeline': 3340, 'build': 590, 'doug': 1364, 'take': 4446, 'office': 3111, 'height': 2067, 'tension': 4499, 'surround': 4406, 'access': 31, 'believe': 435, 'eventually': 1580, 'opponent': 3139, 'clean': 780, 'protest': 3536, 'camp': 625, 'create': 1045, 'potential': 3417, 'disaster': 1290, 'centrist': 692, 'prior': 3479, 'experience': 1621, 'elect': 1445, 'landslide': 2540, 'platform': 3358, 'improve': 2219, 'relation': 3715, 'successful': 4358, 'software': 4184, 'business': 606, 'sell': 4014, 'microsoft': 2840, 'corp': 1007, 'approval': 241, 'appear': 225, 'conclusion': 906, 'move': 2939, 'world': 4949, 'dramatically': 1375, 'relative': 3717, 'find': 1743, 'resolution': 3780, 'interview': 2334, 'energy': 1496, 'transfer': 4609, 'partner': 3246, 'coalition': 811, 'native': 2983, 'group': 1970, 'environmentalist': 1526, 'hollywood': 2110, 'star': 4274, 'veteran': 4796, 'armed': 261, 'force': 1792, 'oil': 3119, 'project': 3513, 'hold': 2105, 'number': 3070, 'shrink': 4104, 'size': 4142, 'winter': 4926, 'contend': 964, 'construction': 955, 'damage': 1104, 'land': 2538, 'leak': 2577, 'water': 4865, 'supply': 4384, 'stand': 4270, 'rock': 3859, 'tribe': 4634, 'key': 2484, 'permit': 3300, 'complete': 883, 'review': 3816, 'decision': 1142, 'local': 2654, 'enforcement': 1498, 'voice': 4824, 'concern': 901, 'cause': 673, 'area': 251, 'protester': 3537, 'strain': 4314, 'resource': 3783, 'david': 1120, 'chairman': 704, 'let': 2607, 'court': 1033, 'threaten': 4536, 'environment': 1524, 'vehicle': 4782, 'dozen': 1368, 'temporary': 4494, 'abandon': 2, 'sit': 4138, 'flood': 1774, 'plain': 3350, 'rain': 3607, 'carry': 655, 'material': 2774, 'away': 352, 'enormous': 1508, 'flow': 1777, 'tribal': 4633, 'rudy': 3890, 'giuliani': 1914, 'lose': 2675, 'medium': 2805, 'will': 4915, 'talk': 4451, 'benghazi': 445, 'allege': 151, 'election': 1446, 'rig': 3839, 'usual': 4762, 'allegation': 150, 'evidence': 1583, 'supporter': 4386, 'decide': 1141, 'sway': 4421, 'favor': 1694, 'big': 462, 'liberal': 2618, 'advisor': 87, 'repeat': 3746, 'claim': 770, 'abc': 5, 'sunday': 4380, 'stop': 4309, 'conspiracy': 946, 'theory': 4523, 'bias': 458, 'response': 3787, 'polling': 3386, 'challenger': 706, 'enjoy': 1507, 'comfortable': 851, 'co': 808, 'host': 2131, 'martha': 2759, 'present': 3452, 'remark': 3730, 'newt': 3023, 'gingrich': 1910, 'give': 1915, 'current': 1089, 'race': 3595, 'unacceptable': 4685, 'acceptable': 29, 'win': 4921, 'prove': 3542, 'way': 4869, 'respond': 3785, 'negative': 3000, 'attention': 317, 'receive': 3655, 'feud': 1721, 'khan': 2486, 'compare': 873, 'media': 2798, 'think': 4528, 'don': 1355, 'example': 1592, 'lie': 2626, 'gold': 1925, 'pre': 3432, 'smith': 4170, 'sean': 3987, 'kill': 2491, 'secure': 4002, 'mission': 2876, 'september': 4032, 'far': 1681, 'know': 2510, 'press': 3458, 'isn': 2373, 'couldn': 1019, 'possibly': 3411, 'grand': 1949, 'idea': 2175, 'insult': 2298, 'war': 4846, 'hero': 2080, 'try': 4653, 'fact': 1656, 'dangerous': 1111, 'man': 2722, 'bully': 594, 'watch': 4863, 'segment': 4008, 'lady': 2535, 'view': 4804, 'hilariously': 2091, 'throw': 4539, 'twitter': 4669, 'fit': 1757, 'snl': 4174, 'saturday': 3939, 'night': 3032, 'depict': 1204, 'whine': 4899, 'baby': 357, 'general': 1888, 'consensus': 937, 'tantrum': 4456, 'instead': 2293, 'focus': 1780, 'comedy': 848, 'nation': 2976, 'lead': 2573, 'electoral': 1448, 'college': 829, 'panel': 3220, 'notice': 3059, 'probably': 3490, 'narrowly': 2973, 'popular': 3395, 'aggression': 111, 'necessary': 2997, 'especially': 1553, 'check': 732, 'ridiculous': 3837, 'doesn': 1349, 'mirror': 2870, 'behave': 428, 'maybe': 2781, 'look': 2667, 'opinion': 3138, 'america': 172, 'feel': 1709, 'rant': 3622, 'laugh': 2556, 'bit': 478, 'december': 1139, 'capture': 641, 'paul': 3266, 'ryan': 3903, 'admit': 75, 'future': 1867, 'gop': 1931, 'folk': 1782, 'speaker': 4223, 'pull': 3560, 'consideration': 942, 'spirit': 4241, 'bad': 364, 'pretty': 3463, 'embarrassing': 1464, 'note': 3058, 'blame': 487, 'huge': 2149, 'loss': 2677, 'opposition': 3143, 'govern': 1936, 'grow': 1971, 'pain': 3206, 'today': 4559, 'dream': 1377, 'strip': 4330, 'reflect': 3684, 'moment': 2905, 'use': 4759, 'improvement': 2220, 'universal': 4729, 'effort': 1437, 'voter': 4829, 'actually': 62, 'equally': 1536, 'horrible': 2125, 'utter': 4766, 'beautiful': 420, 'word': 4944, 'hear': 2058, 'half': 2006, 'population': 3397, 'remain': 3729, 'opportunity': 3140, 'fantastic': 1680, 'well': 4891, 'oppose': 3141, 'hateful': 2043, 'destruction': 1229, 'dear': 1132, 'shame': 4060, 'admission': 74, 'cbs': 676, 'news': 3021, 'screengrab': 3978, 'penny': 3283, 'asia': 274, 'trip': 4639, 'deal': 1128, 'priority': 3481, 'mike': 2846, 'pence': 3279, 'short': 4095, 'final': 1736, 'leg': 2589, 'administration': 70, 'face': 1652, 'critical': 1061, 'tax': 4463, 'reform': 3685, 'aide': 123, 'travel': 4622, 'reassure': 3649, 'ally': 158, 'commitment': 862, 'region': 3694, 'originally': 3158, 'spend': 4234, 'south': 4207, 'korea': 2515, 'japan': 2395, 'indonesia': 2251, 'australia': 329, 'leader': 2574, 'rise': 3847, 'nuclear': 3068, 'test': 4511, 'conduct': 912, 'soon': 4200, 'defiance': 1165, 'nations': 2981, 'hawaii': 2050, 'slate': 4151, 'morning': 2924, 'air': 126, 'busy': 609, 'ahead': 120, 'appropriate': 239, 'lawmaker': 2566, 'shut': 4105, 'pundit': 3563, 'assess': 289, 'initial': 2271, 'accomplishment': 36, 'young': 4983, 'outline': 3170, 'principle': 3477, 'brief': 560, 'command': 852, 'troop': 4643, 'tour': 4583, 'arizona': 258, 'memorial': 2815, 'harbor': 2025, 'long': 2664, 'goal': 1923, 'missile': 2875, 'seoul': 4026, 'reach': 3635, 'military': 2849, 'agency': 108, 'kim': 2494, 'jong': 2434, 'un': 4683, 'order': 3149, 'range': 3618, 'pacific': 3201, 'ocean': 3101, 'establish': 1559, 'real': 3644, 'dare': 1113, 'option': 3146, 'pyongyang': 3575, 'fire': 1750, 'prompt': 3519, 'signal': 4114, 'diplomacy': 1272, 'wear': 4875, 'thin': 4526, 'taiwan': 4445, 'activist': 57, 'china': 742, 'open': 3131, 'hearing': 2059, 'beijing': 430, 'trial': 4632, 'disappear': 1287, 'visit': 4819, 'mainland': 2705, 'suspicion': 4415, 'authority': 334, 'lee': 2586, 'teacher': 4471, 'human': 2151, 'advocate': 90, 'confirm': 919, 'detain': 1233, 'tense': 4498, 'tie': 4544, 'self': 4013, 'rule': 3892, 'island': 2372, 'city': 766, 'central': 690, 'province': 3545, 'answer': 206, 'telephone': 4486, 'stream': 4320, 'increase': 2234, 'proceeding': 3496, 'push': 3572, 'judicial': 2449, 'transparency': 4616, 'sensitive': 4022, 'case': 659, 'tool': 4572, 'demonstrate': 1191, 'usually': 4763, 'defendant': 1161, 'outcome': 3166, 'photograph': 3328, 'announcement': 201, 'date': 1117, 'circulate': 761, 'online': 3129, 'genuine': 1895, 'alongside': 159, 'suspect': 4412, 'crime': 1055, 'clear': 782, 'relationship': 3716, 'wife': 4909, 'contact': 961, 'husband': 2165, 'council': 1021, 'thursday': 4541, 'apply': 232, 'document': 1345, 'arrange': 264, 'difficult': 1265, 'particularly': 3243, 'tsai': 4654, 'independence': 2239, 'lean': 2579, 'progressive': 3511, 'regard': 3691, 'bring': 565, 'proudly': 3541, 'interest': 2317, 'communist': 870, 'breitbart': 553, 'editor': 1426, 'bannon': 389, 'departure': 1201, 'declare': 1145, 'left': 2587, 'statue': 4284, 'great': 1958, 'steve': 4300, 'ben': 440, 'august': 326, 'hashtag': 2037, 'andrew': 188, 'main': 2703, 'mainstream': 2707, 'establishment': 1560, 'debate': 1134, 'wish': 4932, 'happen': 2020, 'side': 4109, 'chance': 709, 'zimbabwean': 4994, 'farmer': 1685, 'harare': 2022, 'property': 3525, 'june': 2455, 'sign': 4113, 'robert': 3856, 'mugabe': 2948, 'good': 1929, 'respect': 3784, 'agricultural': 118, 'rob': 3854, 'smart': 4166, 'eastern': 1415, 'district': 1330, 'understand': 4704, 'mnangagwa': 2886, 'violent': 4811, 'investment': 2345, 'conference': 914, 'apparently': 223, 'flip': 1771, 'provincial': 3546, 'monica': 2910, 'assure': 302, 'reverse': 3815, 'farm': 1684, 'small': 4165, 'score': 3970, 'worker': 4946, 'riot': 3844, 'police': 3375, 'tear': 4474, 'gas': 1878, 'assault': 284, 'gear': 1886, 'wasn': 4860, 'compound': 892, 'reuter': 3810, 'plot': 3365, 'liberation': 2619, 'businessman': 607, 'zimbabwe': 4993, 'economy': 1421, 'collapse': 823, 'seizure': 4010, 'thousand': 4534, 'own': 3196, 'banner': 388, 'colonial': 837, 'resign': 3776, 'wake': 4838, 'de': 1124, 'facto': 1659, 'coup': 1029, 'pave': 3268, 'purge': 3568, 'southern': 4209, 'african': 103, 'chris': 748, 'special': 4224, 'treatment': 4627, 'restore': 3792, 'want': 4845, 'citizen': 764, 'belong': 437, 'work': 4945, 'track': 4592, 'steal': 4290, 'allow': 157, 'staff': 4263, 'production': 3502, 'mentally': 2818, 'bloody': 502, 'nice': 3026, 'gowdy': 1941, 'matter': 2776, 'bash': 404, 'latino': 2553, 'rely': 3728, 'heavily': 2064, 'inflammatory': 2260, 'illegal': 2190, 'immigration': 2200, 'drive': 1384, 'hispanic': 2097, 'poll': 3385, 'call': 620, 'address': 68, 'failure': 1664, 'advocacy': 89, 'value': 4774, 'tight': 4545, 'nominee': 3042, 'operative': 3136, 'ideal': 2176, 'spur': 4254, 'picture': 3334, 'encourage': 1488, 'register': 3696, 'billionaire': 468, 'presumptive': 3461, 'wave': 4868, 'mexico': 2831, 'send': 4019, 'rapist': 3626, 'drug': 1389, 'dealer': 1129, 'border': 530, 'vow': 4831, 'wall': 4841, 'round': 3881, 'deport': 1208, 'undocumented': 4709, 'immigrant': 2199, 'contrast': 975, 'contender': 965, 'runner': 3896, 'senator': 4018, 'bernie': 452, 'sanders': 3930, 'vermont': 4790, 'path': 3258, 'legal': 2591, 'status': 4285, 'nominate': 3039, 'latinos': 2554, 'consider': 941, 'candidate': 633, 'running': 3897, 'mate': 2772, 'labor': 2531, 'secretary': 3997, 'perez': 3291, 'housing': 2140, 'urban': 4755, 'development': 1248, 'julian': 2451, 'castro': 664, 'solid': 4189, 'base': 402, 'leadership': 2575, 'agenda': 109, 'director': 1280, 'league': 2576, 'latin': 2552, 'constitute': 951, 'electorate': 1449, 'mitt': 2883, 'romney': 3870, 'analysis': 181, 'exit': 1612, 'pew': 3317, 'stress': 4325, 'member': 2811, 'nonpartisan': 3044, 'education': 1430, 'back': 358, 'delegation': 1176, 'outreach': 3175, 'strategy': 4319, 'merely': 2821, 'participant': 3239, 'candidacy': 632, 'term': 4501, 'cycle': 1097, 'committee': 864, 'spokesman': 4243, 'broad': 568, 'voting': 4830, 'position': 3405, 'infrastructure': 2270, 'participation': 3241, 'teach': 4470, 'maria': 2748, 'condemn': 908, 'civilian': 769, 'death': 1133, 'attack': 311, 'east': 1414, 'libya': 2623, 'tripoli': 4641, 'strike': 4328, 'libyan': 2624, 'late': 2550, 'medical': 2801, 'source': 4206, 'resident': 3775, 'operation': 3135, 'high': 2085, 'toll': 4564, 'km': 2505, 'mile': 2847, 'west': 4894, 'egyptian': 1441, 'islamist': 2371, 'militant': 2848, 'rebel': 3650, 'victim': 4800, 'siege': 4111, 'army': 262, 'egypt': 1440, 'last': 2549, 'hour': 2137, 'al': 132, 'responsible': 3789, 'tv': 4665, 'station': 4282, 'plane': 3353, 'terrorist': 4510, 'ministry': 2864, 'denounce': 1196, 'announce': 200, 'islamic': 2370, 'following': 1785, 'versus': 4792, 'glenn': 1917, 'beck': 421, 'palin': 3216, 'rip': 3846, 'apart': 217, 'grab': 1943, 'everybody': 1581, 'tea': 4469, 'civil': 768, 'rage': 3604, 'radar': 3600, 'alaska': 136, 'clown': 803, 'anti': 209, 'iran': 2354, 'rally': 3611, 'honestly': 2118, 'clip': 794, 'hell': 2070, 'ted': 4480, 'cruz': 1076, 'course': 1032, 'mean': 2792, 'anybody': 214, 'village': 4807, 'idiot': 2181, 'endorse': 1492, 'sam': 3923, 'cartoon': 658, 'facebook': 1653, 'taxis': 4464, 'few': 1722, 'regulation': 3702, 'constitution': 952, 'sad': 3909, 'excuse': 1601, 'god': 1924, 'wrong': 4964, 'justify': 2460, 'eye': 1650, 'shoulder': 4099, 'ear': 1406, 'page': 3205, 'love': 2683, 'whatsoever': 4897, 'socialist': 4181, 'life': 2628, 'growth': 1972, 'conservative': 940, 'reference': 3681, 'john': 2426, 'mccain': 2785, 'slam': 4148, 'proclaim': 3498, 'hatred': 2045, 'write': 4961, 'disagree': 1285, 'cry': 1077, 'mock': 2892, 'consistent': 943, 'ballistic': 377, 'read': 3639, 'ramp': 3613, 'faith': 1667, 'acknowledge': 48, 've': 4780, 'cdata': 677, 'js': 2445, 'return': 3807, 'script': 3982, 'february': 1703, 'deliver': 1180, 'direct': 1276, 'definitely': 1168, 'november': 3064, 'happy': 2021, 'flickr': 1768, 'czech': 1098, 'spread': 4252, 'benefit': 444, 'strong': 4331, 'shift': 4079, 'social': 4179, 'wednesday': 4880, 'graphic': 1951, 'click': 788, 'trail': 4603, 'movement': 2940, 'double': 1362, 'oct': 3102, 'attract': 320, 'economic': 1419, 'republic': 3759, 'large': 2544, 'auto': 337, 'sector': 4001, 'quarter': 3582, 'shortage': 4096, 'demand': 1185, 'private': 3485, 'salary': 3916, 'society': 4182, 'prosperity': 3533, 'lift': 2630, 'living': 2647, 'standard': 4271, 'western': 4895, 'europe': 1570, 'outgoing': 3168, 'raise': 3608, 'minimum': 2861, 'crown': 1071, 'effect': 1434, 'model': 2894, 'margin': 2747, 'company': 872, 'dependent': 1203, 'cheap': 730, 'echo': 1418, 'export': 1633, 'industry': 2254, 'maintain': 2708, 'german': 1899, 'counterpart': 1026, 'catch': 669, 'neighbor': 3005, 'step': 4297, 'eu': 1568, 'bloc': 497, 'brexit': 555, 'interested': 2318, 'observer': 3088, 'euro': 1569, 'zone': 4996, 'join': 2428, 'quickly': 3588, 'encounter': 1487, 'stance': 4269, 'differ': 1261, 'prime': 3474, 'currency': 1088, 'form': 1802, 'absolute': 19, 'majority': 2710, 'previous': 3467, 'parliament': 3234, 'charge': 719, 'founder': 1815, 'fraud': 1828, 'draw': 1376, 'subsidy': 4352, 'wrongdoing': 4965, 'cabinet': 613, 'tough': 4582, 'prosecute': 3529, 'fox': 1817, 'intelligence': 2308, 'refusal': 3689, 'interference': 2321, 'turn': 4662, 'vladimir': 4822, 'putin': 3574, 'cia': 758, 'conclude': 905, 'hack': 1997, 'dnc': 1343, 'propaganda': 3522, 'influence': 2263, 'commit': 861, 'espionage': 1554, 'james': 2390, 'clapper': 771, 'testify': 4512, 'expert': 1622, 'lot': 2678, 'cyber': 1096, 'fake': 1668, 'kremlin': 2519, 'commission': 859, 'generate': 1890, 'pack': 3202, 'package': 3203, 'mind': 2857, 'figure': 1730, 'assange': 281, 'arrest': 266, 'question': 3584, 'snap': 4173, 'russians': 3902, 'meddle': 2796, 'trust': 4651, 'thank': 4518, 'doubt': 1363, 'interfere': 2320, 'precisely': 3434, 'unfit': 4713, 'enemy': 1495, 'afford': 97, 'refuse': 3690, 'vulnerable': 4833, 'clearly': 784, 'problem': 3492, 'jeff': 2403, 'mitchell': 2882, 'getty': 1905, 'convention': 983, 'cleveland': 787, 'judge': 2447, 'authorize': 336, 'visible': 4817, 'dan': 1108, 'aaron': 0, 'event': 1579, 'demonstration': 1192, 'limit': 2634, 'agreement': 117, 'liberty': 2621, 'union': 4723, 'resolve': 3781, 'result': 3797, 'clash': 775, 'settlement': 4048, 'significant': 4116, 'previously': 3468, 'link': 2639, 'aclu': 49, 'sue': 4365, 'behalf': 426, 'organize': 3154, 'demonstrator': 1193, 'williams': 4917, 'mayor': 2782, 'jackson': 2386, 'minor': 2867, 'security': 4003, 'risk': 3848, 'square': 4256, 'site': 4139, 'free': 1831, 'speech': 4230, 'original': 3157, 'settle': 4047, 'lawsuit': 2568, 'reveal': 3812, 'able': 12, 'remove': 3736, 'port': 3399, 'airport': 130, 'corporate': 1008, 'jet': 2413, 'service': 4041, 'parade': 3226, 'route': 3882, 'deeply': 1155, 'sport': 4248, 'arena': 253, 'delegate': 1175, 'town': 4587, 'bridge': 559, 'addition': 66, 'grant': 1950, 'extra': 1643, 'file': 1731, 'texas': 4515, 'northeast': 3051, 'homeless': 2115, 'charitable': 720, 'break': 551, 'manafort': 2723, 'gov': 1935, 'manager': 2726, 'boss': 532, 'scare': 3952, 'shady': 4057, 'owe': 3195, 'entity': 1520, 'laundering': 2558, 'invest': 2340, 'dubious': 1395, 'practice': 3428, 'gain': 1870, 'daughter': 1119, 'hate': 2042, 'blood': 501, 'alert': 140, 'attend': 314, 'jared': 2397, 'kushner': 2526, 'gather': 1881, 'politic': 3379, 'involve': 2350, 'familiar': 1675, 'drag': 1371, 'contradict': 973, 'associate': 297, 'agent': 110, 'raid': 3605, 'investigation': 2342, 'financial': 1740, 'mueller': 2947, 'wise': 4931, 'follow': 1783, 'banking': 386, 'record': 3668, 'tweet': 4666, 'fbi': 1697, 'sick': 4108, 'sex': 4052, 'scandal': 3949, 'roll': 3866, 'entire': 1516, 'save': 3943, 'skin': 4145, 'drew': 1380, 'angerer': 193, 'trade': 4593, 'stage': 4265, 'manufacture': 2738, 'deficit': 1166, 'abuse': 23, 'chapter': 716, 'message': 2826, 'loud': 2679, 'manufacturing': 2740, 'oval': 3181, 'espn': 1555, 'female': 1716, 'employ': 1478, 'leftist': 2588, 'disney': 1311, 'strange': 4315, 'determine': 1240, 'type': 4670, 'network': 3016, 'baseball': 403, 'contrary': 974, 'meme': 2813, 'personal': 3304, 'sleep': 4155, 'room': 3874, 'design': 1220, 'differently': 1264, 'pathetic': 3259, 'advise': 85, 'employment': 1481, 'terminate': 4503, 'controversy': 981, 'radio': 3602, 'explain': 1624, 'racist': 3599, 'heat': 2061, 'got': 1934, 'retweete': 3809, 'extremist': 1648, 'nazi': 2991, 'isis': 2367, 'suspend': 4413, 'mistake': 2879, 'truth': 4652, 'tolerate': 4563, 'beloved': 438, 'radical': 3601, 'islam': 2368, 'soft': 4183, 'spot': 4249, 'important': 2213, 'suspension': 4414, 'horrific': 2126, 'stephen': 4298, 'baltimore': 380, 'ray': 3634, 'rice': 3830, 'beat': 419, 'girlfriend': 1912, 'learn': 2580, 'element': 1453, 'provocation': 3548, 'prevent': 3465, 'situation': 4140, 'suggest': 4369, 'protect': 3534, 'invade': 2338, 'restroom': 3795, 'incident': 2228, 'drunk': 1390, 'slap': 4149, 'ultimate': 4680, 'different': 1263, 'coverage': 1036, 'simply': 4127, 'equality': 1535, 'gender': 1887, 'wouldn': 4956, 'comply': 890, 'daily': 1101, 'wire': 4928, 'launch': 2557, 'syrian': 4438, 'refugee': 3688, 'king': 2497, 'barry': 400, 'coordinate': 997, 'dc': 1123, 'resettle': 3772, 'emotional': 1474, 'blackmail': 486, 'nearly': 2995, 'resettlement': 3773, 'promote': 3517, 'concept': 900, 'welcome': 4889, 'propose': 3528, 'halt': 2008, 'intensify': 2311, 'coordination': 998, 'isil': 2366, 'insist': 2286, 'vet': 4795, 'website': 4878, 'assistant': 296, 'homeland': 2114, 'amy': 180, 'pope': 3394, 'reject': 3712, 'flawed': 1765, 'ensure': 1511, 'safety': 3914, 'desperately': 1225, 'seek': 4005, 'miner': 2860, 'argue': 255, 'london': 2662, 'firm': 1753, 'represent': 3755, 'illustrate': 2194, 'mining': 2862, 'pact': 3204, 'acquire': 50, 'reasonable': 3648, 'deadly': 1127, 'fed': 1704, 'peru': 3310, 'tend': 4496, 'excessive': 1596, 'action': 54, 'harm': 2030, 'appeal': 224, 'operate': 3134, 'loyal': 2686, 'defender': 1162, 'poor': 3391, 'remote': 3734, 'lack': 2533, 'basic': 406, 'shoot': 4090, 'unrest': 4743, 'snowden': 4176, 'wikileak': 4910, 'vault': 4779, 'classify': 778, 'universe': 4730, 'century': 693, 'capability': 635, 'allegedly': 153, 'lay': 2570, 'bare': 394, 'publication': 3555, 'publish': 3557, 'series': 4036, 'zero': 4991, 'classified': 777, 'history': 2101, 'unknown': 4732, 'explore': 1630, 'suspicious': 4416, 'tech': 4475, 'disclose': 1293, 'revelation': 3813, 'content': 966, 'expose': 1635, 'investigative': 2343, 'field': 1724, 'portion': 3401, 'mention': 2819, 'confidential': 918, 'entitle': 1518, 'contain': 962, 'alleged': 152, 'jfk': 2416, 'piece': 3335, 'wind': 4922, 'comprise': 894, 'isolated': 2375, 'inside': 2283, 'virginia': 4813, 'name': 2969, 'exploit': 1629, 'surprise': 4400, 'analyst': 182, 'researcher': 3769, 'edward': 1432, 'explicit': 1626, 'confirmation': 920, 'powerful': 3425, 'aid': 122, 'international': 2325, 'infiltrate': 2259, 'vast': 4777, 'apple': 229, 'device': 1249, 'technology': 4479, 'false': 1672, 'mode': 2893, 'microphone': 2839, 'execute': 1602, 'server': 4040, 'simple': 4126, 'define': 1167, 'computer': 896, 'hacker': 1998, 'datum': 1118, 'additional': 67, 'author': 332, 'correct': 1011, 'code': 814, 'particular': 3242, 'malware': 2721, 'chief': 738, 'obtain': 3094, 'contractor': 972, 'similar': 4123, 'scope': 3969, 'impact': 2202, 'collection': 827, 'nsa': 3067, 'display': 1315, 'unprecedented': 4741, 'level': 2609, 'spy': 4255, 'massive': 2769, 'application': 231, 'aspect': 278, 'george': 1897, 'bush': 605, 'light': 2631, 'mark': 2752, 'collect': 826, 'web': 4877, 'san': 3925, 'francisco': 1824, 'worry': 4952, 'secretly': 3999, 'store': 4310, 'download': 1365, 'map': 2741, 'owner': 3197, 'avoid': 347, 'location': 2656, 'newly': 3020, 'identify': 2177, 'specific': 4225, 'weapon': 4874, 'system': 4439, 'virus': 4815, 'dump': 1399, 'apparent': 222, 'hub': 2145, 'hedge': 2066, 'consulate': 957, 'tap': 4457, 'chancellor': 710, 'angela': 190, 'merkel': 2823, 'building': 591, 'personnel': 3307, 'secret': 3996, 'employee': 1479, 'shell': 4074, 'reaction': 3637, 'accept': 28, 'infamous': 2256, 'drone': 1386, 'covert': 1037, 'globe': 1920, 'span': 4217, 'substantial': 4354, 'develop': 1246, 'cell': 686, 'phone': 3325, 'surveillance': 4407, 'technique': 4478, 'comparison': 874, 'embed': 1467, 'branch': 544, 'transform': 4610, 'surely': 4395, 'cooperation': 996, 'kingdom': 2498, 'falsely': 1673, 'recording': 3669, 'conversation': 984, 'internet': 2327, 'privacy': 3484, 'listen': 2642, 'infect': 2257, 'window': 4923, 'hammer': 2011, 'drill': 1381, 'method': 2829, 'hostile': 2133, 'actor': 59, 'secretive': 3998, 'major': 2709, 'critic': 1060, 'journalist': 2441, 'rank': 3619, 'william': 4916, 'forward': 1810, 'inner': 2279, 'working': 4947, 'frame': 1820, 'curious': 1087, 'ability': 11, 'mask': 2764, 'potentially': 3418, 'implicate': 2208, 'forensic': 1797, 'violate': 4808, 'encryption': 1489, 'notable': 3056, 'disclosure': 1294, 'manage': 2724, 'audio': 323, 'traffic': 4599, 'engage': 1499, 'flag': 1760, 'portray': 3403, 'library': 2622, 'federation': 1706, 'hacking': 1999, 'pr': 3426, 'disrupt': 1321, 'democracy': 1186, 'sponsor': 4246, 'institution': 2295, 'bureau': 600, 'attempt': 313, 'october': 3103, 'decree': 1148, 'friendly': 1841, 'outlet': 3169, 'ny': 3075, 'distribute': 1328, 'denial': 1194, 'renew': 3738, 'inability': 2221, 'pass': 3249, 'stall': 4267, 'suddenly': 4364, 'shed': 4071, 'multi': 2950, 'blacklist': 484, 'certain': 696, 'defense': 1163, 'magazine': 2700, 'supposedly': 4389, 'unique': 4724, 'postal': 3413, 'consumer': 960, 'giant': 1907, 'electric': 1450, 'adversary': 82, 'profile': 3506, 'maker': 2712, 'attribute': 321, 'beg': 423, 'creator': 1047, 'blockade': 499, 'michael': 2835, 'spark': 4220, 'stunning': 4340, 'modern': 2896, 'car': 642, 'truck': 4646, 'purpose': 3569, 'specify': 4227, 'assassination': 283, 'revive': 3818, 'rate': 3630, 'speed': 4231, 'flame': 1762, 'uk': 4677, 'sun': 4379, 'recently': 3657, 'tragedy': 4601, 'vocal': 4823, 'colleague': 825, 'buzzfeed': 612, 'stone': 4308, 'contributor': 978, 'immediately': 2198, 'request': 3763, 'counsel': 1022, 'crash': 1043, 'jennifer': 2405, 'investigate': 2341, 'normal': 3048, 'deepen': 1154, 'mystery': 2965, 'naturally': 2986, 'flight': 1769, 'article': 271, 'boeing': 513, 'uninterruptible': 4722, 'involvement': 2351, 'patent': 3257, 'aircraft': 127, 'existence': 1610, 'global': 1918, 'subsequently': 4351, 'british': 567, 'dhs': 1253, 'dedicate': 1150, 'circuit': 760, 'pilot': 3338, 'advanced': 80, 'independently': 2241, 'satellite': 3938, 'nature': 2987, 'airline': 128, 'investigator': 2344, 'subsequent': 4350, 'function': 1856, 'instal': 2291, 'independent': 2240, 'communication': 868, 'root': 3875, 'digital': 1268, 'communicate': 867, 'deep': 1153, 'era': 1541, 'guarantee': 1974, 'master': 2770, 'constitutional': 953, 'guardian': 1976, 'thought': 4533, 'discovery': 1296, 'part': 3236, 'engineering': 1503, 'align': 146, 'currently': 1090, 'brennan': 554, 'tank': 4455, 'total': 4579, 'awareness': 351, 'available': 342, 'danger': 1110, 'near': 2993, 'historical': 2099, 'counter': 1025, 'terrorism': 4509, 'directly': 1279, 'alliance': 156, 'nato': 2984, 'fall': 1669, 'serve': 4039, 'outcry': 3167, 'oversight': 3190, 'patrick': 3261, 'henningsen': 2074, 'peter': 3314, 'cross': 1068, 'rt': 3888, 'summary': 4375, 'amid': 175, 'wiretappe': 4929, 'division': 1339, 'formally': 1804, 'user': 4761, 'scale': 3946, 'accountability': 39, 'publicly': 3556, 'capacity': 637, 'summit': 4377, 'tel': 4485, 'venture': 4786, 'capital': 638, 'person': 3303, 'tag': 4444, 'intercept': 2316, 'app': 221, 'adjust': 69, 'film': 1735, 'warning': 4854, 'protection': 3535, 'hide': 2084, 'sight': 4112, 'shock': 4087, 'writer': 4962, 'insight': 2285, 'perception': 3290, 'kind': 2496, 'criminal': 1057, 'theater': 4519, 'filessupport': 1732, 'subscribe': 4349, 'somali': 4193, 'muslims': 2962, 'taxpayer': 4465, 'dollar': 1352, 'jihad': 2417, 'enter': 1512, 'kennedy': 2478, 'primary': 3473, 'diversity': 1335, 'omar': 3125, 'minnesota': 2866, 'syria': 4437, 'loan': 2650, 'student': 4336, 'plenty': 3364, 'connection': 935, 'head': 2052, 'credit': 1051, 'job': 2424, 'budget': 589, 'game': 1871, 'county': 1028, 'sheriff': 4076, 'associated': 298, 'purchase': 3567, 'ticket': 4543, 'middle': 2842, 'indictment': 2249, 'ahmed': 121, 'savage': 3941, 'minneapolis': 2865, 'seven': 4049, 'iraq': 2356, 'buy': 610, 'nov': 3063, 'istanbul': 2379, 'turkey': 4659, 'greece': 1960, 'pair': 3209, 'board': 508, 'officer': 3112, 'customs': 1094, 'appearance': 226, 'davis': 1121, 'april': 244, 'mohame': 2901, 'accompany': 34, 'informant': 2268, 'intent': 2312, 'schedule': 3958, 'detention': 1236, 'afternoon': 105, 'bundy': 598, 'militia': 2850, 'bag': 366, 'plea': 3361, 'unfortunately': 4715, 'occupy': 3099, 'fun': 1855, 'bunch': 597, 'stuff': 4338, 'patriot': 3262, 'supremacist': 4391, 'jon': 2431, 'complain': 881, 'item': 2383, 'blow': 504, 'box': 537, 'shipping': 4084, 'waste': 4862, 'funny': 1864, 'dick': 1256, 'sweep': 4425, 'table': 4441, 'floor': 1775, 'deter': 1237, 'to': 4557, 'mail': 2702, 'sorry': 4202, 'deployment': 1207, 'sea': 3985, 'pocket': 3369, 'corrupt': 1014, 'politician': 3382, 'marine': 2750, 'deserve': 1219, 'guy': 1996, 'spare': 4219, 'mouth': 2938, 'angry': 194, 'kurz': 2525, 'freedom': 1832, 'austria': 331, 'european': 1571, 'parliamentary': 3235, 'dominate': 1354, 'migration': 2844, 'crisis': 1058, 'shortly': 4097, 'initially': 2272, 'clearance': 783, 'huma': 2150, 'abedin': 9, 'saudi': 3940, 'definition': 1169, 'seriously': 4037, 'arabia': 246, 'core': 1001, 'journal': 2439, 'minority': 2868, 'dean': 1131, 'fair': 1665, 'increasingly': 2235, 'brooklyn': 575, 'chair': 703, 'abdullah': 7, 'couple': 1030, 'twist': 4668, 'backing': 362, 'university': 4731, 'found': 1813, 'institute': 2294, 'hope': 2122, 'legitimate': 2599, 'hassan': 2039, 'fellow': 1712, 'study': 4337, 'sister': 4137, 'dispute': 1316, 'mccarthy': 2786, 'blind': 495, 'abdel': 6, 'bombing': 521, 'brotherhood': 577, 'principal': 3476, 'ideology': 2180, 'effectively': 1436, 'philadelphia': 3321, 'relief': 3722, 'fully': 1854, 'abide': 10, 'religion': 3724, 'persuade': 3309, 'lord': 2672, 'prohibit': 3512, 'ready': 3642, 'culture': 1082, 'sharia': 4064, 'aim': 125, 'violence': 4810, 'dialogue': 1254, 'retain': 3800, 'royal': 3887, 'iron': 2361, 'grip': 1966, 'ban': 381, 'gathering': 1882, 'punishment': 3565, 'sentence': 4023, 'outrage': 3172, 'deem': 1152, 'intense': 2310, 'scrutiny': 3983, 'qaeda': 3576, 'despite': 1226, 'finger': 1746, 'treasury': 4625, 'financing': 1742, 'cnn': 807, 'donation': 1358, 'amount': 179, 'hire': 2096, 'consultant': 959, 'accusation': 43, 'require': 3764, 'bank': 384, 'freeze': 1833, 'asset': 291, 'specifically': 4226, 'loose': 2670, 'el': 1442, 'bin': 469, 'laden': 2534, 'training': 4605, 'afghanistan': 100, 'forge': 1800, 'bond': 523, 'afghan': 99, 'pakistan': 3210, 'fundraiser': 1860, 'seize': 4009, 'charity': 721, 'bear': 417, 'minute': 2869, 'beneath': 442, 'opening': 3132, 'red': 3675, 'extreme': 1645, 'prominent': 3515, 'politically': 3381, 'pakistani': 3211, 'mr': 2943, 'search': 3988, 'street': 4322, 'va': 4768, 'parent': 3230, 'finance': 1739, 'have': 2047, 'funnel': 1863, 'discussion': 1302, 'africa': 102, 'ep': 1528, 'donor': 1359, 'abu': 22, 'challenge': 705, 'bid': 460, 'pressure': 3459, 'unify': 4719, 'unite': 4726, 'rnc': 3852, 'walter': 4843, 'kasich': 2467, 'pick': 3333, 'grapple': 1952, 'upset': 4753, 'offensive': 3109, 'charleston': 723, 'criticism': 1062, 'tactic': 4443, 'strategist': 4318, 'blast': 490, 'impose': 2215, 'coal': 810, 'hat': 2040, 'motion': 2931, 'ass': 279, 'pete': 3313, 'rick': 3833, 'perry': 3301, 'nomination': 3041, 'temporarily': 4493, 'harsh': 2034, 'summer': 4376, 'difference': 1262, 'draft': 1370, 'put': 3573, 'typical': 4671, 'outside': 3177, 'succeed': 4356, 'steven': 4301, 'mnuchin': 2887, 'goldman': 1927, 'sachs': 3905, 'management': 2725, 'loyalty': 2687, 'donate': 1357, 'understanding': 4705, 'historically': 2100, 'depend': 1202, 'suffer': 4366, 'divisive': 1340, 'ron': 3871, 'cover': 1035, 'steer': 4294, 'embassy': 1466, 'religious': 3725, 'cairo': 616, 'assign': 292, 'christian': 750, 'enhance': 1506, 'gunman': 1991, 'christians': 752, 'wound': 4957, 'responsibility': 3788, 'eve': 1577, 'holy': 2112, 'hot': 2135, 'mic': 2834, 'congressman': 931, 'fat': 1689, 'rino': 3842, 'susan': 4411, 'collins': 831, 'sen': 4016, 'jack': 2385, 'reed': 3679, 'maine': 2704, 'shit': 4086, 'transportation': 4619, 'appropriation': 240, 'rep': 3742, 'burr': 602, 'style': 4343, 'collin': 830, 'alexander': 142, 'hamilton': 2010, 'unbelievable': 4690, 'defeat': 1157, 'dark': 1114, 'identity': 2178, 'anonymous': 205, 'active': 55, 'nonprofit': 3045, 'lobby': 2651, 'charles': 722, 'koch': 2512, 'internal': 2324, 'revenue': 3814, 'contribute': 976, 'refer': 3680, 'section': 4000, 'exempt': 1605, 'intend': 2309, 'spending': 4235, 'supreme': 4393, 'corporation': 1009, 'landmark': 2539, 'ruling': 3893, 'irs': 2365, 'enforce': 1497, 'reduce': 3677, 'regulator': 3703, 'data': 1115, 'harassment': 2024, 'suppose': 4388, 'marriage': 2755, 'requirement': 3765, 'congressional': 930, 'impeach': 2203, 'commissioner': 860, 'cooperate': 995, 'probe': 3491, 'ross': 3877, 'easily': 1413, 'investor': 2346, 'wilbur': 4912, 'commerce': 857, 'renegotiate': 3737, 'influential': 2264, 'team': 4473, 'shape': 4061, 'scrap': 3975, 'trans': 4606, 'partnership': 3247, 'partly': 3245, 'endorsement': 1493, 'steel': 4291, 'numerous': 3071, 'plant': 3357, 'class': 776, 'eliminate': 1456, 'ship': 4082, 'overseas': 3188, 'oversee': 3189, 'combat': 843, 'import': 2211, 'cost': 1016, 'market': 2753, 'census': 687, 'weather': 4876, 'regulate': 3701, 'rarely': 3629, 'spotlight': 4250, 'pursue': 3570, 'pledge': 3363, 'designate': 1221, 'canada': 628, 'player': 3360, 'gary': 1877, 'cohn': 817, 'professor': 3505, 'tariff': 4461, 'testimony': 4513, 'downplay': 1366, 'compete': 878, 'chinese': 743, 'estimate': 1562, 'worth': 4955, 'fortune': 1808, 'stamp': 4268, 'utility': 4765, 'confrontation': 923, 'bother': 534, 'daniel': 1112, 'contract': 971, 'food': 1786, 'chemical': 735, 'holding': 2107, 'decline': 1146, 'january': 2394, 'appoint': 233, 'sale': 3917, 'proposal': 3527, 'spin': 4240, 'distribution': 1329, 'renewable': 3739, 'separate': 4027, 'initiative': 2274, 'price': 3469, 'split': 4242, 'costly': 1017, 'shareholder': 4063, 'alien': 144, 'brutal': 582, 'regime': 3693, 'transport': 4618, 'objection': 3084, 'undermine': 4702, 'invite': 2348, 'kid': 2488, 'houston': 2141, 'rest': 3790, 'grave': 1956, 'hand': 2014, 'pander': 3219, 'fence': 1718, 'spencer': 4233, 'neighborhood': 3006, 'disgrace': 1304, 'pause': 3267, 'anniversary': 199, 'celebrate': 683, 'kathy': 2469, 'unable': 4684, 'funeral': 1862, 'accident': 32, 'killer': 2492, 'shoe': 4089, 'puppet': 3566, 'torture': 4577, 'frustration': 1848, 'tone': 4568, 'totally': 4580, 'concerned': 902, 'hasn': 2038, 'omnibus': 3126, 'sanctuary': 3928, 'kate': 2468, 'jail': 2388, 'driver': 1385, 'absurd': 21, 'absolutely': 20, 'kurdish': 2523, 'barzani': 401, 'erbil': 1543, 'kurd': 2522, 'kurdistan': 2524, 'regional': 3695, 'backfire': 360, 'struggle': 4335, 'referendum': 3682, 'overwhelmingly': 3194, 'sympathy': 4435, 'iraqi': 2357, 'secession': 3993, 'suit': 4372, 'baghdad': 367, 'kirkuk': 2499, 'heart': 2060, 'territory': 4507, 'accuse': 44, 'having': 2049, 'survive': 4409, 'brutality': 583, 'saddam': 3910, 'hussein': 2167, 'invasion': 2339, 'topple': 4575, 'autonomous': 340, 'northern': 3053, 'keep': 2473, 'relatively': 3718, 'plague': 3349, 'flock': 1773, 'iranian': 2355, 'paramilitary': 3228, 'mosul': 2929, 'confident': 917, 'overwhelming': 3193, 'joy': 2443, 'shi': 4077, 'ite': 2382, 'advance': 79, 'guerrilla': 1979, 'peshmerga': 3311, 'fighting': 1729, 'mountain': 2937, 'theme': 4521, 'exile': 1608, 'cancer': 631, 'dry': 1391, 'henry': 2075, 'broker': 574, 'crush': 1075, 'tehran': 4484, 'massacre': 2768, 'uprising': 4752, 'gulf': 1989, 'prospect': 3532, 'helicopter': 2069, 'rebellion': 3651, 'flee': 1766, 'hunger': 2159, 'stay': 4288, 'period': 3296, 'autonomy': 341, 'patriotic': 3263, 'barely': 395, 'direction': 1277, 'dismantle': 1309, 'incoming': 2232, 'sustain': 4417, 'optimistic': 3145, 'incompetent': 2233, 'beirut': 431, 'implement': 2206, 'hariri': 2029, 'compliance': 886, 'somalia': 4194, 'sudan': 4362, 'yemen': 4977, 'green': 1962, 'card': 644, 'holder': 2106, 'journey': 2442, 'typically': 4672, 'arab': 245, 'foot': 1788, 'outrageous': 3174, 'scheme': 3959, 'comfort': 850, 'earn': 1408, 'expense': 1619, 'll': 2648, 'forth': 1807, 'process': 3497, 'facilitate': 1654, 'illegally': 2191, 'assistance': 295, 'permanent': 3297, 'arrival': 267, 'officially': 3114, 'eligible': 1455, 'salvador': 3922, 'guatemala': 1977, 'joint': 2429, 'alternative': 163, 'undertake': 4706, 'memo': 2814, 'qualify': 3580, 'citizenship': 765, 'participate': 3240, 'governmental': 1939, 'ngo': 3025, 'deploy': 1206, 'handle': 2016, 'influx': 2265, 'applicant': 230, 'completely': 884, 'initiate': 2273, 'amnesty': 178, 'positive': 3406, 'cultural': 1081, 'humanitarian': 2152, 'basis': 408, 'urgent': 4757, 'express': 1636, 'credible': 1050, 'blue': 505, 'stun': 4339, 'ownership': 3198, 'pat': 3256, 'legally': 2593, 'tribune': 4636, 'rich': 3831, 'factor': 1660, 'economist': 1420, 'sense': 4021, 'annual': 202, 'estate': 1561, 'developer': 1247, 'assessment': 290, 'overlook': 3185, 'net': 3013, 'widely': 4904, 'predict': 3437, 'enterprise': 1513, 'nonsense': 3046, 'trillion': 4638, 'customer': 1093, 'mexican': 2830, 'assume': 300, 'seal': 3986, 'expensive': 1620, 'achieve': 46, 'balance': 373, 'notion': 3061, 'sufficient': 4368, 'saving': 3944, 'pattern': 3265, 'statistic': 4283, 'abroad': 16, 'gross': 1968, 'product': 3501, 'household': 2139, 'worried': 4951, 'tremendous': 4630, 'channel': 712, 'profit': 3507, 'success': 4357, 'solely': 4188, 'boost': 528, 'dent': 1197, 'alan': 134, 'cent': 688, 'translate': 4615, 'generous': 1892, 'factory': 1661, 'openly': 3133, 'shocking': 4088, 'tom': 4565, 'yesterday': 4979, 'dem': 1184, 'connect': 933, 'la': 2529, 'treat': 4626, 'dignity': 1269, 'msnbc': 2946, 'nasty': 2975, 'jersey': 2408, 'brand': 545, 'discredit': 1297, 'turmoil': 4661, 'exactly': 1588, 'outright': 3176, 'fundamental': 1858, 'transformation': 4611, 'research': 3768, 'choice': 745, 'staffer': 4264, 'bust': 608, 'lynch': 2693, 'inform': 2267, 'justice': 2459, 'doj': 1351, 'locate': 2655, 'loretta': 2673, 'prepare': 3448, 'tenure': 4500, 'letter': 2608, 'exist': 1609, 'reopen': 3741, 'surprisingly': 4403, 'inquiry': 2281, 'phoenix': 3324, 'sky': 4147, 'privately': 3486, 'park': 3233, 'mrs': 2944, 'mere': 2820, 'inspector': 2287, 'witness': 4937, 'immunity': 2201, 'mill': 2852, 'brian': 556, 'river': 3850, 'mcauliffe': 2783, 'jill': 2420, 'mccabe': 2784, 'calif': 618, 'sweeping': 4426, 'ammunition': 177, 'possession': 3408, 'assembly': 286, 'kevin': 2483, 'lieutenant': 2627, 'los': 2674, 'angeles': 191, 'introduce': 2337, 'felony': 1714, 'loophole': 2669, 'uncertain': 4692, 'jerry': 2407, 'brown': 578, 'veto': 4797, 'fast': 1688, 'legislature': 2597, 'count': 1024, 'ballot': 379, 'accomplish': 35, 'spill': 4239, 'withdraw': 4934, 'comprehensive': 893, 'legislative': 2595, 'legalize': 2592, 'marijuana': 2749, 'antonio': 213, 'character': 717, 'alabama': 133, 'roy': 3886, 'moore': 2919, 'vietnam': 4803, 'highlight': 2086, 'massachusetts': 2767, 'hatch': 2041, 'retire': 3803, 'praise': 3429, 'ugly': 4675, 'moral': 2920, 'belief': 434, 'outstanding': 3180, 'courtesy': 1034, 'graft': 1947, 'detainee': 1234, 'envoy': 1527, 'corruption': 1015, 'crackdown': 1041, 'ambassador': 166, 'prince': 3475, 'mohammed': 2903, 'salman': 3920, 'bribery': 558, 'milk': 2851, 'urge': 4756, 'riyadh': 3851, 'prosecution': 3530, 'transparent': 4617, 'manner': 2736, 'exercise': 1607, 'harvey': 2036, 'recovery': 3672, 'storm': 4311, 'rape': 3623, 'prison': 3482, 'apartment': 218, 'bed': 422, 'bitch': 479, 'aware': 350, 'girl': 1911, 'confederate': 913, 'ground': 1969, 'cleansing': 781, 'reminder': 3733, 'michelle': 2837, 'sacrifice': 3908, 'tradition': 4596, 'tall': 4453, 'tale': 4448, 'ignore': 2186, 'timeline': 4550, 'bright': 563, 'object': 3083, 'reading': 3641, 'procedural': 3493, 'third': 4530, 'plus': 3367, 'amend': 170, 'fifth': 1726, 'update': 4748, 'statewide': 4281, 'fate': 1691, 'soldier': 4186, 'monument': 2917, 'recess': 3658, 'caucus': 672, 'tomorrow': 4566, 'planned': 3355, 'hall': 2007, 'aisle': 131, 'removal': 3735, 'larry': 2546, 'martin': 2760, 'sort': 4203, 'capitol': 639, 'chamber': 707, 'threshold': 4537, 'survey': 4408, 'arrive': 268, 'nelson': 3009, 'nikki': 3035, 'kelly': 2475, 'commander': 853, 'honor': 2120, 'task': 4462, 'natural': 2985, 'threat': 4535, 'caribbean': 649, 'proponent': 3526, 'guantanamo': 1973, 'bay': 413, 'cuba': 1079, 'taliban': 4450, 'career': 646, 'patrol': 3264, 'escape': 1551, 'backlash': 363, 'murderer': 2955, 'services': 4042, 'dire': 1275, 'leverage': 2610, 'smuggling': 4172, 'sentiment': 4025, 'mattis': 2778, 'pentagon': 3285, 'flynn': 1779, 'bench': 441, 'transition': 4614, 'kansas': 2465, 'visa': 4816, 'hopeful': 2123, 'sympathetic': 4434, 'migrant': 2843, 'reality': 3645, 'backer': 359, 'credential': 1048, 'popularity': 3396, 'morale': 2921, 'newspaper': 3022, 'serial': 4035, 'sexual': 4054, 'liar': 2617, 'frontrunner': 1845, 'upcoming': 4747, 'sink': 4134, 'desperate': 1224, 'deflect': 1170, 'laureate': 2560, 'immediate': 2197, 'bloomberg': 503, 'dept': 1212, 'pump': 3561, 'exact': 1587, 'soros': 4201, 'stir': 4305, 'aggressive': 112, 'ad': 63, 'regardless': 3692, 'skill': 4144, 'rio': 3843, 'legislator': 2596, 'commodity': 865, 'quality': 3581, 'marketing': 2754, 'campus': 627, 'odd': 3104, 'chile': 741, 'appointment': 235, 'youth': 4984, 'examination': 1589, 'filing': 1733, 'affiliate': 95, 'jump': 2453, 'millennial': 2853, 'cap': 634, 'yellow': 4976, 'shirt': 4085, 'li': 2615, 'unlikely': 4736, 'fan': 1679, 'song': 4199, 'xi': 4966, 'nationalist': 2978, 'vision': 4818, 'traditional': 4597, 'mobile': 2890, 'opt': 3144, 'crack': 1040, 'entertainment': 1514, 'narrow': 2972, 'stick': 4303, 'band': 382, 'generation': 1891, 'boy': 538, 'follower': 1784, 'audience': 322, 'broadcaster': 570, 'hundred': 2157, 'defence': 1159, 'pace': 3200, 'english': 1505, 'forget': 1801, 'dog': 1350, 'viral': 4812, 'feed': 1708, 'elite': 1457, 'rebuke': 3653, 'tribunal': 4635, 'frequently': 1836, 'exchange': 1597, 'touch': 4581, 'pollution': 3388, 'revolution': 3820, 'chaos': 715, 'dismiss': 1310, 'machine': 2694, 'roughly': 3879, 'art': 270, 'internationally': 2326, 'artist': 272, 'fierce': 1725, 'finally': 1738, 'bird': 473, 'stadium': 4262, 'olympic': 3124, 'sideline': 4110, 'producer': 3500, 'difficulty': 1266, 'topic': 4574, 'anthem': 207, 'sing': 4130, 'embrace': 1468, 'wolf': 4938, 'warrior': 4857, 'organizer': 3155, 'award': 349, 'healthy': 2057, 'jinping': 2423, 'distance': 1326, 'complicated': 888, 'jake': 2389, 'tapper': 4459, 'humiliate': 2154, 'grade': 1945, 'historic': 2098, 'rating': 3631, 'brag': 542, 'tune': 4657, 'herald': 2077, 'flexibility': 1767, 'unemployment': 4710, 'phony': 3326, 'bomb': 519, 'shutdown': 4106, 'loom': 2668, 'ii': 2187, 'vacation': 4770, 'loser': 2676, 'sum': 4374, 'successfully': 4359, 'comey': 849, 'stark': 4276, 'description': 1217, 'manipulate': 2734, 'expel': 1618, 'carter': 657, 'penalty': 3278, 'retaliation': 3802, 'oregon': 3151, 'jan': 2391, 'legitimacy': 2598, 'victory': 4801, 'guccifer': 1978, 'examine': 1590, 'detect': 1235, 'wide': 4903, 'factbox': 1657, 'google': 1930, 'convene': 982, 'headquarters': 2054, 'session': 4043, 'attendee': 316, 'ceo': 694, 'inc': 2225, 'tim': 4548, 'cook': 992, 'intel': 2306, 'alex': 141, 'lobbyist': 2653, 'bigotry': 464, 'lobbying': 2652, 'instance': 2292, 'florida': 1776, 'mogul': 2900, 'fraudulent': 1829, 'ms': 2945, 'boston': 533, 'combine': 845, 'paint': 3208, 'surprising': 4402, 'convict': 986, 'blatant': 491, 'macron': 2695, 'berlin': 449, 'premier': 3445, 'weight': 4885, 'french': 1834, 'emmanuel': 1473, 'common': 866, 'spd': 4221, 'schulz': 3964, 'outspoken': 3179, 'integration': 2304, 'populist': 3398, 'instability': 2289, 'overcome': 3183, 'confront': 922, 'governance': 1937, 'mechanism': 2795, 'condition': 910, 'reluctant': 3727, 'desert': 1218, 'possibility': 3409, 'france': 1822, 'embarrassment': 1465, 'negotiate': 3001, 'trigger': 4637, 'worsen': 4953, 'rouhani': 3880, 'restrict': 3793, 'rhetoric': 3825, 'britain': 566, 'rex': 3824, 'tillerson': 4547, 'mohammad': 2902, 'violation': 4809, 'pursuit': 3571, 'atomic': 308, 'carefully': 648, 'transaction': 4607, 'certify': 699, 'deadline': 1126, 'advantage': 81, 'strengthen': 4324, 'wang': 4844, 'korean': 2516, 'peninsula': 3281, 'importance': 2212, 'safeguard': 3913, 'entirely': 1517, 'swing': 4428, 'outsider': 3178, 'indication': 2247, 'crook': 1065, 'bless': 494, 'horse': 2129, 'rapidly': 3625, 'joseph': 2437, 'adult': 78, 'indiana': 2245, 'bbc': 414, 'ultimately': 4681, 'revolutionary': 3821, 'guard': 1975, 'corps': 1010, 'hardline': 2027, 'israel': 2376, 'foe': 1781, 'paris': 3232, 'climate': 790, 'anger': 192, 'bow': 535, 'credibility': 1049, 'watchdog': 4864, 'reiterate': 3711, 'robust': 3858, 'formal': 1803, 'isolate': 2374, 'bob': 511, 'corker': 1003, 'automatically': 339, 'clause': 779, 'restriction': 3794, 'twice': 4667, 'predecessor': 3436, 'label': 2530, 'wield': 4908, 'jim': 2421, 'provocative': 3549, 'closed': 797, 'context': 969, 'kislyak': 2500, 'hotel': 2136, 'shake': 4058, 'invitation': 2347, 'adopt': 76, 'attendance': 315, 'recall': 3654, 'dec': 1137, 'banker': 385, 'gift': 1908, 'dirt': 1281, 'arrangement': 265, 'submit': 4347, 'error': 1547, 'dress': 1379, 'bathroom': 409, 'basically': 407, 'locker': 2658, 'richard': 3832, 'rodriguez': 3862, 'mall': 2719, 'rush': 3899, 'circle': 759, 'match': 2771, 'nearby': 2994, 'unlawful': 4733, 'nbc': 2992, 'jeb': 2402, 'favorite': 1696, 'performance': 3295, 'obviously': 3096, 'construct': 954, 'road': 3853, 'elderly': 1444, 'atlantic': 306, 'crowd': 1070, 'interrupt': 2331, 'mid': 2841, 'assert': 287, 'hilarious': 2090, 'athlete': 304, 'indict': 2248, 'yr': 4987, 'schumer': 3965, 'cheer': 733, 'chuck': 756, 'entry': 1523, 'silent': 4119, 'discover': 1295, 'indian': 2244, 'champion': 708, 'hussain': 2166, 'coach': 809, 'lake': 2537, 'delhi': 1178, 'feb': 1702, 'hail': 2001, 'predominantly': 3439, 'india': 2243, 'reckless': 3661, 'irresponsible': 2364, 'vetting': 4798, 'snow': 4175, 'movie': 2941, 'welfare': 4890, 'competition': 879, 'pool': 3390, 'passionate': 3252, 'kiss': 2501, 'extremely': 1646, 'troubling': 4645, 'stability': 4259, 'treaty': 4628, 'cruise': 1074, 'ed': 1422, 'affairs': 93, 'disregard': 1318, 'obligation': 3086, 'tip': 4554, 'pose': 3404, 'authorization': 335, 'coincide': 819, 'eric': 1545, 'arpaio': 263, 'joe': 2425, 'crooked': 1066, 'contempt': 963, 'pardon': 3229, 'discriminatory': 1300, 'alike': 147, 'personality': 3305, 'st': 4257, 'frustrate': 1847, 'blunt': 507, 'alienate': 145, 'dictator': 1257, 'unveil': 4745, 'fourth': 1816, 'bribe': 557, 'motivate': 2932, 'nancy': 2970, 'pelosi': 3275, 'alive': 148, 'inspire': 2288, 'hater': 2044, 'alternate': 162, 'confused': 925, 'regularly': 3700, 'aside': 276, 'servant': 4038, 'severe': 4050, 'jonathan': 2432, 'confuse': 924, 'wonder': 4940, 'panic': 3221, 'brave': 546, 'semi': 4015, 'eat': 1417, 'bump': 596, 'stock': 4306, 'enable': 1484, 'rapid': 3624, 'las': 2547, 'vegas': 4781, 'recover': 3671, 'cornyn': 1006, 'judiciary': 2450, 'weekly': 4883, 'buyer': 611, 'tout': 4585, 'hopefully': 2124, 'shooter': 4091, 'spray': 4251, 'caution': 674, 'breakthrough': 552, 'generally': 1889, 'feinstein': 1711, 'agitator': 114, 'globalist': 1919, 'grassroots': 1954, 'string': 4329, 'inauguration': 2224, 'divide': 1337, 'disruption': 1322, 'engineer': 1502, 'celebrity': 685, 'actress': 60, 'singer': 4132, 'reportedly': 3752, 'kellyanne': 2476, 'conway': 990, 'underscore': 4703, 'erode': 1546, 'color': 838, 'weaken': 4871, 'sovereignty': 4212, 'recognize': 3663, 'cast': 663, 'conflict': 921, 'bitter': 481, 'expand': 1614, 'abortion': 15, 'environmental': 1525, 'jarrett': 2398, 'haven': 2048, 'lengthy': 2603, 'nationwide': 2982, 'strategic': 4317, 'ideological': 2179, 'feminist': 1717, 'talking': 4452, 'dub': 1393, 'rent': 3740, 'bus': 604, 'ipsos': 2353, 'tighten': 4546, 'significantly': 4117, 'toss': 4578, 'up': 4746, 'michigan': 2838, 'sharp': 4067, 'turnout': 4664, 'tally': 4454, 'respondent': 3786, 'unfairly': 4712, 'unclear': 4694, 'average': 344, 'percentage': 3289, 'gap': 1873, 'indicate': 2246, 'diminish': 1270, 'hurt': 2164, 'nationally': 2980, 'coin': 818, 'offset': 3115, 'decrease': 1147, 'outlook': 3171, 'longtime': 2666, 'stronghold': 4332, 'nevada': 3018, 'consequence': 939, 'partial': 3237, 'equity': 1539, 'navy': 2990, 'collusion': 833, 'communications': 869, 'mislead': 2873, 'aviation': 345, 'politico': 3384, 'jason': 2399, 'miller': 2854, 'reince': 3708, 'priebus': 3471, 'confidence': 916, 'todd': 4560, 'chicago': 737, 'anthony': 208, 'scaramucci': 3950, 'yorker': 4982, 'ethic': 1565, 'spicer': 4237, 'katie': 2470, 'sally': 3919, 'yate': 4971, 'detroit': 1242, 'remind': 3732, 'bailout': 370, 'yes': 4978, 'debt': 1136, 'creditor': 1052, 'recession': 3659, 'jesus': 2412, 'manuel': 2737, 'emergency': 1470, 'dig': 1267, 'televise': 4487, 'mutual': 2963, 'jose': 2436, 'planning': 3356, 'restructuring': 3796, 'default': 1156, 'voluntary': 4826, 'strict': 4327, 'aren': 252, 'convince': 988, 'egg': 1438, 'berkeley': 448, 'antifa': 211, 'spew': 4236, 'consistently': 944, 'rail': 3606, 'caller': 621, 'paper': 3225, 'anonymity': 204, 'resistance': 3779, 'male': 2716, 'screw': 3981, 'cuomo': 1084, 'registration': 3697, 'database': 1116, 'getting': 1904, 'headline': 2053, 'interesting': 2319, 'huffington': 2148, 'capable': 636, 'peace': 3271, 'weren': 4893, 'skeptical': 4143, 'empire': 1477, 'impossible': 2216, 'comedian': 847, 'jimmy': 2422, 'kimmel': 2495, 'apology': 220, 'verify': 4789, 'productive': 3503, 'destroy': 1228, 'attach': 310, 'cheat': 731, 'ring': 3841, 'youtube': 4985, 'embarrass': 1463, 'scarborough': 3951, 'moderate': 2895, 'willing': 4918, 'faction': 1658, 'mika': 2845, 'brzezinski': 585, 'frequent': 1835, 'guest': 1981, 'ford': 1793, 'legacy': 2590, 'overall': 3182, 'orange': 3147, 'ronald': 3872, 'reagan': 3643, 'fool': 1787, 'derail': 1215, 'bar': 390, 'expectation': 1617, 'prescription': 3450, 'amazing': 164, 'mitch': 2881, 'mcconnell': 2787, 'mess': 2825, 'rid': 3835, 'neo': 3010, 'klan': 2503, 'bigot': 463, 'racism': 3598, 'proof': 3520, 'bind': 470, 'handling': 2017, 'rein': 3707, 'advertising': 83, 'zuckerberg': 4998, 'cable': 614, 'joke': 2430, 'criterion': 1059, 'silicon': 4120, 'valley': 4773, 'resist': 3778, 'subpoena': 4348, 'hysterical': 2171, 'lincoln': 2636, 'miss': 2874, 'gay': 1883, 'orlando': 3159, 'doctor': 1344, 'allegiance': 154, 'mateen': 2773, 'cop': 999, 'motivation': 2933, 'guess': 1980, 'divorce': 1341, 'shore': 4094, 'lone': 2663, 'disease': 1303, 'strength': 4323, 'courage': 1031, 'attitude': 318, 'lesbian': 2605, 'transgend': 4612, 'disgusting': 1307, 'severely': 4051, 'unit': 4725, 'exclusive': 1599, 'bangladesh': 383, 'rohingya': 3864, 'ten': 4495, 'myanmar': 2964, 'forest': 1798, 'hill': 2092, 'sheikh': 4073, 'organisation': 3152, 'hadn': 2000, 'delta': 1182, 'coast': 812, 'boat': 510, 'calm': 622, 'kidnap': 2489, 'ransom': 3621, 'flat': 1764, 'shelter': 4075, 'rakhine': 3610, 'aug': 325, 'insurgent': 2302, 'nobel': 3038, 'aung': 327, 'suu': 4418, 'kyi': 2528, 'persecution': 3302, 'buddhist': 588, 'cox': 1039, 'southeast': 4208, 'space': 4215, 'tiny': 4553, 'unhcr': 4716, 'hostility': 2134, 'interior': 2323, 'administrator': 72, 'relocate': 3726, 'season': 3989, 'exodus': 1613, 'fighter': 1728, 'scramble': 3974, 'remember': 3731, 'oh': 3117, 'josh': 2438, 'potus': 3419, 'podesta': 3370, 'mediate': 2799, 'israeli': 2377, 'jerusalem': 2409, 'react': 3636, 'reply': 3750, 'erupt': 1548, 'anchor': 185, 'awesome': 353, 'complaint': 882, 'manufacturer': 2739, 'columbia': 840, 'traveler': 4623, 'yeah': 4972, 'text': 4516, 'benjamin': 446, 'killing': 2493, 'pizza': 3347, 'making': 2713, 'heritage': 2078, 'ride': 3836, 'dutch': 1400, 'humanity': 2153, 'italy': 2381, 'wood': 4943, 'rome': 3869, 'italian': 2380, 'exception': 1595, 'burn': 601, 'famous': 1678, 'queen': 3583, 'foreigner': 1796, 'craft': 1042, 'netherlands': 3015, 'indonesian': 2252, 'turkish': 4660, 'coffee': 815, 'maher': 2701, 'correctness': 1012, 'scientist': 3968, 'feeling': 1710, 'warming': 4851, 'widespread': 4906, 'truly': 4649, 'applause': 228, 'straight': 4313, 'brilliant': 564, 'celebration': 684, 'obstacle': 3091, 'lawless': 2565, 'disturbing': 1332, 'info': 2266, 'appointee': 234, 'inmate': 2278, 'monitor': 2911, 'nick': 3027, 'shout': 4101, 'prisoner': 3483, 'yell': 4974, 'captain': 640, 'circumstance': 762, 'plead': 3362, 'physically': 3332, 'drink': 1383, 'scared': 3953, 'pm': 3368, 'shop': 4093, 'importantly': 2214, 'allah': 149, 'convert': 985, 'fine': 1745, 'unfair': 4711, 'afraid': 101, 'insane': 2282, 'asylum': 303, 'ruin': 3891, 'dictatorship': 1258, 'tackle': 4442, 'terrible': 4504, 'integrate': 2303, 'financially': 1741, 'wonderful': 4941, 'grateful': 1955, 'clothe': 800, 'scream': 3976, 'peaceful': 3272, 'predator': 3435, 'pile': 3337, 'timing': 4552, 'disastrous': 1291, 'insider': 2284, 'analyze': 183, 'evening': 1578, 'weekend': 4882, 'devote': 1252, 'correspondent': 1013, 'commentator': 856, 'necessarily': 2996, 'conceal': 898, 'extent': 1641, 'extension': 1639, 'kentucky': 2479, 'pension': 3284, 'bankruptcy': 387, 'warner': 4853, 'manchin': 2727, 'spokesperson': 4244, 'petition': 3315, 'boiler': 516, 'acr': 52, 'broadcast': 569, 'tonight': 4569, 'pst': 3553, 'uncensored': 4691, 'custom': 1092, 'philosopher': 3323, 'misguided': 2872, 'moralist': 2922, 'masochist': 2765, 'corner': 1004, 'evangelist': 1576, 'maniac': 2732, 'savant': 3942, 'animal': 195, 'lovable': 2682, 'hesher': 2081, 'spore': 4247, 'andy': 189, 'alt': 160, 'randy': 3617, 'hang': 2018, 'boil': 515, 'tooth': 4573, 'club': 804, 'gang': 1872, 'ego': 1439, 'mental': 2817, 'illness': 2193, 'transgender': 4613, 'charlie': 724, 'hint': 2095, 'tape': 4458, 'intention': 2313, 'irony': 2363, 'entrepreneur': 1522, 'surface': 4396, 'revoke': 3819, 'zinke': 4995, 'extensive': 1640, 'casualty': 665, 'separatist': 4030, 'catalan': 666, 'barcelona': 393, 'unity': 4728, 'poise': 3372, 'madrid': 2697, 'spain': 4216, 'secessionist': 3994, 'ease': 1412, 'plunge': 3366, 'uncertainty': 4693, 'slightly': 4158, 'scenario': 3955, 'undecided': 4698, 'rajoy': 3609, 'puigdemont': 3559, 'explode': 1628, 'huckabee': 2146, 'integrity': 2305, 'gateway': 1880, 'trend': 4631, 'watson': 4867, 'reward': 3822, 'tucker': 4655, 'carlson': 651, 'pitch': 3344, 'slow': 4162, 'resume': 3798, 'wisconsin': 4930, 'standing': 4272, 'stake': 4266, 'gut': 1993, 'traditionally': 4598, 'garner': 1876, 'objective': 3085, 'scott': 3972, 'limited': 2635, 'prioritize': 3480, 'famine': 1677, 'extremism': 1647, 'kiev': 2490, 'ukrainian': 4679, 'mandate': 2728, 'khamenei': 2485, 'ankara': 196, 'ali': 143, 'tayyip': 4467, 'erdogan': 1544, 'cool': 993, 'mainly': 2706, 'sunni': 4381, 'alarm': 135, 'stoke': 4307, 'closely': 798, 'ethnic': 1566, 'nut': 3074, 'imagine': 2196, 'evolve': 1585, 'hole': 2108, 'lesson': 2606, 'suicide': 4371, 'shouldn': 4100, 'poster': 3414, 'te': 4468, 'nugent': 3069, 'griffin': 1965, 'concert': 903, 'suck': 4361, 'ferguson': 1719, 'examiner': 1591, 'apologize': 219, 'dinner': 1271, 'louis': 2680, 'battlefield': 411, 'treason': 4624, 'firing': 1752, 'outraged': 3173, 'trash': 4621, 'perfect': 3292, 'conviction': 987, 'evaluate': 1573, 'collective': 828, 'koreans': 2517, 'sixth': 4141, 'deplorable': 1205, 'explanation': 1625, 'diplomatic': 1274, 'academic': 25, 'slip': 4160, 'authoritarian': 333, 'insurgency': 2301, 'exclude': 1598, 'ypg': 4986, 'cleric': 785, 'gulen': 1988, 'conspire': 947, 'pastor': 3255, 'membership': 2812, 'merit': 2822, 'rod': 3861, 'charlottesville': 726, 'supremacy': 4392, 'weak': 4870, 'horrify': 2127, 'somodevilla': 4197, 'justin': 2461, 'sullivan': 4373, 'gesture': 1901, 'brussels': 581, 'theresa': 4524, 'broadly': 572, 'language': 2542, 'progress': 3510, 'negotiation': 3003, 'jean': 2401, 'juncker': 2454, 'hammond': 2012, 'prefer': 3440, 'keen': 2472, 'compromise': 895, 'rescue': 3767, 'negotiator': 3004, 'michel': 2836, 'barnier': 396, 'ireland': 2358, 'concession': 904, 'trading': 4595, 'barrier': 398, 'meltdown': 2810, 'essentially': 1557, 'fcc': 1698, 'petty': 3316, 'arsenal': 269, 'fiction': 1723, 'essential': 1556, 'careful': 647, 'impede': 2205, 'characterize': 718, 'duty': 1402, 'license': 2625, 'clue': 805, 'somebody': 4195, 'misuse': 2880, 'maga': 2699, 'venezuela': 4784, 'speculate': 4228, 'routinely': 3884, 'provoke': 3550, 'proxy': 3551, 'reserve': 3771, 'belt': 439, 'smash': 4167, 'maduro': 2698, 'intervene': 2332, 'slim': 4159, 'colombia': 834, 'desire': 1222, 'intervention': 2333, 'unleash': 4734, 'perceive': 3287, 'imply': 2210, 'reconsider': 3667, 'hype': 2168, 'devil': 1250, 'escalate': 1549, 'geopolitical': 1896, 'prediction': 3438, 'friendship': 1842, 'warfare': 4848, 'editorial': 1427, 'meaning': 2793, 'dance': 1109, 'festival': 1720, 'prosecutor': 3531, 'passport': 3253, 'hungary': 2158, 'refuge': 3687, 'ambition': 167, 'warhead': 4849, 'determined': 1241, 'framework': 1821, 'steady': 4289, 'frankly': 1827, 'connecticut': 934, 'fee': 1707, 'breach': 550, 'monitoring': 2912, 'client': 789, 'copy': 1000, 'notably': 3057, 'chelsea': 734, 'unusual': 4744, 'appreciate': 236, 'consult': 958, 'bombshell': 522, 'uranium': 4754, 'hannity': 2019, 'mine': 2859, 'incredibly': 2237, 'favorable': 1695, 'carson': 656, 'condone': 911, 'behavior': 429, 'disrespect': 1319, 'fairly': 1666, 'vital': 4821, 'enthusiasm': 1515, 'fiscal': 1755, 'thwart': 4542, 'afd': 91, 'shot': 4098, 'guide': 1983, 'willingness': 4919, 'switzerland': 4431, 'quit': 3591, 'teen': 4481, 'brutally': 584, 'expression': 1637, 'guilty': 1986, 'chest': 736, 'slogan': 4161, 'wrap': 4959, 'regret': 3698, 'separately': 4028, 'compensation': 877, 'seeker': 4006, 'trace': 4591, 'committed': 863, 'retreat': 3806, 'dad': 1100, 'toxic': 4588, 'shadow': 4056, 'silence': 4118, 'one': 3127, 'marry': 2757, 'married': 2756, 'pende': 3280, 'consent': 938, 'raw': 3633, 'prepared': 3449, 'meal': 2791, 'lecture': 2585, 'intentionally': 2314, 'nightmare': 3034, 'regulatory': 3704, 'dodd': 1347, 'eager': 1405, 'finalize': 1737, 'thorough': 4532, 'honest': 2117, 'heighten': 2068, 'enact': 1485, 'handful': 2015, 'reinstate': 3710, 'mulvaney': 2952, 'okay': 3121, 'hostage': 2132, 'brazilian': 549, 'perform': 3294, 'helped': 2073, 'brazil': 547, 'stewart': 4302, 'literally': 2643, 'orleans': 3160, 'buck': 587, 'wikimedia': 4911, 'johnson': 2427, 'boris': 531, 'labour': 2532, 'jeremy': 2406, 'sack': 3906, 'offend': 3106, 'overthrow': 3191, 'journalism': 2440, 'employer': 1480, 'constructive': 956, 'fallon': 1670, 'contest': 968, 'underway': 4707, 'combination': 844, 'gets': 1903, 'engine': 1501, 'delivery': 1181, 'forum': 1809, 'length': 2602, 'defy': 1171, 'logic': 2660, 'manipulation': 2735, 'strongly': 4333, 'elaborate': 1443, 'georgia': 1898, 'karen': 2466, 'ossoff': 3162, 'dirty': 1282, 'proud': 3540, 'dodge': 1348, 'obstruction': 3093, 'proceed': 3495, 'obstruct': 3092, 'sudden': 4363, 'tony': 4571, 'everyday': 1582, 'discriminate': 1298, 'wong': 4942, 'franken': 1826, 'pretend': 3462, 'grope': 1967, 'desk': 1223, 'norm': 3047, 'cotton': 1018, 'wallace': 4842, 'questionable': 3585, 'yard': 4970, 'equipment': 1538, 'theft': 4520, 'prayer': 3431, 'con': 897, 'minded': 2858, 'scam': 3948, 'swedish': 4424, 'sweden': 4423, 'documentary': 1346, 'edit': 1424, 'horror': 2128, 'rumor': 3894, 'footage': 1789, 'motive': 2934, 'spike': 4238, 'similarly': 4124, 'wilson': 4920, 'catalonia': 667, 'impeachment': 2204, 'confess': 915, 'creepy': 1053, 'clarity': 773, 'sow': 4214, 'confusion': 926, 'withhold': 4936, 'broaden': 571, 'guidance': 1982, 'provider': 3544, 'medicine': 2803, 'directive': 1278, 'zika': 4992, 'lisa': 2640, 'murkowski': 2956, 'blumenthal': 506, 'steep': 4293, 'reservation': 3770, 'zeid': 4990, 'systemic': 4440, 'geneva': 1893, 'intimidation': 2336, 'dissident': 1324, 'representatives': 3758, 'tennessee': 4497, 'selection': 4012, 'select': 4011, 'mix': 2884, 'physical': 3331, 'aggressively': 113, 'oscar': 3161, 'ceremony': 695, 'brush': 580, 'equivalent': 1540, 'moron': 2925, 'haley': 2005, 'replacement': 3749, 'observe': 3087, 'incredible': 2236, 'exclusively': 1600, 'cumming': 1083, 'ann': 197, 'surprised': 4401, 'crop': 1067, 'viewer': 4805, 'australian': 330, 'deliberately': 1179, 'endanger': 1491, 'wheel': 4898, 'custody': 1091, 'concrete': 907, 'presence': 3451, 'attacker': 312, 'manhattan': 2731, 'protocol': 3539, 'soil': 4185, 'nypd': 3078, 'modest': 2897, 'mosque': 2928, 'uber': 4674, 'tourist': 4584, 'reader': 3640, 'sting': 4304, 'poverty': 3422, 'holiday': 2109, 'pour': 3421, 'incentive': 2226, 'reputation': 3762, 'greatly': 1959, 'prize': 3488, 'undercover': 4699, 'roger': 3863, 'simpson': 4128, 'malik': 2718, 'santiago': 3933, 'garland': 1875, 'uncover': 4697, 'tragic': 4602, 'declaration': 1144, 'random': 3616, 'writing': 4963, 'nightclub': 3033, 'permanently': 3298, 'embargo': 1462, 'tree': 4629, 'questioning': 3586, 'overhaul': 3184, 'mount': 2936, 'martinez': 2761, 'explosive': 1632, 'swift': 4427, 'sharply': 4068, 'phase': 3320, 'closure': 799, 'fuel': 1851, 'outbreak': 3165, 'houthis': 2143, 'complicit': 889, 'moon': 2918, 'earnest': 1409, 'francis': 1823, 'jews': 2415, 'competitive': 880, 'edge': 1423, 'pit': 3343, 'peer': 3274, 'preserve': 3453, 'belgium': 433, 'poland': 3374, 'ambitious': 168, 'interpretation': 2329, 'exporter': 1634, 'romania': 3868, 'maximum': 2779, 'crucial': 1072, 'ton': 4567, 'surge': 4397, 'usa': 4758, 'inaugural': 2223, 'bait': 371, 'quick': 3587, 'clarify': 772, 'substance': 4353, 'nominating': 3040, 'science': 3966, 'iowa': 2352, 'bolster': 518, 'maryland': 2763, 'rhode': 3826, 'japanese': 2396, 'deportation': 1209, 'obvious': 3095, 'seemingly': 4007, 'asian': 275, 'phrase': 3330, 'erase': 1542, 'accurate': 42, 'suppress': 4390, 'plaintiff': 3351, 'motor': 2935, 'finish': 1748, 'fresh': 1837, 'instagram': 2290, 'accuser': 45, 'bite': 480, 'volunteer': 4827, 'arkansas': 259, 'ice': 2173, 'greek': 1961, 'naval': 2989, 'effective': 1435, 'balanced': 374, 'vessel': 4794, 'rural': 3898, 'terrify': 4505, 'golf': 1928, 'awful': 354, 'equip': 1537, 'camera': 624, 'residence': 3774, 'super': 4382, 'disturb': 1331, 'highway': 2088, 'restaurant': 3791, 'downtown': 1367, 'walker': 4840, 'preparation': 3447, 'punch': 3562, 'slowly': 4163, 'beyonce': 456, 'print': 3478, 'ignorance': 2184, 'hair': 2002, 'carbon': 643, 'gore': 1932, 'occasion': 3097, 'fossil': 1811, 'recuse': 3674, 'slide': 4156, 'disrespectful': 1320, 'raedle': 3603, 'bizarre': 482, 'nyc': 3076, 'explosion': 1631, 'punish': 3564, 'matthew': 2777, 'ok': 3120, 'winner': 4925, 'barbara': 392, 'lucky': 2688, 'warrant': 4855, 'superior': 4383, 'scout': 3973, 'boo': 525, 'chant': 713, 'wild': 4913, 'pinera': 3339, 'successor': 4360, 'dr': 1369, 'quo': 3592, 'noah': 3037, 'compassion': 875, 'van': 4775, 'stab': 4258, 'arabic': 247, 'gray': 1957, 'verdict': 4788, 'jury': 2458, 'degree': 1172, 'misconduct': 2871, 'neck': 2998, 'injury': 2276, 'properly': 3524, 'homicide': 2116, 'lopez': 2671, 'vile': 4806, 'summon': 4378, 'preside': 3454, 'damascus': 1106, 'ceasefire': 681, 'ghouta': 1906, 'opposite': 3142, 'escalation': 1550, 'bashar': 405, 'assad': 280, 'patient': 3260, 'facility': 1655, 'clock': 795, 'cuban': 1080, 'engagement': 1500, 'cold': 821, 'havana': 2046, 'refrain': 3686, 'diverse': 1334, 'structure': 4334, 'reporting': 3754, 'irish': 2359, 'symptom': 4436, 'testing': 4514, 'canadian': 629, 'disorder': 1312, 'fix': 1758, 'longstanding': 2665, 'shy': 4107, 'bold': 517, 'bleed': 493, 'heavy': 2065, 'betray': 454, 'nail': 2967, 'reilly': 3706, 'howard': 2144, 'commentary': 855, 'charlotte': 725, 'wildlife': 4914, 'extraordinary': 1644, 'piss': 3342, 'surrogate': 4405, 'enrique': 1509, 'nieto': 3029, 'jacob': 2387, 'pena': 3277, 'advisory': 88, 'tired': 4555, 'soar': 4178, 'curb': 1086, 'emission': 1472, 'gdp': 1885, 'jay': 2400, 'dyer': 1403, 'et': 1563, 'edition': 1425, 'aleppo': 139, 'helmet': 2071, 'lower': 2685, 'shield': 4078, 'archive': 249, 'nafta': 2966, 'uphold': 4750, 'bilateral': 465, 'beginning': 425, 'drama': 1373, 'slight': 4157, 'surplus': 4399, 'quota': 3593, 'professional': 3504, 'chase': 729, 'fdp': 1699, 'stable': 4261, 'cdu': 679, 'csu': 1078, 'torch': 4576, 'uninsured': 4721, 'cassidy': 662, 'graham': 1948, 'iii': 2188, 'representation': 3756, 'privilege': 3487, 'pride': 3470, 'hypocrite': 2170, 'flint': 1770, 'prop': 3521, 'mi': 2832, 'interaction': 2315, 'load': 2649, 'tyson': 4673, 'notify': 3060, 'emphasis': 1475, 'skip': 4146, 'contribution': 977, 'wfb': 4896, 'fulfil': 1852, 'kerry': 2482, 'implementation': 2207, 'mar': 2742, 'lago': 2536, 'boast': 509, 'mortgage': 2926, 'warm': 4850, 'exceed': 1593, 'assurance': 301, 'fundraising': 1861, 'recommend': 3664, 'stem': 4296, 'qualified': 3579, 'matt': 2775, 'lauer': 2555, 'forever': 1799, 'sexually': 4055, 'infection': 2258, 'screening': 3979, 'forbid': 1791, 'birth': 474, 'qatar': 3577, 'emirate': 1471, 'kuwait': 2527, 'bahrain': 368, 'boycott': 539, 'libertarian': 2620, 'thiel': 4525, 'insurer': 2300, 'expansion': 1615, 'component': 891, 'unpaid': 4739, 'proper': 3523, 'row': 3885, 'assist': 294, 'compel': 876, 'alter': 161, 'zor': 4997, 'finding': 1744, 'furious': 1865, 'widow': 4907, 'jihadist': 2419, 'jihadi': 2418, 'recruit': 3673, 'advice': 84, 'jones': 2433, 'idlib': 2182, 'tokyo': 4561, 'koike': 2513, 'shinzo': 4081, 'abe': 8, 'speculation': 4229, 'ldp': 2571, 'dissolve': 1325, 'cloud': 802, 'momentum': 2906, 'applaud': 227, 'maneuver': 2730, 'jeffrey': 2404, 'revise': 3817, 'concede': 899, 'climb': 791, 'complicate': 887, 'convoy': 989, 'sinai': 4129, 'train': 4604, 'southwest': 4210, 'neighboring': 3007, 'uniform': 4718, 'ambush': 169, 'widen': 4905, 'administrative': 71, 'overturn': 3192, 'guideline': 1984, 'explicitly': 1627, 'trouble': 4644, 'valid': 4772, 'unauthorized': 4688, 'ashamed': 273, 'nerve': 3012, 'recipient': 3660, 'unlike': 4735, 'briefly': 562, 'hampshire': 2013, 'lebanon': 2584, 'resignation': 3777, 'palace': 3212, 'mom': 2904, 'dynamic': 1404, 'damn': 1107, 'pant': 3222, 'column': 841, 'ivanka': 2384, 'drain': 1372, 'wealth': 4872, 'clothing': 801, 'soul': 4204, 'crew': 1054, 'neutral': 3017, 'colin': 822, 'retweet': 3808, 'rare': 3628, 'oust': 3164, 'ex': 1586, 'undergo': 4700, 'allen': 155, 'icon': 2174, 'uh': 4676, 'trudeau': 4647, 'congratulate': 928, 'knee': 2506, 'affirm': 96, 'promotion': 3518, 'anymore': 215, 'melania': 2809, 'retaliate': 3801, 'nickname': 3028, 'anderson': 186, 'cooper': 994, 'uncomfortable': 4695, 'ill': 2189, 'rand': 3615, 'educational': 1431, 'municipal': 2953, 'upgrade': 4749, 'argument': 256, 'wipe': 4927, 'forecast': 1794, 'retirement': 3805, 'staunch': 4287, 'ag': 106, 'harris': 2032, 'sentencing': 4024, 'mandatory': 2729, 'offender': 3107, 'clarke': 774, 'flake': 1761, 'racial': 3596, 'electronic': 1452, 'technical': 4476, 'exemption': 1606, 'approximately': 243, 'earth': 1410, 'hoax': 2104, 'scientific': 3967, 'lol': 2661, 'lash': 2548, 'oath': 3080, 'swamp': 4419, 'dishonest': 1308, 'deprive': 1211, 'knife': 2508, 'jewish': 2414, 'denmark': 1195, 'museum': 2959, 'catholic': 671, 'muhammad': 2949, 'beach': 415, 'passenger': 3251, 'palestinian': 3214, 'rocket': 3860, 'saleh': 3918, 'england': 1504, 'underground': 4701, 'resort': 3782, 'starbuck': 4275, 'fl': 1759, 'elizabeth': 1458, 'belgian': 432, 'philippine': 3322, 'entrance': 1521, 'jordan': 2435, 'spell': 4232, 'bernardino': 451, 'devos': 1251, 'powell': 3423, 'smack': 4164, 'shred': 4103, 'epipen': 1532, 'permission': 3299, 'unconstitutional': 4696, 'precedent': 3433, 'intimidate': 2335, 'smear': 4168, 'pompeo': 3389, 'accountable': 40, 'unnamed': 4737, 'dealing': 1130, 'luis': 2689, 'colombian': 835, 'venezuelan': 4785, 'disappoint': 1288, 'conscience': 936, 'oklahoma': 3122, 'scholar': 3961, 'guilt': 1985, 'missouri': 2878, 'reconciliation': 3666, 'yale': 4969, 'relieve': 3723, 'poorly': 3392, 'biofuel': 471, 'icahn': 2172, 'carl': 650, 'volume': 4825, 'rough': 3878, 'bell': 436, 'unanimously': 4686, 'dramatic': 1374, 'ought': 3163, 'inappropriate': 2222, 'vp': 4832, 'trafficking': 4600, 'gaddafi': 1869, 'reduction': 3678, 'territorial': 4506, 'peak': 3273, 'marco': 2746, 'depart': 1199, 'excellent': 1594, 'christopher': 755, 'repair': 3743, 'enclave': 1486, 'gmt': 1921, 'preliminary': 3444, 'northwest': 3054, 'interrogation': 2330, 'dual': 1392, 'nationality': 2979, 'transcript': 4608, 'injustice': 2277, 'bail': 369, 'imprison': 2218, 'abadi': 1, 'determination': 1239, 'warsaw': 4858, 'procedure': 3494, 'polish': 3378, 'temperature': 4492, 'industrial': 2253, 'op': 3130, 'depth': 1213, 'gate': 1879, 'emailed': 1461, 'atmosphere': 307, 'meddling': 2797, 'narrative': 2971, 'laptop': 2543, 'janet': 2393, 'regular': 3699, 'recognition': 3662, 'quake': 3578, 'survivor': 4410, 'earthquake': 1411, 'trap': 4620, 'juan': 2446, 'choke': 746, 'electricity': 1451, 'chain': 702, 'hernandez': 2079, 'evacuate': 1572, 'occupation': 3098, 'emphasize': 1476, 'burden': 599, 'impression': 2217, 'scalia': 3947, 'gunshot': 1992, 'silver': 4122, 'congresswoman': 932, 'sovereign': 4211, 'bible': 459, 'thinking': 4529, 'rubio': 3889, 'sap': 3935, 'absence': 17, 'equal': 1534, 'detailed': 1232, 'projection': 3514, 'cake': 617, 'lindsey': 2637, 'fulfill': 1853, 'mississippi': 2877, 'existing': 1611, 'ironic': 2362, 'incite': 2229, 'virtually': 4814, 'bone': 524, 'santa': 3932, 'freak': 1830, 'irma': 2360, 'category': 670, 'devastate': 1244, 'fema': 1715, 'miami': 2833, 'fragile': 1819, 'lebanese': 2583, 'mediterranean': 2804, 'visitor': 4820, 'ken': 2477, 'complex': 885, 'wedding': 4879, 'pot': 3416, 'palestine': 3213, 'quiet': 3589, 'ri': 3827, 'preference': 3441, 'badly': 365, 'npr': 3065, 'racially': 3597, 'escort': 1552, 'accidentally': 33, 'kkk': 2502, 'worldwide': 4950, 'ignorant': 2185, 'crude': 1073, 'weinstein': 4887, 'temper': 4491, 'surgery': 4398, 'bury': 603, 'shine': 4080, 'reid': 3705, 'beacon': 416, 'shall': 4059, 'prevail': 3464, 'cup': 1085, 'em': 1459, 'absent': 18, 'actual': 61, 'agriculture': 119, 'palm': 3217, 'demographic': 1190, 'toy': 4589, 'harry': 2033, 'swear': 4422, 'arise': 257, 'megyn': 2808, 'beast': 418, 'schaeuble': 3957, 'dispatch': 1313, 'monetary': 2908, 'soviet': 4213, 'bet': 453, 'disappointed': 1289, 'intellectual': 2307, 'graduate': 1946, 'est': 1558, 'fault': 1693, 'raqqa': 3627, 'deir': 1173, 'postpone': 3415, 'ignite': 2183, 'divert': 1336, 'antonin': 212, 'submarine': 4346, 'sydney': 4432, 'guinea': 1987, 'aboard': 13, 'admiral': 73, 'zealand': 4989, 'duke': 1397, 'biden': 461, 'luxury': 2692, 'lunch': 2690, 'sharing': 4066, 'collude': 832, 'roberts': 3857, 'nfl': 3024, 'bruce': 579, 'possess': 3407, 'withdrawal': 4935, 'exxon': 1649, 'mobil': 2889, 'thug': 4540, 'photographer': 3329, 'blaze': 492, 'scotland': 3971, 'pound': 3420, 'unfold': 4714, 'takeover': 4447, 'condemnation': 909, 'thailand': 4517, 'policeman': 3376, 'malaysia': 2714, 'fish': 1756, 'rebuild': 3652, 'sharpton': 4069, 'divided': 1338, 'football': 1790, 'ball': 376, 'junior': 2456, 'stretch': 4326, 'clerk': 786, 'statute': 4286, 'aviv': 346, 'decry': 1149, 'routine': 3883, 'dallas': 1103, 'fort': 1806, 'collar': 824, 'overnight': 3186, 'garbage': 1874, 'kaepernick': 2463, 'kneel': 2507, 'frontier': 1844, 'dubai': 1394, 'firmly': 1754, 'maxine': 2780, 'broken': 573, 'constant': 948, 'bubble': 586, 'teaching': 4472, 'upper': 4751, 'discipline': 1292, 'discrimination': 1299, 'boot': 529, 'quietly': 3590, 'nyp': 3077, 'vatican': 4778, 'slave': 4153, 'instruct': 2296, 'supportive': 4387, 'ethnicity': 1567, 'somewhat': 4196, 'veselnitskaya': 4793, 'subcommittee': 4344, 'grassley': 1953, 'bullying': 595, 'illinois': 2192, 'lawful': 2564, 'hike': 2089, 'disagreement': 1286, 'pis': 3341, 'columnist': 842, 'morgan': 2923, 'mp': 2942, 'coulter': 1020, 'sexist': 4053, 'awkward': 355, 'pivot': 3346, 'normally': 3049, 'carly': 652, 'fiorina': 1749, 'litigation': 2644, 'seattle': 3991, 'stranger': 4316, 'simon': 4125, 'blanket': 488, 'waiver': 4837, 'ditch': 1333, 'farc': 1682, 'displace': 1314, 'santo': 3934, 'cocaine': 813, 'clinic': 792, 'austin': 328, 'crossing': 1069, 'reinforce': 3709, 'abbott': 4, 'offshore': 3116, 'swap': 4420, 'malcolm': 2715, 'turnbull': 4663, 'chart': 727, 'solidarity': 4190, 'disqualify': 1317, 'enrollment': 1510, 'operator': 3137, 'accuracy': 41, 'tolerance': 4562, 'memory': 2816, 'float': 1772, 'papadopoulo': 3224, 'troll': 4642, 'chaffetz': 701, 'swiss': 4429, 'judgment': 2448, 'acquisition': 51, 'rican': 3829, 'montana': 2914, 'mobilize': 2891, 'atlanta': 305, 'harvard': 2035, 'pharmaceutical': 3319, 'barron': 399, 'pig': 3336, 'diamond': 1255, 'silk': 4121, 'holocaust': 2111, 'await': 348, 'deteriorate': 1238, 'neil': 3008, 'gorsuch': 1933, 'lifetime': 2629, 'dissent': 1323, 'hezbollah': 2083, 'decisive': 1143, 'reliable': 3721, 'rescind': 3766, 'finicum': 1747, 'standoff': 4273, 'unarmed': 4687, 'bent': 447, 'hunt': 2160, 'consolidate': 945, 'mixed': 2885, 'casino': 661, 'berlusconi': 450, 'pollster': 3387, 'le': 2572, 'pen': 3276, 'centre': 691, 'liability': 2616, 'assignment': 293, 'singapore': 4131, 'genocide': 1894, 'retailer': 3799, 'rewrite': 3823, 'childhood': 740, 'harmful': 2031, 'jurisdiction': 2457, 'fashion': 1687, 'palestinians': 3215, 'terminal': 4502, 'poison': 3373, 'academy': 26, 'meter': 2828, 'inch': 2227, 'carrier': 654, 'wow': 4958, 'unpopular': 4740, 'veil': 4783, 'tpp': 4590, 'witch': 4933, 'useful': 4760, 'sir': 4135, 'recommendation': 3665, 'perspective': 3308, 'distract': 1327, 'inflict': 2262, 'origin': 3156, 'symbol': 4433, 'cair': 615, 'civic': 767, 'sadly': 3911, 'inequality': 2255, 'whip': 4900, 'unnecessary': 4738, 'panther': 3223, 'blm': 496, 'nasralla': 2974, 'incumbent': 2238, 'invoke': 2349, 'suburb': 4355, 'blacklivesmatter': 485, 'disability': 1283, 'index': 2242, 'sabotage': 3904, 'partially': 3238, 'fallout': 1671, 'islamabad': 2369, 'sharif': 4065, 'teenager': 4483, 'metal': 2827, 'robbery': 3855, 'nyt': 3079, 'dossier': 1361, 'steele': 4292, 'fusion': 1866, 'gps': 1942, 'lgbt': 2614, 'hey': 2082, 'assertion': 288, 'epic': 1530, 'grace': 1944, 'epa': 1529, 'pruitt': 3552, 'drilling': 1382, 'atrocity': 309, 'entitlement': 1519, 'lock': 2657, 'blog': 500, 'utterly': 4767, 'boom': 527, 'christianity': 751, 'acceptance': 30, 'suffering': 4367, 'mad': 2696, 'assemble': 285, 'lender': 2601, 'chao': 714, 'charter': 728, 'retired': 3804, 'manila': 2733, 'duterte': 1401, 'merrick': 2824, 'venue': 4787, 'delete': 1177, 'recount': 3670, 'disgust': 1306, 'offense': 3108, 'harass': 2023, 'milwaukee': 2856, 'colbert': 820, 'politicize': 3383, 'destabilize': 1227, 'golden': 1926, 'modi': 2898, 'mob': 2888, 'hindu': 2094, 'notorious': 3062, 'marshall': 2758, 'workplace': 4948, 'endure': 1494, 'airlines': 129, 'mogadishu': 2899, 'balloon': 378, 'smile': 4169, 'northeastern': 3052, 'spanish': 4218, 'hawk': 2051, 'technically': 4477, 'debbie': 1135, 'wasserman': 4861, 'schultz': 3963, 'brazile': 548, 'variety': 4776, 'dmitry': 1342, 'relevant': 3720, 'external': 1642, 'fabricate': 1651, 'monster': 2913, 'cornerstone': 1005, 'annually': 203, 'christie': 753, 'audit': 324, 'dublin': 1396, 'empower': 1482, 'zanu': 4988, 'pf': 3318, 'fame': 1674, 'execution': 1603, 'crony': 1064, 'crimea': 1056, 'boyfriend': 540, 'bomber': 520, 'monthly': 2916, 'deposit': 1210, 'edwards': 1433, 'pac': 3199, 'ward': 4847, 'portfolio': 3400, 'glass': 1916, 'greet': 1963, 'maritime': 2751, 'surrender': 4404, 'certificate': 698, 'zuma': 4999, 'tonne': 4570, 'shipment': 4083, 'baker': 372, 'ap': 216, 'marc': 2744, 'frightening': 1843, 'laura': 2559, 'houthi': 2142, 'smoke': 4171, 'ammon': 176, 'portland': 3402, 'counselor': 1023, 'lawrence': 2567, 'faculty': 1662, 'gabriel': 1868, 'hardly': 2028, 'elector': 1447, 'vacancy': 4769, 'krg': 2520, 'apprentice': 237, 'wright': 4960, 'destructive': 1230, 'ranking': 3620, 'katrina': 2471, 'teenage': 4482, 'switch': 4430, 'corey': 1002, 'lewandowski': 2612, 'decent': 1140, 'mcnamee': 2790, 'hong': 2119, 'nurse': 3073, 'birthday': 475, 'presumably': 3460, 'defensive': 1164, 'mcmaster': 2788, 'annexation': 198, 'peskov': 3312, 'ultra': 4682, 'log': 2659, 'norway': 3055, 'cohen': 816, 'whistleblower': 4901, 'triple': 4640, 'netanyahu': 3014, 'foster': 1812, 'salt': 3921, 'warren': 4856, 'kaine': 2464, 'ria': 3828, 'aile': 124, 'hitler': 2103, 'obsess': 3089, 'socialism': 4180, 'yahoo': 4968, 'separation': 4029, 'bogus': 514, 'override': 3187, 'obsession': 3090, 'constituent': 950, 'rejection': 3713, 'disabled': 1284, 'lane': 2541, 'barrel': 397, 'practical': 3427, 'niger': 3030, 'setback': 4045, 'heated': 2062, 'taylor': 4466, 'avenue': 343, 'accelerate': 27, 'schiff': 3960, 'implication': 2209, 'rioter': 3845, 'seth': 4046, 'birther': 476, 'kenya': 2480, 'kenyatta': 2481, 'odinga': 3105, 'devastating': 1245, 'christ': 749, 'protestor': 3538, 'colonel': 836, 'evangelical': 1575, 'mary': 2762, 'disgraceful': 1305, 'stupidity': 4342, 'fatal': 1690, 'roman': 3867, 'xinhua': 4967, 'leaker': 2578, 'abbas': 3, 'sisi': 4136, 'unilateral': 4720, 'defect': 1158, 'programme': 3509, 'bishop': 477, 'interpret': 2328, 'talent': 4449, 'lavrov': 2562, 'lease': 2581, 'ramaphosa': 3612, 'anc': 184, 'fascist': 1686, 'instruction': 2297, 'nigeria': 3031, 'amazon': 165, 'lewis': 2613, 'bullshit': 593, 'fucking': 1850, 'felon': 1713, 'en': 1483, 'lemon': 2600, 'abolish': 14, 'deduction': 1151, 'cnbc': 806, 'repatriation': 3744, 'watergate': 4866, 'nixon': 3036, 'najib': 2968, 'cease': 680, 'luther': 2691, 'sec': 3992, 'betsy': 455, 'marawi': 2743, 'stern': 4299, 'wells': 4892, 'fargo': 1683, 'undo': 4708, 'aca': 24, 'hurdle': 2162, 'arctic': 250, 'jane': 2392, 'slavery': 4154, 'battleground': 412, 'rosenstein': 3876, 'edt': 1428, 'rauner': 3632, 'assassinate': 282, 'keith': 2474, 'alec': 138, 'baldwin': 375, 'coward': 1038, 'automaker': 338, 'weird': 4888, 'behar': 427, 'interim': 2322, 'theology': 4522, 'fruit': 1846, 'saint': 3915, 'unaware': 4689, 'formation': 1805, 'sample': 3924, 'serbia': 4033, 'kabul': 2462, 'bowl': 536, 'stabilize': 4260, 'painful': 3207, 'louisiana': 2681, 'jesse': 2410, 'orchestrate': 3148, 'nune': 3072, 'yield': 4980, 'reactor': 3638, 'wade': 4834, 'catastrophic': 668, 'neocon': 3011, 'friedman': 1839, 'fuck': 1849, 'brady': 541, 'negotiating': 3002, 'conyer': 991, 'jessica': 2411, 'malia': 2717, 'arbitration': 248, 'dreamer': 1378, 'daca': 1099, 'sheet': 4072, 'reddit': 3676, 'evan': 1574, 'trader': 4594, 'blasio': 489, 'hamas': 2009, 'humiliating': 2155, 'hensarling': 2076, 'murray': 2958, 'tunnel': 4658, 'yellen': 4975, 'murphy': 2957, 'streep': 4321, 'drown': 1388, 'sole': 4187, 'stein': 4295, 'ku': 2521, 'klux': 2504, 'inflation': 2261, 'ayotte': 356, 'hunter': 2161, 'ceiling': 682, 'pregnancy': 3442, 'throat': 4538, 'gutierrez': 1995, 'sasse': 3937, 'ranch': 3614, 'bharara': 457, 'levy': 2611, 'kong': 2514, 'cdc': 678, 'guterre': 1994, 'deutsche': 1243, 'tobacco': 4558, 'delusional': 1183, 'lepage': 2604, 'andre': 187, 'unrelated': 4742, 'argentina': 254, 'cbo': 675, 'sanaa': 3926, 'snyder': 4177, 'gaza': 1884, 'congo': 927, 'mcmullin': 2789, 'weiner': 4886, 'pittsburgh': 3345, 'sdf': 3984, 'panama': 3218, 'cfpb': 700, 'fpo': 1818, 'gitmo': 1913, 'malta': 2720, 'hud': 2147, 'albright': 137, 'temer': 4490, 'lavar': 2561, 'haiti': 2003, 'cambodia': 623, 'vaccine': 4771, 'kosovo': 2518, 'haitian': 2004, 'gillespie': 1909, 'hun': 2156}\n"
     ]
    }
   ],
   "source": [
    "# Check Vectorized text\n",
    "print(Tfidf_vect.vocabulary_)"
   ]
  },
  {
   "cell_type": "code",
   "execution_count": 10,
   "id": "fbfd3028",
   "metadata": {
    "colab": {
     "base_uri": "https://localhost:8080/"
    },
    "executionInfo": {
     "elapsed": 361,
     "status": "ok",
     "timestamp": 1699003219428,
     "user": {
      "displayName": "Jyotsna Jayaraman",
      "userId": "05432190663465161045"
     },
     "user_tz": -660
    },
    "id": "fbfd3028",
    "outputId": "e269ce1f-621c-4559-9e3c-82586a41d0fe"
   },
   "outputs": [
    {
     "name": "stdout",
     "output_type": "stream",
     "text": [
      "  (0, 3589)\t0.03748850079260319\n",
      "  (0, 1752)\t0.04225433593730487\n",
      "  (0, 1328)\t0.056841868425184246\n",
      "  (0, 3078)\t0.05254245460120346\n",
      "  (0, 2201)\t0.04677094057261421\n",
      "  (0, 1950)\t0.02743591044372833\n",
      "  (0, 3344)\t0.026035306153605074\n",
      "  (0, 581)\t0.03180878297142107\n",
      "  (0, 3353)\t0.04645562645538626\n",
      "  (0, 3422)\t0.02719965029245486\n",
      "  (0, 3060)\t0.03493671440990817\n",
      "  (0, 3340)\t0.053209652345762345\n",
      "  (0, 1870)\t0.04252833911616693\n",
      "  (0, 3513)\t0.07376015942644769\n",
      "  (0, 2705)\t0.029003144835643407\n",
      "  (0, 3510)\t0.03955167982863909\n",
      "  (0, 4845)\t0.02051609013889616\n",
      "  (0, 3856)\t0.05142955203187901\n",
      "  (0, 855)\t0.04214702775942948\n",
      "  (0, 1718)\t0.04053942049416632\n",
      "  (0, 2800)\t0.023679945916820176\n",
      "  (0, 1166)\t0.031768274243735045\n",
      "  (0, 762)\t0.03366594671023535\n",
      "  (0, 2794)\t0.02448128680861861\n",
      "  (0, 2411)\t0.050306221621298434\n",
      "  :\t:\n",
      "  (33507, 4105)\t0.03935999869545678\n",
      "  (33507, 64)\t0.0334537215228083\n",
      "  (33507, 3515)\t0.08741777648044252\n",
      "  (33507, 2659)\t0.1271816954570371\n",
      "  (33507, 2049)\t0.052510504064557484\n",
      "  (33507, 3348)\t0.03255307344034274\n",
      "  (33507, 4845)\t0.027849400011320826\n",
      "  (33507, 1124)\t0.056514060698991855\n",
      "  (33507, 2222)\t0.027178988245292277\n",
      "  (33507, 4975)\t0.02240869667882076\n",
      "  (33507, 1495)\t0.09944629853224626\n",
      "  (33507, 920)\t0.04770068024943003\n",
      "  (33507, 457)\t0.03534141498600189\n",
      "  (33507, 1931)\t0.163185634209348\n",
      "  (33507, 3839)\t0.027542772524552367\n",
      "  (33507, 2558)\t0.031680163437747225\n",
      "  (33507, 4492)\t0.11988796518208732\n",
      "  (33507, 2541)\t0.03868986723506006\n",
      "  (33507, 3697)\t0.04631306529980988\n",
      "  (33507, 2855)\t0.0992690884577933\n",
      "  (33507, 2567)\t0.06273388626761328\n",
      "  (33507, 4444)\t0.06697385091943676\n",
      "  (33507, 3941)\t0.074978880413486\n",
      "  (33507, 3456)\t0.020038510700674236\n",
      "  (33507, 3811)\t0.021932088047140533\n"
     ]
    }
   ],
   "source": [
    "print(Train_X_Tfidf)"
   ]
  },
  {
   "cell_type": "markdown",
   "id": "dd1a6a7c",
   "metadata": {},
   "source": [
    "### SVM Model"
   ]
  },
  {
   "cell_type": "code",
   "execution_count": 11,
   "id": "16f8edc0",
   "metadata": {
    "colab": {
     "base_uri": "https://localhost:8080/"
    },
    "executionInfo": {
     "elapsed": 321148,
     "status": "ok",
     "timestamp": 1699003554958,
     "user": {
      "displayName": "Jyotsna Jayaraman",
      "userId": "05432190663465161045"
     },
     "user_tz": -660
    },
    "id": "16f8edc0",
    "outputId": "63dc3348-e5ec-4012-cbb4-2ade41300516"
   },
   "outputs": [
    {
     "name": "stdout",
     "output_type": "stream",
     "text": [
      "SVM Accuracy Score ->  71.09221128021485\n"
     ]
    }
   ],
   "source": [
    "# Classifier - Algorithm - SVM\n",
    "\n",
    "# fitting the training dataset on the classifier\n",
    "SVM = svm.SVC(C=1.0, kernel='linear', degree=3, gamma='auto')\n",
    "SVM.fit(Train_X_Tfidf,Train_Y)\n",
    "# Predicting the labels on validation dataset\n",
    "predictions_SVM = SVM.predict(Test_X_Tfidf)\n",
    "# Use accuracy_score function to get the accuracy\n",
    "print(\"SVM Accuracy Score -> \",accuracy_score(predictions_SVM, Test_Y)*100)"
   ]
  },
  {
   "cell_type": "code",
   "execution_count": 12,
   "id": "ca61f804",
   "metadata": {},
   "outputs": [
    {
     "name": "stdout",
     "output_type": "stream",
     "text": [
      "              precision    recall  f1-score   support\n",
      "\n",
      "        Fake       0.65      0.97      0.78      5819\n",
      "        Real       0.93      0.43      0.59      5351\n",
      "\n",
      "    accuracy                           0.71     11170\n",
      "   macro avg       0.79      0.70      0.68     11170\n",
      "weighted avg       0.79      0.71      0.69     11170\n",
      "\n"
     ]
    }
   ],
   "source": [
    "# Calculate classification report\n",
    "from sklearn.metrics import classification_report\n",
    "print(classification_report(Test_Y, predictions_SVM,\n",
    "                            target_names=[\"Fake\", \"Real\"]))"
   ]
  },
  {
   "cell_type": "code",
   "execution_count": 13,
   "id": "61c5e509",
   "metadata": {
    "executionInfo": {
     "elapsed": 381,
     "status": "ok",
     "timestamp": 1699004153187,
     "user": {
      "displayName": "Jyotsna Jayaraman",
      "userId": "05432190663465161045"
     },
     "user_tz": -660
    },
    "id": "61c5e509"
   },
   "outputs": [],
   "source": [
    "# Pickling the model\n",
    "import pickle\n",
    "pickle.dump(SVM,open('model_svm.pkl', 'wb'))"
   ]
  },
  {
   "cell_type": "markdown",
   "id": "aa46c2df",
   "metadata": {},
   "source": [
    "### Naive Bayes Model"
   ]
  },
  {
   "cell_type": "code",
   "execution_count": 14,
   "id": "87506604",
   "metadata": {
    "colab": {
     "base_uri": "https://localhost:8080/"
    },
    "executionInfo": {
     "elapsed": 454,
     "status": "ok",
     "timestamp": 1699003566372,
     "user": {
      "displayName": "Jyotsna Jayaraman",
      "userId": "05432190663465161045"
     },
     "user_tz": -660
    },
    "id": "87506604",
    "outputId": "17924d66-aa1c-4cee-822d-90475af017f0"
   },
   "outputs": [
    {
     "name": "stdout",
     "output_type": "stream",
     "text": [
      "Naive Bayes Accuracy Score ->  62.26499552372427\n"
     ]
    }
   ],
   "source": [
    "# Classifier - Algorithm - Naive Bayes\n",
    "\n",
    "# fitting the training dataset on the NB classifier\n",
    "Naive = naive_bayes.MultinomialNB()\n",
    "Naive.fit(Train_X_Tfidf,Train_Y)\n",
    "# predicting the labels on validation dataset\n",
    "predictions_NB = Naive.predict(Test_X_Tfidf)\n",
    "# Use accuracy_score function to get the accuracy\n",
    "print(\"Naive Bayes Accuracy Score -> \",accuracy_score(predictions_NB, Test_Y)*100)"
   ]
  },
  {
   "cell_type": "code",
   "execution_count": 15,
   "id": "38353e9e",
   "metadata": {},
   "outputs": [
    {
     "name": "stdout",
     "output_type": "stream",
     "text": [
      "              precision    recall  f1-score   support\n",
      "\n",
      "        Fake       0.59      0.89      0.71      5819\n",
      "        Real       0.74      0.33      0.46      5351\n",
      "\n",
      "    accuracy                           0.62     11170\n",
      "   macro avg       0.66      0.61      0.58     11170\n",
      "weighted avg       0.66      0.62      0.59     11170\n",
      "\n"
     ]
    }
   ],
   "source": [
    "# Calculate classification report\n",
    "print(classification_report(Test_Y, predictions_NB,\n",
    "                            target_names=[\"Fake\", \"Real\"]))"
   ]
  },
  {
   "cell_type": "code",
   "execution_count": 16,
   "id": "GFl53TktiiMe",
   "metadata": {
    "executionInfo": {
     "elapsed": 425,
     "status": "ok",
     "timestamp": 1699004187253,
     "user": {
      "displayName": "Jyotsna Jayaraman",
      "userId": "05432190663465161045"
     },
     "user_tz": -660
    },
    "id": "GFl53TktiiMe"
   },
   "outputs": [],
   "source": [
    "# Pickling the model\n",
    "pickle.dump(Naive,open('model_naive.pkl', 'wb'))"
   ]
  },
  {
   "cell_type": "markdown",
   "id": "09b47e79",
   "metadata": {},
   "source": [
    "### Testing SVM model further since it has better accuracy and recall"
   ]
  },
  {
   "cell_type": "code",
   "execution_count": 17,
   "id": "ke4_vClgiyCJ",
   "metadata": {
    "executionInfo": {
     "elapsed": 309,
     "status": "ok",
     "timestamp": 1699004241848,
     "user": {
      "displayName": "Jyotsna Jayaraman",
      "userId": "05432190663465161045"
     },
     "user_tz": -660
    },
    "id": "ke4_vClgiyCJ"
   },
   "outputs": [],
   "source": [
    "# load the SVM model from disk\n",
    "import pickle\n",
    "loaded_model = pickle.load(open('model_svm.pkl', 'rb'))"
   ]
  },
  {
   "cell_type": "code",
   "execution_count": 18,
   "id": "5i5D9y9WjCW2",
   "metadata": {
    "executionInfo": {
     "elapsed": 907,
     "status": "ok",
     "timestamp": 1699005340961,
     "user": {
      "displayName": "Jyotsna Jayaraman",
      "userId": "05432190663465161045"
     },
     "user_tz": -660
    },
    "id": "5i5D9y9WjCW2"
   },
   "outputs": [],
   "source": [
    "# Function for data cleaning\n",
    "import spacy\n",
    "nlp = spacy.load(r\"C:\\Users\\jyots\\Downloads\\en_core_web_sm-3.5.0\\en_core_web_sm\\en_core_web_sm-3.5.0\")\n",
    "\n",
    "def data_cleaning(text):\n",
    "\n",
    "    # changing to lower case\n",
    "    text = text.lower()\n",
    "\n",
    "    # Getting document ready for NLP tasks\n",
    "    doc = nlp(text)\n",
    "\n",
    "    # Empty list for storing cleaned data\n",
    "    clean_text = \"\"\n",
    "\n",
    "    # Remove stop words and lemmatize\n",
    "    lemmas = [token.lemma_ for token in doc if not token.is_stop and token.is_alpha]\n",
    "\n",
    "    # Join the lemmas back into a string\n",
    "    clean_text = ' '.join(lemmas)\n",
    "\n",
    "    return(clean_text)"
   ]
  },
  {
   "cell_type": "code",
   "execution_count": 19,
   "id": "8633db35",
   "metadata": {},
   "outputs": [
    {
     "data": {
      "text/plain": [
       "2362     trump weigh son russia attorney statement whit...\n",
       "842      house approve funding child healthcare program...\n",
       "28897    nra commercial stupid melt brain video day pla...\n",
       "2813     senior russian diplomat meet washington week w...\n",
       "6312     new north dakota governor expect controversial...\n",
       "                               ...                        \n",
       "20294    cambodian opposition party boycott parliament ...\n",
       "15192    hungry south sudanese refugee risk death retur...\n",
       "18553    bombast north korea genteel foreign minister s...\n",
       "9087     senior house democrat expect russia target ins...\n",
       "18627    turkey call citizen leave northern iraq flight...\n",
       "Name: text, Length: 11170, dtype: object"
      ]
     },
     "execution_count": 19,
     "metadata": {},
     "output_type": "execute_result"
    }
   ],
   "source": [
    "Test_X"
   ]
  },
  {
   "cell_type": "markdown",
   "id": "7d73e67c",
   "metadata": {},
   "source": [
    "#### Test inputs - Choose one and run before running input preperation and prediction"
   ]
  },
  {
   "cell_type": "code",
   "execution_count": 20,
   "id": "46ac8022",
   "metadata": {},
   "outputs": [],
   "source": [
    "# True\n",
    "check = \"WASHINGTON (Reuters) - The U.S. House of Representatives on Friday approved legislation to continue a federal insurance program for millions of lower-income children and pregnant women, but with an ongoing funding battle it could be weeks before the program gets more money.\""
   ]
  },
  {
   "cell_type": "code",
   "execution_count": 26,
   "id": "1fd199df",
   "metadata": {},
   "outputs": [],
   "source": [
    "# Fake\n",
    "check = \"This NRA Commercial Is So Stupid It Will Melt Your Brain (VIDEO) A few days after the Planned Parenthood shooting in Colorado Springs that left three dead and twelve injured, the National Rifle Association (NRA) released the dumbest pro-gun commercial likely ever seen. In the months since the commercial was released and in the aftermath of more mass shootings, it has popped up on my television screen multiple times. Every single time I see it my brain melts a l\""
   ]
  },
  {
   "cell_type": "code",
   "execution_count": 32,
   "id": "CVk7uVhYkp7j",
   "metadata": {
    "executionInfo": {
     "elapsed": 383,
     "status": "ok",
     "timestamp": 1699005346884,
     "user": {
      "displayName": "Jyotsna Jayaraman",
      "userId": "05432190663465161045"
     },
     "user_tz": -660
    },
    "id": "CVk7uVhYkp7j"
   },
   "outputs": [],
   "source": [
    "# True\n",
    "check= \"BERLIN (Reuters) U.S. President Donald Trump is undermining international stability with his decision to recognise Jerusalem as Israel s capital and move the U.S. embassy there, the leader of Germany s Social Democrats (SPD) said on Wednesday. Affirming his support for a two-state solution for Israelis and Palestinians, Martin Schulz said Trump s decision, taken despite warnings from a wide range of U.S. allies, risked setting back the peace process in the Middle East. Trump is due to announce later on Wednesday that the United States recognises Jerusalem as the capital of Israel and will move its embassy there, breaking with longtime U.S. policy and possibly stirring unrest.\""
   ]
  },
  {
   "cell_type": "code",
   "execution_count": 38,
   "id": "1c81c162",
   "metadata": {},
   "outputs": [],
   "source": [
    "# True\n",
    "check=\"WASHINGTON (Reuters) - U.S. President Donald Trump said he will meet on Tuesday with the Democratic leaders of the U.S. Senate and House of Representatives, Chuck Schumer and Nancy Pelosi, to discuss keeping the government open but cited differences with them. â€œMeeting with â€œChuck and Nancyâ€ today about keeping government open and working. Problem is they want illegal immigrants flooding into our Country unchecked, are weak on Crime and want to substantially RAISE Taxes. I donâ€™t see a deal!â€ Trump said in a Twitter post. \""
   ]
  },
  {
   "cell_type": "code",
   "execution_count": 43,
   "id": "f380597b",
   "metadata": {},
   "outputs": [],
   "source": [
    "# Fake\n",
    "check=\"President Trump spoke at the first ever Celebrate Freedom Rally last night delivering a barn burner of a speech to veterans and wounded warriors from Walter Reid Hospital. It was one of the best  red meat  speeches our President has ever delivered. We think you ll enjoy it Go to the 21:45 point for the amazing story of Harry F. Miller:Harry lied about his age to join the American forces. He was just 15 when he joined the US military during World War II. Harry was a US hero at The Battle of the Bulge!Harry s story:During the battle, the 1st Army Headquarters instructed the tank crews to go down to an ordnance depot and take whatever they needed for the tanks.  We had to take good parts off of one tank and put it on another. We finally got three tanks and a tank destroyer that would operate and run, and had a gun,  he said in an interview with VA. They took the three working tanks and sent them to their C Company. Those three tanks ended up taking out three German tanks, which ended up being members of the 1st SS Panzer Division Leibstandarte SS Adolf Hitlerbeing, Hitler s old body guards.\""
   ]
  },
  {
   "cell_type": "code",
   "execution_count": 49,
   "id": "c2aac370",
   "metadata": {},
   "outputs": [],
   "source": [
    "# Fake\n",
    "check=\"President Donald Trump told televangelist Pat Robertson in a new interview that he will make it safe to say  Merry Christmas You ll be saying Merry Christmas again soon Pat Robertson, the  700 Club  host and Christian Broadcasting Network founder, asked President Trump if he is going to  take on heavyweights.  The president said that he doesn t want to take on lightweights. He then turned to the topic of religious liberty: We have to bring our country back. Our country was going in the wrong direction. And by the way, what they were doing to religious liberty: They were destroying religious liberty. He then added this firm statement on the effort to bring back Christian liberty in America:  You will be saying  Merry Christmas  again very soon Robertson responded:  We ll count on it. President Trump previously stated that Democrats had been taking the wrong steps to improve the lives of all Americans: You couldn t build, you couldn t do anything One of the focuses of the Trump agenda has been stripping away regulations so Americans can be more productive. In addition, the president believes in stripping away all of the supposed politically correct phrases including  Happy Holidays . He s drawn a red line on those who insist on shaming anyone who chooses to say  Merry Christmas .While on the campaign trail, candidate Trump criticized the use of  Happy Holidays  as a substitute for  Merry Christmas .  His support among Evangelical Christians has remained high, with many including Robertson praising his appointment of Neil Gorsuch to the Supreme Court.\""
   ]
  },
  {
   "cell_type": "markdown",
   "id": "9c8d7a97",
   "metadata": {},
   "source": [
    "#### Calling data cleaning function with test data for data preperation and prediction"
   ]
  },
  {
   "cell_type": "code",
   "execution_count": 50,
   "id": "iRAHq6F9lY9Z",
   "metadata": {
    "colab": {
     "base_uri": "https://localhost:8080/",
     "height": 331
    },
    "executionInfo": {
     "elapsed": 330,
     "status": "error",
     "timestamp": 1699005349361,
     "user": {
      "displayName": "Jyotsna Jayaraman",
      "userId": "05432190663465161045"
     },
     "user_tz": -660
    },
    "id": "iRAHq6F9lY9Z",
    "outputId": "79a9284f-346e-49f9-b213-98b4d1fa09c3"
   },
   "outputs": [],
   "source": [
    "clean_text = data_cleaning(check)"
   ]
  },
  {
   "cell_type": "code",
   "execution_count": 51,
   "id": "4f7c0bb9",
   "metadata": {},
   "outputs": [
    {
     "data": {
      "text/plain": [
       "'president donald trump tell televangelist pat robertson new interview safe merry christmas ll say merry christmas soon pat robertson club host christian broadcasting network founder ask president trump go heavyweight president say doesn t want lightweight turn topic religious liberty bring country country go wrong direction way religious liberty destroy religious liberty add firm statement effort bring christian liberty america say merry christmas soon robertson respond ll count president trump previously state democrats take wrong step improve life americans couldn t build couldn t focus trump agenda strip away regulation americans productive addition president believe strip away suppose politically correct phrase include happy holiday s draw red line insist shame choose merry christmas campaign trail candidate trump criticize use happy holiday substitute merry christmas support evangelical christians remain high include robertson praise appointment neil gorsuch supreme court'"
      ]
     },
     "execution_count": 51,
     "metadata": {},
     "output_type": "execute_result"
    }
   ],
   "source": [
    "# Displaying clean text\n",
    "clean_text "
   ]
  },
  {
   "cell_type": "code",
   "execution_count": 52,
   "id": "ef915282",
   "metadata": {},
   "outputs": [],
   "source": [
    "# Converting clean text to series\n",
    "clean_text_ser = pd.Series(clean_text)"
   ]
  },
  {
   "cell_type": "code",
   "execution_count": 53,
   "id": "b1412b30",
   "metadata": {},
   "outputs": [
    {
     "data": {
      "text/plain": [
       "0    president donald trump tell televangelist pat ...\n",
       "dtype: object"
      ]
     },
     "execution_count": 53,
     "metadata": {},
     "output_type": "execute_result"
    }
   ],
   "source": [
    "# Displaying series\n",
    "clean_text_ser"
   ]
  },
  {
   "cell_type": "code",
   "execution_count": 54,
   "id": "b18ca3ee",
   "metadata": {},
   "outputs": [
    {
     "name": "stdout",
     "output_type": "stream",
     "text": [
      "Prediction of the News :  Fake\n"
     ]
    }
   ],
   "source": [
    "# Vectorizing clean data\n",
    "vectorized_input_data = Tfidf_vect.transform(clean_text_ser)\n",
    "# Predicting outcome\n",
    "prediction = loaded_model.predict(vectorized_input_data)\n",
    "# Printing outcome based on predicted value\n",
    "if prediction[0] == 0:\n",
    "    print(\"Prediction of the News :  Fake\")\n",
    "else:\n",
    "    print(\"Prediction of the News : Real\")"
   ]
  },
  {
   "cell_type": "code",
   "execution_count": 29,
   "id": "I2TxYE13kecz",
   "metadata": {
    "colab": {
     "base_uri": "https://localhost:8080/"
    },
    "executionInfo": {
     "elapsed": 438,
     "status": "ok",
     "timestamp": 1699004719861,
     "user": {
      "displayName": "Jyotsna Jayaraman",
      "userId": "05432190663465161045"
     },
     "user_tz": -660
    },
    "id": "I2TxYE13kecz",
    "outputId": "0d0cbb43-0709-4b52-e62a-563a6230e3db"
   },
   "outputs": [],
   "source": [
    "# Saving test data for future use\n",
    "Test_X.to_csv(\"test_X2\")"
   ]
  },
  {
   "cell_type": "code",
   "execution_count": null,
   "id": "27fb8fc7",
   "metadata": {},
   "outputs": [],
   "source": []
  }
 ],
 "metadata": {
  "accelerator": "GPU",
  "colab": {
   "gpuType": "T4",
   "provenance": []
  },
  "kernelspec": {
   "display_name": "Python 3 (ipykernel)",
   "language": "python",
   "name": "python3"
  },
  "language_info": {
   "codemirror_mode": {
    "name": "ipython",
    "version": 3
   },
   "file_extension": ".py",
   "mimetype": "text/x-python",
   "name": "python",
   "nbconvert_exporter": "python",
   "pygments_lexer": "ipython3",
   "version": "3.10.11"
  }
 },
 "nbformat": 4,
 "nbformat_minor": 5
}
