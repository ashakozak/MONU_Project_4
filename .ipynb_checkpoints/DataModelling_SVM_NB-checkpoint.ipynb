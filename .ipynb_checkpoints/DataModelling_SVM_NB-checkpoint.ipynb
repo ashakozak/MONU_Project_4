{
 "cells": [
  {
   "cell_type": "markdown",
   "id": "803d5908",
   "metadata": {
    "id": "803d5908"
   },
   "source": [
    "## Data Modelling using Supervised learning - SVM & Naive Bayes Classifier\n",
    "_________________________________________________\n"
   ]
  },
  {
   "cell_type": "code",
   "execution_count": 1,
   "id": "95428a31",
   "metadata": {
    "executionInfo": {
     "elapsed": 445,
     "status": "ok",
     "timestamp": 1699001069852,
     "user": {
      "displayName": "Jyotsna Jayaraman",
      "userId": "05432190663465161045"
     },
     "user_tz": -660
    },
    "id": "95428a31"
   },
   "outputs": [],
   "source": [
    "# Importing Dependencies\n",
    "import pandas as pd\n",
    "from pathlib import Path\n",
    "import matplotlib.pyplot as plt\n",
    "import numpy as np"
   ]
  },
  {
   "cell_type": "code",
   "execution_count": 2,
   "id": "625c5591",
   "metadata": {
    "executionInfo": {
     "elapsed": 2494,
     "status": "ok",
     "timestamp": 1699001073015,
     "user": {
      "displayName": "Jyotsna Jayaraman",
      "userId": "05432190663465161045"
     },
     "user_tz": -660
    },
    "id": "625c5591"
   },
   "outputs": [],
   "source": [
    "# Importing dependencies for vectorization and ML/DL\n",
    "from nltk.tokenize import word_tokenize\n",
    "from nltk import pos_tag\n",
    "from nltk.corpus import stopwords\n",
    "from nltk.stem import WordNetLemmatizer\n",
    "from sklearn.preprocessing import LabelEncoder\n",
    "from collections import defaultdict\n",
    "from nltk.corpus import wordnet as wn\n",
    "from sklearn.feature_extraction.text import TfidfVectorizer\n",
    "from sklearn import model_selection, naive_bayes, svm\n",
    "from sklearn.metrics import accuracy_score"
   ]
  },
  {
   "cell_type": "code",
   "execution_count": 3,
   "id": "7a291b60",
   "metadata": {
    "executionInfo": {
     "elapsed": 1609,
     "status": "ok",
     "timestamp": 1699001805915,
     "user": {
      "displayName": "Jyotsna Jayaraman",
      "userId": "05432190663465161045"
     },
     "user_tz": -660
    },
    "id": "7a291b60"
   },
   "outputs": [],
   "source": [
    "# Reading cleaned file with text for model creation\n",
    "# news_csv = Path('/content/drive/MyDrive/nlp_cleaned_news.csv')\n",
    "news_csv = Path('nlp_cleaned_news.csv')\n",
    "news_df = pd.read_csv(news_csv)"
   ]
  },
  {
   "cell_type": "code",
   "execution_count": 4,
   "id": "1NhiA-KZZCXK",
   "metadata": {
    "colab": {
     "base_uri": "https://localhost:8080/",
     "height": 206
    },
    "executionInfo": {
     "elapsed": 23,
     "status": "ok",
     "timestamp": 1699001808061,
     "user": {
      "displayName": "Jyotsna Jayaraman",
      "userId": "05432190663465161045"
     },
     "user_tz": -660
    },
    "id": "1NhiA-KZZCXK",
    "outputId": "115c3c3a-6eff-490e-fc83-3b04c8cf72b8"
   },
   "outputs": [
    {
     "data": {
      "text/html": [
       "<div>\n",
       "<style scoped>\n",
       "    .dataframe tbody tr th:only-of-type {\n",
       "        vertical-align: middle;\n",
       "    }\n",
       "\n",
       "    .dataframe tbody tr th {\n",
       "        vertical-align: top;\n",
       "    }\n",
       "\n",
       "    .dataframe thead th {\n",
       "        text-align: right;\n",
       "    }\n",
       "</style>\n",
       "<table border=\"1\" class=\"dataframe\">\n",
       "  <thead>\n",
       "    <tr style=\"text-align: right;\">\n",
       "      <th></th>\n",
       "      <th>text</th>\n",
       "      <th>class</th>\n",
       "    </tr>\n",
       "  </thead>\n",
       "  <tbody>\n",
       "    <tr>\n",
       "      <th>0</th>\n",
       "      <td>budget fight loom republicans flip fiscal scri...</td>\n",
       "      <td>1</td>\n",
       "    </tr>\n",
       "    <tr>\n",
       "      <th>1</th>\n",
       "      <td>military accept transgender recruit monday pen...</td>\n",
       "      <td>1</td>\n",
       "    </tr>\n",
       "    <tr>\n",
       "      <th>2</th>\n",
       "      <td>senior republican senator let mr mueller job w...</td>\n",
       "      <td>1</td>\n",
       "    </tr>\n",
       "    <tr>\n",
       "      <th>3</th>\n",
       "      <td>fbi russia probe help australian diplomat tip ...</td>\n",
       "      <td>1</td>\n",
       "    </tr>\n",
       "    <tr>\n",
       "      <th>4</th>\n",
       "      <td>trump want postal service charge amazon shipme...</td>\n",
       "      <td>1</td>\n",
       "    </tr>\n",
       "  </tbody>\n",
       "</table>\n",
       "</div>"
      ],
      "text/plain": [
       "                                                text  class\n",
       "0  budget fight loom republicans flip fiscal scri...      1\n",
       "1  military accept transgender recruit monday pen...      1\n",
       "2  senior republican senator let mr mueller job w...      1\n",
       "3  fbi russia probe help australian diplomat tip ...      1\n",
       "4  trump want postal service charge amazon shipme...      1"
      ]
     },
     "execution_count": 4,
     "metadata": {},
     "output_type": "execute_result"
    }
   ],
   "source": [
    "# Dropping extra column\n",
    "news_df = news_df.drop(['Unnamed: 0'], axis=1)\n",
    "news_df.head()"
   ]
  },
  {
   "cell_type": "code",
   "execution_count": 5,
   "id": "42oKDxbWZac4",
   "metadata": {
    "colab": {
     "base_uri": "https://localhost:8080/"
    },
    "executionInfo": {
     "elapsed": 593,
     "status": "ok",
     "timestamp": 1699001817288,
     "user": {
      "displayName": "Jyotsna Jayaraman",
      "userId": "05432190663465161045"
     },
     "user_tz": -660
    },
    "id": "42oKDxbWZac4",
    "outputId": "3f8b8f8d-a52c-45e3-b862-b1c7e9056f48"
   },
   "outputs": [
    {
     "data": {
      "text/plain": [
       "text     44678\n",
       "class    44678\n",
       "dtype: int64"
      ]
     },
     "execution_count": 5,
     "metadata": {},
     "output_type": "execute_result"
    }
   ],
   "source": [
    "# Dropping null rows\n",
    "news_df.dropna(inplace = True)\n",
    "news_df.count()"
   ]
  },
  {
   "cell_type": "markdown",
   "id": "59d7260c",
   "metadata": {},
   "source": [
    "### Splitting data into Train and Test and Vectorization\n",
    "Target  = news_df['class'], Feature = news_df['text']\n"
   ]
  },
  {
   "cell_type": "code",
   "execution_count": 6,
   "id": "f1fc9371",
   "metadata": {
    "executionInfo": {
     "elapsed": 376,
     "status": "ok",
     "timestamp": 1699003178264,
     "user": {
      "displayName": "Jyotsna Jayaraman",
      "userId": "05432190663465161045"
     },
     "user_tz": -660
    },
    "id": "f1fc9371"
   },
   "outputs": [],
   "source": [
    "# Preparing Train and Test Data sets\n",
    "Train_X, Test_X, Train_Y, Test_Y = model_selection.train_test_split(news_df['text'],news_df['class'], random_state=42)"
   ]
  },
  {
   "cell_type": "code",
   "execution_count": 7,
   "id": "1ec3c891",
   "metadata": {
    "executionInfo": {
     "elapsed": 16066,
     "status": "ok",
     "timestamp": 1699003206415,
     "user": {
      "displayName": "Jyotsna Jayaraman",
      "userId": "05432190663465161045"
     },
     "user_tz": -660
    },
    "id": "1ec3c891"
   },
   "outputs": [],
   "source": [
    "# Word Vectorization\n",
    "\n",
    "Tfidf_vect = TfidfVectorizer(max_features=5000)\n",
    "Tfidf_vect.fit(news_df['text'])\n",
    "Train_X_Tfidf = Tfidf_vect.transform(Train_X)\n",
    "Test_X_Tfidf = Tfidf_vect.transform(Test_X)"
   ]
  },
  {
   "cell_type": "code",
   "execution_count": 8,
   "id": "5e7ee9f6",
   "metadata": {
    "colab": {
     "base_uri": "https://localhost:8080/"
    },
    "executionInfo": {
     "elapsed": 916,
     "status": "ok",
     "timestamp": 1699003212948,
     "user": {
      "displayName": "Jyotsna Jayaraman",
      "userId": "05432190663465161045"
     },
     "user_tz": -660
    },
    "id": "5e7ee9f6",
    "outputId": "4bd6cf1b-791e-4383-ffbb-1dc12b4b022d"
   },
   "outputs": [
    {
     "name": "stdout",
     "output_type": "stream",
     "text": [
      "{'budget': 582, 'fight': 1721, 'loom': 2660, 'republicans': 3759, 'flip': 1767, 'fiscal': 1750, 'script': 3975, 'washington': 4857, 'reuters': 3808, 'head': 2046, 'conservative': 936, 'republican': 3758, 'faction': 1654, 'congress': 925, 'vote': 4824, 'month': 2905, 'huge': 2143, 'expansion': 1613, 'national': 2967, 'debt': 1134, 'pay': 3265, 'tax': 4457, 'cut': 1091, 'call': 614, 'sunday': 4377, 'urge': 4751, 'keep': 2464, 'sharp': 4060, 'pivot': 3342, 'way': 4867, 'representative': 3755, 'mark': 2741, 'speak': 4217, 'cbs': 673, 'face': 1648, 'nation': 2966, 'draw': 1376, 'hard': 2020, 'line': 2629, 'federal': 1700, 'spending': 4232, 'lawmaker': 2557, 'battle': 408, 'january': 2389, 'return': 3804, 'holiday': 2104, 'wednesday': 4879, 'begin': 424, 'try': 4647, 'pass': 3246, 'likely': 2624, 'link': 2630, 'issue': 2373, 'immigration': 2192, 'policy': 3375, 'november': 3055, 'congressional': 926, 'election': 1446, 'campaign': 621, 'approach': 239, 'seek': 3996, 'control': 978, 'president': 3454, 'donald': 1356, 'trump': 4643, 'want': 4842, 'big': 455, 'increase': 2228, 'military': 2838, 'democrat': 1186, 'non': 3033, 'defense': 1162, 'program': 3506, 'support': 4383, 'education': 1430, 'scientific': 3961, 'research': 3766, 'infrastructure': 2261, 'public': 3549, 'health': 2050, 'environmental': 1524, 'protection': 3531, 'administration': 72, 'willing': 4916, 'go': 1914, 'percent': 3286, 'chairman': 703, 'small': 4155, 'influential': 2255, 'house': 2133, 'freedom': 1826, 'caucus': 668, 'say': 3938, 'democrats': 1188, 'need': 2987, 'government': 1930, 'raise': 3606, 'eventually': 1577, 'run': 3890, 'people': 3283, 'money': 2899, 'late': 2544, 'december': 1138, 'party': 3245, 'finance': 1734, 'overhaul': 3177, 'expect': 1614, 'deficit': 1166, 'add': 66, 'trillion': 4632, 'year': 4974, 'interesting': 2314, 'hear': 2053, 'talk': 4445, 'responsibility': 3785, 'democratic': 1187, 'joseph': 2430, 'bill': 460, 'require': 3762, 'united': 4724, 'states': 4278, 'borrow': 526, 'future': 1859, 'generation': 1883, 'corporation': 1007, 'rich': 3826, 'responsible': 3786, 'see': 3995, 'history': 2096, 'think': 4520, 'come': 846, 'insist': 2280, 'package': 3196, 'boost': 522, 'economy': 1421, 'job': 2417, 'growth': 1966, 'speaker': 4218, 'paul': 3262, 'ryan': 3898, 'recently': 3657, 'make': 2704, 'clear': 782, 'radio': 3601, 'interview': 2328, 'welfare': 4889, 'reform': 3683, 'priority': 3479, 'mean': 2779, 'food': 1782, 'stamp': 4267, 'housing': 2135, 'assistance': 293, 'medicare': 2790, 'medicaid': 2788, 'insurance': 2294, 'elderly': 1444, 'poor': 3389, 'disabled': 1283, 'create': 1045, 'assist': 292, 'seize': 4000, 'early': 1406, 'remark': 3729, 'show': 4094, 'social': 4170, 'goal': 1915, 'seat': 3983, 'senate': 4009, 'approve': 243, 'prevent': 3463, 'shutdown': 4098, 'use': 4754, 'leverage': 2601, 'narrowly': 2964, 'defend': 1159, 'tackle': 4436, 'dreamer': 1378, 'bring': 560, 'illegally': 2182, 'country': 1026, 'child': 738, 'september': 4024, 'march': 2735, 'date': 1115, 'action': 55, 'childhood': 739, 'arrival': 266, 'daca': 1095, 'protect': 3530, 'young': 4984, 'immigrant': 2191, 'deportation': 1207, 'provide': 3539, 'work': 4943, 'permit': 3297, 'recent': 3656, 'twitter': 4666, 'message': 2814, 'funding': 1851, 'propose': 3524, 'mexican': 2818, 'border': 524, 'wall': 4837, 'law': 2555, 'change': 710, 'exchange': 1595, 'agree': 118, 'help': 2068, 'debbie': 1133, 'tell': 4480, 'favor': 1689, 'objective': 3076, 'clean': 780, 'aide': 125, 'meet': 2794, 'leader': 2564, 'discuss': 1301, 'follow': 1779, 'weekend': 4881, 'strategy': 4316, 'session': 4035, 'jan': 2387, 'white': 4901, 'schedule': 3952, 'florida': 1772, 'governor': 1932, 'rick': 3828, 'scott': 3966, 'emergency': 1470, 'aid': 124, 'billion': 462, 'hurricane': 2156, 'texas': 4508, 'puerto': 3553, 'rico': 3829, 'california': 612, 'far': 1677, 'exceed': 1590, 'request': 3761, 'accept': 27, 'transgender': 4604, 'recruit': 3672, 'monday': 2897, 'pentagon': 3282, 'allow': 159, 'time': 4541, 'start': 4275, 'order': 3144, 'court': 1032, 'friday': 1833, 'decide': 1140, 'appeal': 225, 'ruling': 3888, 'block': 490, 'ban': 377, 'virginia': 4809, 'week': 4880, 'reject': 3711, 'hold': 2100, 'low': 2675, 'judge': 2440, 'justice': 2452, 'department': 1198, 'official': 3104, 'challenge': 704, 'announce': 200, 'release': 3719, 'independent': 2234, 'study': 4333, 'interim': 2317, 'occur': 3091, 'wait': 4832, 'continue': 969, 'lawful': 2556, 'authority': 333, 'district': 1331, 'condition': 909, 'anonymity': 204, 'panel': 3215, 'senior': 4012, 'implement': 2198, 'directive': 1277, 'prohibit': 3510, 'individual': 2244, 'serve': 4031, 'feb': 1697, 'submit': 4344, 'plan': 3347, 'lawyer': 2560, 'represent': 3753, 'currently': 1086, 'service': 4033, 'member': 2799, 'majority': 2703, 'supreme': 4391, 'hope': 2118, 'happen': 2014, 'spokeswoman': 4242, 'heather': 2058, 'statement': 4277, 'mandate': 2720, 'prepared': 3447, 'access': 30, 'applicant': 231, 'standard': 4270, 'jennifer': 2400, 'gay': 1875, 'lesbian': 2595, 'transgend': 4603, 'advocacy': 91, 'group': 1964, 'glad': 1907, 'decision': 1141, 'great': 1949, 'news': 3010, 'justify': 2453, 'good': 1921, 'american': 175, 'civil': 766, 'union': 4720, 'plaintiff': 3346, 'lawsuit': 2559, 'file': 1725, 'supporter': 4384, 'july': 2445, 'reverse': 3812, 'barack': 388, 'obama': 3072, 'burden': 592, 'tremendous': 4622, 'medical': 2789, 'cost': 1015, 'disruption': 1322, 'baltimore': 376, 'seattle': 3984, 'legal': 2581, 'proceed': 3493, 'violate': 4804, 'right': 3836, 'constitution': 949, 'equal': 1532, 'dec': 1136, 'guideline': 1978, 'personnel': 3305, 'memo': 2802, 'outline': 3164, 'requirement': 3763, 'specify': 4224, 'sex': 4044, 'identify': 2169, 'wear': 4874, 'previously': 3466, 'paper': 3219, 'armed': 260, 'force': 1788, 'train': 4596, 'thousand': 4526, 'process': 3495, 'fit': 1752, 'set': 4036, 'deadline': 1124, 'secretary': 3989, 'james': 2386, 'mattis': 2765, 'postpone': 3412, 'take': 4440, 'step': 4294, 'aim': 127, 'roll': 3862, 'october': 3094, 'gender': 1879, 'base': 398, 'workplace': 4947, 'discrimination': 1299, 'employee': 1479, 'era': 1539, 'position': 3403, 'february': 1698, 'rescind': 3764, 'guidance': 1976, 'school': 3956, 'student': 4332, 'restroom': 3792, 'identity': 2170, 'senator': 4010, 'let': 2597, 'mr': 2931, 'mueller': 2936, 'special': 4220, 'counsel': 1021, 'investigation': 2336, 'russia': 3895, 'interference': 2316, 'despite': 1223, 'ally': 160, 'shut': 4097, 'prominent': 3512, 'lindsey': 2628, 'graham': 1940, 'judiciary': 2443, 'committee': 864, 'robert': 3850, 'carry': 653, 'political': 3378, 'forward': 1804, 'conduct': 910, 'influence': 2254, 'guy': 1989, 'question': 3582, 'interfere': 2315, 'co': 809, 'effort': 1437, 'office': 3102, 'sign': 4105, 'prepare': 3446, 'second': 3987, 'power': 3421, 'intensify': 2306, 'rhetoric': 3822, 'accuse': 43, 'team': 4466, 'bias': 450, 'new': 3008, 'york': 4982, 'times': 4543, 'fair': 1661, 'role': 3861, 'possible': 3408, 'focus': 1776, 'multiple': 2940, 'inquiry': 2275, 'investigate': 2335, 'probe': 3489, 'launch': 2551, 'bureau': 593, 'fbi': 1692, 'convict': 985, 'indict': 2242, 'deny': 1196, 'collusion': 835, 'kremlin': 2511, 'meddle': 2785, 'examination': 1586, 'dossier': 1362, 'compile': 880, 'british': 562, 'spy': 4253, 'christopher': 753, 'steele': 4289, 'prompt': 3516, 'saturday': 3933, 'report': 3749, 'trigger': 4631, 'tip': 4546, 'foreign': 1791, 'adviser': 88, 'george': 1889, 'australian': 329, 'diplomat': 1272, 'damaging': 1102, 'information': 2260, 'rival': 3843, 'hillary': 2089, 'clinton': 793, 'somebody': 4188, 'look': 2659, 'bother': 529, 'greatly': 1950, 'matter': 2763, 'fact': 1652, 'hurt': 2157, 'ignore': 2177, 'nyt': 3070, 'dirt': 1280, 'presidential': 3455, 'candidate': 630, 'conversation': 983, 'alexander': 143, 'london': 2654, 'drive': 1385, 'factor': 1656, 'open': 3122, 'counter': 1023, 'intelligence': 2303, 'moscow': 2916, 'contact': 960, 'meeting': 2795, 'counterpart': 1024, 'leak': 2567, 'email': 1460, 'appear': 226, 'online': 3120, 'accord': 36, 'newspaper': 3011, 'cite': 761, 'current': 1085, 'friendly': 1835, 'include': 2222, 'dutch': 1399, 'chicago': 736, 'international': 2320, 'energy': 1497, 'plead': 3358, 'guilty': 1980, 'oct': 3093, 'lie': 2617, 'agent': 112, 'claim': 768, 'tie': 4536, 'russian': 3896, 'criminal': 1056, 'charge': 717, 'allege': 152, 'play': 3355, 'extremely': 1643, 'limited': 2626, 'egyptian': 1441, 'al': 133, 'sisi': 4126, 'edit': 1424, 'major': 2702, 'speech': 4227, 'april': 245, 'lead': 2563, 'hang': 2012, 'ago': 117, 'immediately': 2190, 'respond': 3782, 'reuter': 3807, 'comment': 854, 'decline': 1145, 'attorney': 318, 'respect': 3781, 'associate': 295, 'amazon': 167, 'ship': 4075, 'pick': 3331, 'retail': 3795, 'giant': 1898, 'criticize': 1061, 'past': 3251, 'post': 3410, 'lose': 2667, 'dollar': 1352, 'little': 2636, 'deliver': 1179, 'write': 4961, 'tweet': 4662, 'fresh': 1832, 'attention': 316, 'fragile': 1813, 'ten': 4486, 'million': 2844, 'season': 3982, 'loss': 2669, 'agency': 110, 'receive': 3655, 'expense': 1617, 'website': 4877, 'delivery': 1180, 'increasingly': 2229, 'important': 2205, 'business': 599, 'internet': 2322, 'class': 774, 'letter': 2599, 'determine': 1237, 'rate': 3629, 'regulatory': 3703, 'commission': 859, 'commissioner': 860, 'select': 4002, 'price': 3467, 'found': 1807, 'jeff': 2398, 'remain': 3728, 'chief': 737, 'executive': 1602, 'officer': 3103, 'company': 871, 'person': 3301, 'world': 4948, 'bloomberg': 495, 'own': 3189, 'repeatedly': 3745, 'rail': 3604, 'criticism': 1060, 'medium': 2793, 'story': 4309, 'sale': 3915, 'true': 4641, 'retailer': 3796, 'pattern': 3261, 'businessman': 600, 'reality': 3645, 'television': 4479, 'host': 2126, 'turn': 4657, 'daniel': 1109, 'analyst': 183, 'insight': 2279, 'warning': 4850, 'concern': 900, 'hike': 2085, 'risk': 3842, 'clearly': 784, 'aware': 349, 'build': 583, 'distribution': 1330, 'system': 4434, 'aggressively': 115, 'interest': 2312, 'shift': 4072, 'test': 4504, 'drone': 1387, 'spend': 4231, 'total': 4570, 'share': 4055, 'afternoon': 107, 'overall': 3175, 'stock': 4303, 'slightly': 4148, 'inc': 2217, 'analyze': 184, 'datum': 1116, 'dispute': 1316, 'idea': 2166, 'corp': 1005, 'player': 3356, 'customer': 1089, 'up': 4741, 'day': 1120, 'peak': 3270, 'end': 1490, 'agreement': 119, 'mail': 2695, 'carrier': 652, 'leg': 2579, 'journey': 2435, 'tap': 4451, 'debate': 1132, 'pace': 3193, 'rise': 3841, 'commerce': 857, 'flood': 1769, 'like': 2623, 'long': 2656, 'unfairly': 4710, 'steve': 4297, 'spokesman': 4240, 'note': 3049, 'value': 4770, 'productive': 3501, 'relationship': 3716, 'method': 2817, 'cover': 1034, 'available': 342, 'annual': 202, 'revenue': 3811, 'marketing': 2743, 'flat': 1759, 'sept': 4023, 'temporary': 4485, 'expire': 1621, 'accountability': 38, 'grow': 1965, 'particularly': 3240, 'pension': 3281, 'benefit': 439, 'liability': 2607, 'allocate': 158, 'west': 4893, 'palm': 3212, 'beach': 413, 'kick': 2480, 'wrap': 4959, 'legislative': 2585, 'activity': 59, 'stage': 4264, 'eager': 1404, 'maintain': 2701, 'opening': 3123, 'away': 351, 'mulvaney': 2941, 'affair': 94, 'director': 1279, 'marc': 2734, 'short': 4087, 'mitch': 2872, 'mcconnell': 2774, 'chuck': 754, 'schumer': 3959, 'nancy': 2961, 'pelosi': 3272, 'camp': 620, 'david': 1118, 'retreat': 3803, 'maryland': 2751, 'term': 4493, 'christmas': 752, 'break': 546, 'domestic': 1353, 'agenda': 111, 'disaster': 1289, 'hit': 2097, 'ask': 276, 'figure': 1724, 'soon': 4193, 'adult': 80, 'enter': 1513, 'know': 2503, 'effective': 1435, 'give': 1906, 'solution': 4184, 'number': 3060, 'large': 2538, 'push': 3569, 'broad': 563, 'tough': 4573, 'security': 3994, 'oppose': 3134, 'promise': 3513, 'fully': 1845, 'understand': 4701, 'desperately': 1222, 'southern': 4204, 'horrible': 2121, 'chain': 701, 'migration': 2833, 'ridiculous': 3832, 'etc': 1561, 'rule': 3887, 'family': 1672, 'live': 2637, 'flake': 1756, 'frequent': 1830, 'critic': 1058, 'fix': 1753, 'beef': 422, 'stop': 4306, 'address': 69, 'diversity': 1336, 'potus': 3416, 'kid': 2481, 'ceiling': 679, 'avoid': 346, 'default': 1155, 'treasury': 4617, 'option': 3140, 'cash': 658, 'nonpartisan': 3035, 'win': 4919, 'victory': 4796, 'passage': 3247, 'timeline': 4542, 'unclear': 4692, 'thursday': 4533, 'believe': 433, 'fairly': 1662, 'treat': 4618, 'meddling': 2786, 'conclusion': 905, 'defeat': 1156, 'hack': 1991, 'embarrassing': 1464, 'propaganda': 3519, 'describe': 1212, 'minute': 2859, 'golf': 1920, 'club': 805, 'deputy': 1210, 'general': 1880, 'rod': 3855, 'rosenstein': 3870, 'quickly': 3586, 'possibly': 3409, 'timing': 4544, 'wise': 4929, 'bad': 362, 'core': 1000, 'anger': 192, 'strong': 4327, 'rare': 3627, 'vacation': 4765, 'aside': 275, 'mainly': 2699, 'profile': 3504, 'apart': 218, 'georgia': 1890, 'legislation': 2584, 'cap': 631, 'dinner': 1270, 'wilbur': 4910, 'ross': 3871, 'trade': 4585, 'hawk': 2045, 'road': 3847, 'undocumented': 4706, 'back': 356, 'chinese': 742, 'practice': 3425, 'beijing': 429, 'pressure': 3457, 'north': 3042, 'korea': 2507, 'nuclear': 3058, 'missile': 2867, 'testing': 4507, 'disappoint': 1287, 'result': 3793, 'complain': 881, 'free': 1825, 'nafta': 2957, 'attempt': 312, 'renegotiate': 3736, 'mexico': 2819, 'canada': 625, 'canadian': 626, 'prime': 3473, 'minister': 2853, 'justin': 2454, 'trudeau': 4640, 'importance': 2204, 'oil': 3110, 'export': 1630, 'balance': 370, 'deal': 1126, 'terminate': 4495, 'pretty': 3461, 'factbox': 1653, 'approval': 242, 'rating': 3630, 'account': 37, 'opinion': 3130, 'express': 1633, 'confirm': 916, 'accuracy': 40, 'fake': 1664, 'love': 2674, 'approximately': 244, 'massive': 2756, 'negative': 2988, 'coverage': 1035, 'hoax': 2099, 'est': 1556, 'source': 4201, 'global': 1910, 'warming': 4847, 'america': 174, 'east': 1414, 'cold': 823, 'eve': 1573, 'record': 3667, 'bit': 472, 'old': 3114, 'alabama': 134, 'certify': 698, 'elect': 1445, 'jones': 2426, 'today': 4550, 'cnn': 808, 'state': 4276, 'john': 2419, 'doug': 1365, 'winner': 4923, 'opponent': 3132, 'roy': 3881, 'moore': 2909, 'phone': 3322, 'allegation': 151, 'grope': 1961, 'teenage': 4474, 'girl': 1902, 'outcome': 3160, 'race': 3592, 'derail': 1211, 'accusation': 42, 'sexual': 4047, 'misconduct': 2861, 'percentage': 3287, 'point': 3369, 'quarter': 3580, 'century': 692, 'board': 501, 'marshall': 2747, 'narrow': 2963, 'chapter': 714, 'pledge': 3360, 'concede': 898, 'stand': 4269, 'fraudulent': 1823, 'regret': 3697, 'outlet': 3163, 'shortly': 4089, 'potential': 3414, 'voter': 4825, 'fraud': 1822, 'chance': 708, 'filing': 1728, 'circuit': 758, 'halt': 2001, 'recount': 3669, 'addition': 67, 'fox': 1811, 'channel': 711, 'complete': 883, 'period': 3294, 'notify': 3051, 'intention': 2308, 'case': 657, 'distance': 1326, 'drop': 1388, 'woman': 4937, 'assault': 283, 'teenager': 4475, 'wrongdoing': 4965, 'able': 11, 'independently': 2235, 'verify': 4783, 'code': 816, 'target': 4454, 'high': 2081, 'unconstitutional': 4694, 'andrew': 188, 'cuomo': 1081, 'resident': 3772, 'sweeping': 4423, 'introduce': 2331, 'deduction': 1149, 'local': 2645, 'income': 2225, 'property': 3522, 'taxis': 4458, 'salt': 3919, 'provision': 3542, 'taxpayer': 4459, 'jersey': 2402, 'generally': 1881, 'sure': 4392, 'legally': 2583, 'constitutional': 950, 'cnbc': 807, 'suggest': 4366, 'politic': 3377, 'override': 3179, 'fifth': 1720, 'amendment': 173, 'well': 4890, 'self': 4004, 'seizure': 4001, 'life': 2619, 'liberty': 2612, 'interpret': 2323, 'guarantee': 1968, 'jerry': 2401, 'brown': 572, 'explore': 1627, 'limit': 2625, 'professor': 3503, 'rest': 3787, 'argue': 254, 'argument': 255, 'discriminate': 1298, 'place': 3343, 'heavily': 2059, 'blue': 497, 'de': 1122, 'facto': 1655, 'effect': 1434, 'perspective': 3306, 'firm': 1748, 'expert': 1620, 'frequently': 1831, 'grace': 1936, 'valid': 4768, 'indiana': 2239, 'university': 4727, 'detail': 1228, 'publish': 3552, 'suggestion': 4367, 'form': 1797, 'employer': 1480, 'payroll': 3267, 'apply': 233, 'entity': 1520, 'specifically': 4223, 'portion': 3399, 'partial': 3234, 'pre': 3429, 'payment': 3266, 'wave': 4866, 'internal': 2319, 'advise': 87, 'apologize': 220, 'minor': 2857, 'crooked': 1063, 'st': 4256, 'fundraiser': 1852, 'beg': 423, 'iraq': 2350, 'syria': 4432, 'isis': 2361, 'fighter': 1722, 'square': 4255, 'mile': 2836, 'territory': 4499, 'estimate': 1560, 'occupy': 3090, 'roughly': 3874, 'leave': 2572, 'fire': 1745, 'rescue': 3765, 'man': 2714, 'amazing': 166, 'arrest': 265, 'mnuchin': 2878, 'protest': 3532, 'paragraph': 3222, 'correct': 1009, 'mental': 2805, 'bernie': 446, 'gift': 1899, 'horse': 2124, 'los': 2666, 'angeles': 191, 'home': 2108, 'steven': 4298, 'county': 1027, 'telephone': 4477, 'fill': 1729, 'outside': 3170, 'air': 128, 'community': 870, 'tv': 4661, 'nbc': 2980, 'affiliate': 97, 'find': 1738, 'neighbor': 2992, 'funny': 1855, 'eye': 1647, 'angry': 194, 'street': 4318, 'secret': 3988, 'police': 3373, 'incident': 2220, 'admit': 77, 'lieutenant': 2618, 'rob': 3848, 'assign': 291, 'box': 533, 'present': 3450, 'danger': 1107, 'illegal': 2181, 'bomb': 513, 'squad': 4254, 'ray': 3633, 'photo': 3324, 'card': 642, 'warm': 4846, 'wish': 4930, 'accompany': 33, 'night': 3022, 'ashamed': 272, 'behavior': 428, 'reach': 3634, 'settle': 4039, 'tuesday': 4650, 'mount': 2924, 'stake': 4265, 'originally': 3153, 'twist': 4665, 'dramatic': 1374, 'beat': 417, 'incumbent': 2232, 'single': 4123, 'slim': 4149, 'delegate': 1174, 'split': 4239, 'arrangement': 264, 'emerge': 1469, 'ballot': 375, 'count': 1022, 'hub': 2140, 'equivalent': 1538, 'toss': 4569, 'final': 1731, 'image': 2186, 'bubble': 580, 'name': 2960, 'slash': 4140, 'reporter': 3751, 'implication': 2201, 'contest': 967, 'integrity': 2300, 'consider': 937, 'resort': 3779, 'resolve': 3778, 'random': 3616, 'review': 3813, 'act': 54, 'historic': 2093, 'gain': 1862, 'nov': 3054, 'tower': 4578, 'miss': 2866, 'owner': 3190, 'investigator': 2338, 'organize': 3149, 'russians': 3897, 'son': 4191, 'familiar': 1671, 'involve': 2344, 'jr': 2437, 'collude': 834, 'representatives': 3756, 'closed': 798, 'door': 1361, 'citizen': 762, 'bear': 415, 'soviet': 4208, 'republic': 3757, 'real': 3644, 'estate': 1559, 'june': 2448, 'interested': 2313, 'learn': 2570, 'attend': 313, 'private': 3483, 'las': 2541, 'vegas': 4776, 'celebrate': 680, 'extent': 1638, 'client': 789, 'jared': 2392, 'kushner': 2519, 'veselnitskaya': 4787, 'witness': 4935, 'photograph': 3325, 'pop': 3391, 'singer': 4122, 'table': 4435, 'picture': 3332, 'billionaire': 463, 'developer': 1243, 'award': 348, 'honor': 2116, 'vladimir': 4819, 'putin': 3571, 'evidence': 1580, 'later': 2545, 'steal': 4287, 'organization': 3148, 'discussion': 1302, 'lift': 2621, 'economic': 1419, 'sanction': 3924, 'ahead': 122, 'donation': 1358, 'charity': 719, 'initially': 2264, 'adoption': 79, 'ultimately': 4678, 'conference': 912, 'room': 3868, 'unfair': 4709, 'unpopular': 4735, 'essentially': 1555, 'repeal': 3743, 'obamacare': 3073, 'develop': 1242, 'healthcare': 2051, 'wow': 4958, 'bogus': 508, 'dnc': 1343, 'fund': 1848, 'pile': 3335, 'basis': 404, 'market': 2742, 'poise': 3370, 'success': 4354, 'uphold': 4745, 'columbia': 840, 'electronic': 1452, 'privacy': 3482, 'center': 688, 'epic': 1529, 'watchdog': 4862, 'standing': 4271, 'collect': 828, 'data': 1113, 'impact': 2195, 'assessment': 289, 'gather': 1873, 'personal': 3302, 'unanimously': 4683, 'intend': 2304, 'karen': 2459, 'injunction': 2267, 'collection': 829, 'bind': 465, 'govern': 1928, 'vice': 4793, 'mike': 2835, 'pence': 3276, 'advisory': 90, 'body': 505, 'lack': 2526, 'compel': 875, 'hand': 2007, 'oversee': 3181, 'popular': 3393, 'chair': 702, 'kansas': 2458, 'advocate': 92, 'identification': 2168, 'digit': 1266, 'birth': 468, 'affiliation': 98, 'felony': 1709, 'conviction': 986, 'voting': 4826, 'refuse': 3688, 'outright': 3169, 'eventual': 1576, 'finding': 1739, 'measure': 2782, 'tend': 4487, 'cast': 660, 'send': 4011, 'neighborhood': 2993, 'suspect': 4409, 'instead': 2287, 'evening': 1574, 'inside': 2277, 'footage': 1785, 'dump': 1398, 'discover': 1295, 'goldman': 1919, 'sachs': 3902, 'hollywood': 2105, 'film': 1730, 'close': 797, 'hour': 2132, 'station': 4279, 'partially': 3235, 'refugee': 3686, 'restriction': 3791, 'admission': 76, 'travel': 4614, 'judicial': 2442, 'curb': 1083, 'contribute': 975, 'significantly': 4109, 'procedure': 3492, 'grant': 1942, 'branch': 539, 'effectively': 1436, 'pause': 3263, 'middle': 2829, 'africa': 104, 'pende': 3277, 'subject': 4342, 'egypt': 1440, 'iran': 2348, 'libya': 2614, 'mali': 2711, 'somalia': 4187, 'south': 4202, 'sudan': 4359, 'yemen': 4977, 'connection': 931, 'screening': 3972, 'join': 2421, 'homeland': 2109, 'praise': 3426, 'relief': 3722, 'situation': 4130, 'spouse': 4248, 'litigation': 2635, 'project': 3511, 'disagree': 1284, 'evaluate': 1570, 'appoint': 234, 'bench': 438, 'bush': 598, 'relative': 3717, 'version': 4785, 'enforcement': 1499, 'muslim': 2950, 'exclusive': 1597, 'weaken': 4869, 'remove': 3735, 'instruction': 2292, 'replace': 3746, 'spell': 4229, 'cross': 1064, 'contain': 961, 'sensitive': 4014, 'questioning': 3584, 'reminder': 3732, 'document': 1345, 'word': 4942, 'age': 109, 'instance': 2286, 'comparison': 873, 'update': 4743, 'consistent': 940, 'worry': 4951, 'appearance': 227, 'difficult': 1263, 'concerned': 901, 'tone': 4560, 'key': 2477, 'entry': 1522, 'vulnerable': 4829, 'eliminate': 1456, 'section': 3991, 'comfortable': 851, 'advance': 81, 'hearing': 2054, 'sit': 4128, 'location': 2647, 'especially': 1551, 'resource': 3780, 'put': 3570, 'warn': 4848, 'skeptical': 4133, 'favorable': 1690, 'treatment': 4619, 'category': 666, 'alien': 145, 'incentive': 2218, 'status': 4282, 'qualify': 3578, 'abuse': 22, 'language': 2536, 'previous': 3465, 'routinely': 3879, 'association': 297, 'feeling': 1705, 'neutral': 3005, 'promote': 3514, 'level': 2600, 'emphasis': 1475, 'inability': 2213, 'proceeding': 3494, 'handle': 2010, 'surge': 4395, 'central': 689, 'sky': 4137, 'rocket': 3854, 'violence': 4806, 'region': 3693, 'cause': 669, 'flee': 1762, 'crossing': 1065, 'fall': 1665, 'customs': 1090, 'boston': 528, 'exploit': 1626, 'gang': 1864, 'wolf': 4936, 'clothing': 802, 'echo': 1418, 'innocent': 2273, 'kind': 2489, 'procedural': 3491, 'anti': 209, 'trafficking': 4592, 'get': 1894, 'shot': 4090, 'complicated': 888, 'suspicious': 4413, 'truth': 4646, 'testify': 4505, 'instruct': 2291, 'compromise': 894, 'prosecutor': 3527, 'range': 3618, 'toy': 4581, 'book': 520, 'item': 2378, 'separate': 4019, 'detain': 1230, 'transport': 4610, 'coast': 813, 'struggle': 4331, 'enact': 1485, 'credible': 1049, 'regulate': 3700, 'conclude': 904, 'scope': 3963, 'terrorism': 4501, 'hawaii': 2044, 'certain': 695, 'venezuela': 4778, 'chaos': 713, 'airport': 131, 'mass': 2753, 'revise': 3814, 'exception': 1592, 'visa': 4813, 'tourism': 4575, 'purpose': 3566, 'waiver': 4833, 'pleased': 3359, 'americans': 176, 'safe': 3909, 'bid': 453, 'page': 3199, 'succeed': 4353, 'merit': 2810, 'intervene': 2326, 'trial': 4624, 'fourth': 1810, 'similar': 4114, 'jesus': 2406, 'suffer': 4363, 'harm': 2024, 'worthy': 4955, 'uniform': 4716, 'simply': 4118, 'ready': 3641, 'august': 325, 'openly': 3124, 'authorize': 335, 'surgery': 4396, 'active': 56, 'duty': 1401, 'fail': 1659, 'oust': 3158, 'shake': 4050, 'peru': 3308, 'kuczynski': 2514, 'surprise': 4397, 'opposition': 3136, 'rank': 3619, 'divide': 1338, 'strengthen': 4320, 'have': 2041, 'unable': 4681, 'motion': 2920, 'save': 3936, 'cement': 684, 'threaten': 4528, 'potentially': 3415, 'restore': 3789, 'stability': 4258, 'revive': 3815, 'investment': 2339, 'latin': 2546, 'robust': 3852, 'strike': 4324, 'rebel': 3650, 'father': 1687, 'ex': 1583, 'prison': 3480, 'jose': 2429, 'sister': 4127, 'leadership': 2565, 'populist': 3396, 'movement': 2928, 'defiance': 1165, 'throw': 4531, 'graft': 1939, 'formal': 1798, 'pollster': 3385, 'ipsos': 2347, 'pardon': 3225, 'negotiation': 2990, 'reflect': 3682, 'half': 1999, 'politically': 3379, 'different': 1261, 'defect': 1157, 'successful': 4355, 'stay': 4285, 'sentence': 4015, 'human': 2145, 'crime': 1054, 'deeply': 1153, 'divisive': 1340, 'corrupt': 1013, 'dictator': 1254, 'credit': 1050, 'crisis': 1057, 'bloody': 494, 'leftist': 2578, 'insurgency': 2296, 'foe': 1777, 'mix': 2875, 'activist': 58, 'academic': 24, 'harvard': 2029, 'scientist': 3962, 'crowd': 1066, 'thin': 4518, 'left': 2577, 'banker': 381, 'amid': 177, 'fast': 1683, 'scandal': 3943, 'stall': 4266, 'fan': 1674, 'fear': 1695, 'authoritarian': 332, 'coup': 1028, 'corruption': 1014, 'hardline': 2021, 'loyal': 2677, 'sense': 4013, 'resignation': 3774, 'journalist': 2434, 'hopefully': 2120, 'few': 1717, 'command': 852, 'chamber': 706, 'absolute': 18, 'bloc': 489, 'interior': 2318, 'carlos': 649, 'cabinet': 606, 'mar': 2732, 'lago': 2529, 'ceremony': 694, 'finish': 1743, 'folk': 1778, 'piece': 3333, 'significant': 4108, 'accomplishment': 35, 'await': 347, 'corporate': 1006, 'temporarily': 4484, 'reduce': 3675, 'wake': 4834, 'boeing': 507, 'wells': 4891, 'fargo': 1678, 'broadcast': 564, 'literally': 2634, 'wild': 4911, 'wealthy': 4872, 'decade': 1137, 'extend': 1635, 'largely': 2539, 'staffer': 4263, 'staff': 4262, 'gary': 1869, 'cohn': 819, 'sec': 3985, 'financial': 1735, 'regulator': 3702, 'reporting': 3752, 'reasonable': 3648, 'uncertain': 4689, 'list': 2632, 'additional': 68, 'disclosure': 1293, 'jay': 2395, 'stein': 4292, 'michael': 2823, 'affect': 96, 'flag': 1755, 'material': 2761, 'operation': 3126, 'shareholder': 4056, 'lower': 2676, 'overseas': 3180, 'numerous': 3061, 'circumstance': 760, 'amount': 180, 'newly': 3009, 'necessary': 2985, 'analysis': 182, 'unexpected': 4708, 'worker': 4944, 'rage': 3602, 'predict': 3435, 'bipartisan': 466, 'fashion': 1682, 'perfect': 3290, 'having': 2043, 'rebuild': 3652, 'accomplish': 34, 'absolutely': 19, 'thing': 4519, 'thank': 4512, 'charlie': 722, 'usa': 4753, 'sadly': 3908, 'mainstream': 2700, 'beautiful': 418, 'harry': 2027, 'regulation': 3701, 'appointment': 236, 'va': 4763, 'oval': 3174, 'city': 764, 'ministry': 2854, 'response': 3784, 'sector': 3992, 'framework': 1815, 'partisan': 3241, 'tout': 4577, 'confirmation': 917, 'neil': 2995, 'gorsuch': 1925, 'shrink': 4096, 'difficulty': 1264, 'affordable': 100, 'care': 643, 'confrontation': 920, 'area': 250, 'dodd': 1347, 'frank': 1819, 'banking': 382, 'institution': 2289, 'kentucky': 2471, 'advanced': 82, 'sponsor': 4243, 'negotiator': 2991, 'floor': 1771, 'hell': 2066, 'pursue': 3567, 'improvement': 2212, 'lot': 2670, 'construction': 952, 'cooperate': 994, 'decisive': 1142, 'hint': 2090, 'consult': 955, 'prospect': 3528, 'stronghold': 4328, 'margin': 2737, 'controversial': 979, 'sexually': 4048, 'dirty': 1281, 'happy': 2015, 'summer': 4373, 'embrace': 1468, 'rewrite': 3820, 'lock': 2648, 'cell': 683, 'retire': 3800, 'signature': 4107, 'daily': 1098, 'excessive': 1594, 'expectation': 1615, 'congratulate': 924, 'fantastic': 1675, 'constitute': 948, 'regard': 3690, 'habit': 1990, 'rein': 3706, 'visit': 4816, 'laugh': 2550, 'football': 1786, 'game': 1863, 'bannon': 385, 'strategist': 4315, 'corey': 1001, 'lewandowski': 2603, 'manager': 2718, 'gingrich': 1900, 'envoy': 1526, 'pope': 3392, 'difference': 1260, 'vatican': 4774, 'wife': 4907, 'ambassador': 168, 'odd': 3095, 'climate': 790, 'jerusalem': 2403, 'author': 331, 'documentary': 1346, 'credential': 1047, 'francis': 1817, 'officially': 3105, 'assume': 298, 'husband': 2158, 'newt': 3012, 'vocal': 4820, 'contributor': 977, 'rome': 3863, 'nomination': 3031, 'holy': 2107, 'controversy': 980, 'marriage': 2744, 'married': 2745, 'catholic': 667, 'funeral': 1854, 'resign': 3773, 'priest': 3470, 'pull': 3555, 'paris': 3228, 'attitude': 317, 'dialogue': 1250, 'planet': 3349, 'recognize': 3663, 'israel': 2370, 'capital': 635, 'quo': 3590, 'tension': 4490, 'conflict': 918, 'nations': 2970, 'permanent': 3295, 'observer': 3079, 'defy': 1170, 'resolution': 3777, 'recognition': 3662, 'embassy': 1466, 'religious': 3724, 'combat': 843, 'peaceful': 3269, 'ride': 3831, 'king': 2490, 'pennsylvania': 3279, 'sport': 4245, 'bar': 387, 'mall': 2712, 'philadelphia': 3318, 'congressman': 927, 'pat': 3253, 'surface': 4394, 'hurdle': 2155, 'nearly': 2983, 'third': 4522, 'household': 2134, 'average': 344, 'census': 686, 'graphic': 1943, 'ad': 64, 'product': 3499, 'improve': 2211, 'positive': 3404, 'wasserman': 4859, 'cook': 991, 'competitive': 879, 'southeast': 4203, 'switch': 4427, 'twice': 4663, 'dozen': 1368, 'wage': 4831, 'handful': 2008, 'commit': 861, 'handling': 2011, 'performance': 3293, 'feel': 1704, 'living': 2638, 'hopeful': 2119, 'misleading': 2865, 'college': 831, 'confident': 914, 'champion': 707, 'referendum': 3680, 'mind': 2847, 'dismantle': 1308, 'initiative': 2266, 'expand': 1612, 'poll': 3383, 'punish': 3560, 'consumer': 959, 'greg': 1956, 'outsider': 3171, 'busy': 602, 'actually': 63, 'register': 3695, 'view': 4800, 'probably': 3488, 'trader': 4586, 'lean': 2569, 'jump': 2446, 'steady': 4286, 'sustain': 4414, 'unemployment': 4707, 'johnson': 2420, 'net': 3001, 'partly': 3242, 'vietnam': 4798, 'war': 4843, 'recession': 3659, 'highly': 2083, 'ability': 10, 'veteran': 4790, 'sharply': 4061, 'resettle': 3769, 'announcement': 201, 'closure': 800, 'resettlement': 3770, 'integrate': 2298, 'profit': 3505, 'partner': 3243, 'hundred': 2150, 'basic': 402, 'task': 4456, 'arrange': 263, 'doctor': 1344, 'inform': 2258, 'spread': 4250, 'finalize': 1732, 'sufficient': 4365, 'undermine': 4699, 'crucial': 1068, 'persecution': 3300, 'obligation': 3077, 'english': 1506, 'direct': 1275, 'management': 2717, 'structure': 4330, 'sustainable': 4415, 'welcome': 4888, 'jessica': 2405, 'reason': 3647, 'heritage': 2074, 'foundation': 1808, 'extra': 1640, 'coordinate': 996, 'site': 4129, 'move': 2927, 'belief': 432, 'original': 3152, 'modern': 2888, 'establish': 1557, 'tennessee': 4488, 'necessarily': 2984, 'weak': 4868, 'twin': 4664, 'capacity': 634, 'operate': 3125, 'recess': 3658, 'appropriate': 240, 'versus': 4786, 'opioid': 3131, 'bust': 601, 'design': 1216, 'clock': 795, 'midnight': 2830, 'pitch': 3341, 'hispanic': 2092, 'luis': 2680, 'tired': 4547, 'tomorrow': 4558, 'refer': 3678, 'path': 3254, 'citizenship': 763, 'resume': 3794, 'repair': 3742, 'indian': 2238, 'surveillance': 4404, 'guard': 1969, 'ticket': 4535, 'exist': 1607, 'regular': 3698, 'appropriation': 241, 'series': 4028, 'attach': 309, 'attract': 319, 'severe': 4042, 'natural': 2974, 'subsidy': 4349, 'participate': 3237, 'compete': 877, 'suit': 4369, 'hotel': 2131, 'dog': 1350, 'weigh': 4883, 'regularly': 3699, 'nonprofit': 3036, 'ethic': 1562, 'crew': 1053, 'event': 1575, 'restaurant': 3788, 'clause': 779, 'ownership': 3191, 'empire': 1477, 'safeguard': 3910, 'injure': 2268, 'appreciate': 237, 'wealth': 4871, 'fame': 1670, 'industry': 2248, 'plant': 3352, 'noah': 3027, 'setback': 4037, 'walk': 4835, 'ongoing': 3119, 'violation': 4805, 'inauguration': 2216, 'attack': 310, 'recovery': 3671, 'stem': 4293, 'desperate': 1221, 'badly': 363, 'boss': 527, 'dem': 1183, 'hate': 2036, 'deserve': 1215, 'distract': 1327, 'widen': 4904, 'cloud': 803, 'hostile': 2128, 'environment': 1523, 'harassment': 2018, 'culture': 1079, 'capitol': 637, 'hill': 2088, 'false': 1668, 'retaliation': 3799, 'inappropriate': 2214, 'read': 3638, 'indication': 2241, 'text': 4509, 'relate': 3713, 'building': 584, 'powerful': 3422, 'entertainment': 1515, 'suspend': 4410, 'scramble': 3967, 'brief': 555, 'appointee': 235, 'predecessor': 3434, 'aclu': 48, 'delay': 1173, 'challenger': 705, 'contradict': 972, 'comply': 889, 'stone': 4305, 'navy': 2978, 'deployment': 1205, 'afghanistan': 102, 'widespread': 4905, 'rally': 3609, 'discredit': 1297, 'threat': 4527, 'wing': 4922, 'legitimate': 2589, 'maxine': 2767, 'water': 4863, 'press': 3456, 'spin': 4237, 'narrative': 2962, 'outrageous': 3167, 'scenario': 3950, 'comey': 849, 'obstruct': 3083, 'manafort': 2715, 'flynn': 1775, 'rumor': 3889, 'fly': 1774, 'ranking': 3620, 'san': 3923, 'francisco': 1818, 'enforce': 1498, 'proper': 3520, 'administrative': 73, 'obtain': 3085, 'exemption': 1604, 'moral': 2910, 'ground': 1963, 'preliminary': 3442, 'dire': 1274, 'consequence': 935, 'adopt': 78, 'punch': 3558, 'unlawful': 4729, 'reveal': 3809, 'objection': 3075, 'christian': 748, 'technology': 4471, 'traveler': 4615, 'flight': 1765, 'depart': 1197, 'accurate': 41, 'visitor': 4817, 'lee': 2576, 'edward': 1432, 'screen': 3970, 'exit': 1610, 'dhs': 1249, 'specific': 4222, 'authorization': 334, 'explanation': 1623, 'technical': 4469, 'meaningful': 2781, 'store': 4307, 'dedicate': 1148, 'opt': 3138, 'secure': 3993, 'miami': 2821, 'kennedy': 2470, 'houston': 2136, 'atlanta': 304, 'denial': 1193, 'error': 1545, 'depend': 1200, 'escort': 1550, 'custom': 1088, 'patrol': 3260, 'hire': 2091, 'check': 731, 'spot': 4246, 'laura': 2553, 'biased': 451, 'ensure': 1512, 'import': 2203, 'critical': 1059, 'zinke': 4995, 'supply': 4382, 'computer': 895, 'equipment': 1536, 'pose': 3402, 'jim': 2414, 'fuel': 1842, 'manufacturing': 2730, 'mining': 2852, 'miner': 2850, 'producer': 3498, 'mine': 2849, 'china': 741, 'survey': 4405, 'component': 890, 'earth': 1410, 'metal': 2815, 'offer': 3101, 'recommendation': 3665, 'rely': 3727, 'land': 2532, 'produce': 3497, 'australia': 328, 'chile': 740, 'bulk': 585, 'reserve': 3768, 'argentina': 253, 'example': 1589, 'volume': 4822, 'development': 1244, 'recover': 3670, 'renew': 3737, 'endanger': 1491, 'abandon': 2, 'nsa': 3057, 'coalition': 812, 'foreigner': 1792, 'communication': 867, 'unknown': 4728, 'unveil': 4740, 'extension': 1636, 'vital': 4818, 'dan': 1105, 'cia': 756, 'joint': 2422, 'failure': 1660, 'easy': 1416, 'adversary': 84, 'vast': 4773, 'digital': 1267, 'variety': 4772, 'communicate': 866, 'search': 3981, 'warrant': 4851, 'restrict': 3790, 'operational': 3127, 'acknowledge': 47, 'annually': 203, 'wind': 4920, 'seal': 3979, 'mixed': 2876, 'slogan': 4151, 'celebration': 681, 'emphasize': 1476, 'automatic': 338, 'recommend': 3664, 'main': 2696, 'index': 2236, 'anticipate': 210, 'climb': 791, 'mid': 2828, 'bank': 380, 'charitable': 718, 'somewhat': 4189, 'simple': 4117, 'adjust': 70, 'drilling': 1382, 'alaska': 138, 'wildlife': 4912, 'refuge': 3685, 'penalty': 3275, 'unite': 4723, 'gap': 1865, 'successfully': 4356, 'grab': 1935, 'hammer': 2004, 'abc': 5, 'morning': 2913, 'define': 1167, 'walter': 4840, 'carolina': 651, 'tank': 4449, 'delete': 1176, 'bet': 447, 'bond': 517, 'favorite': 1691, 'yield': 4981, 'shoot': 4082, 'doubt': 1364, 'inflation': 2252, 'investor': 2340, 'one': 3118, 'underway': 4704, 'pave': 3264, 'brian': 551, 'asset': 290, 'demand': 1184, 'compensation': 876, 'premium': 3444, 'stoke': 4304, 'prevail': 3462, 'episode': 1531, 'trading': 4587, 'regain': 3689, 'popularity': 3394, 'prove': 3538, 'behave': 427, 'flow': 1773, 'mountain': 2925, 'degree': 1171, 'spur': 4252, 'shape': 4054, 'trend': 4623, 'morgan': 2912, 'contentious': 966, 'buy': 603, 'msnbc': 2935, 'tool': 4563, 'thwart': 4534, 'refile': 3681, 'headline': 2047, 'exercise': 1605, 'invoke': 2343, 'joe': 2418, 'arpaio': 262, 'sheriff': 4069, 'arizona': 257, 'unlike': 4731, 'contempt': 962, 'racial': 3594, 'light': 2622, 'raid': 3603, 'iowa': 2346, 'headquarters': 2049, 'meat': 2783, 'violent': 4807, 'offender': 3098, 'contend': 963, 'entitle': 1519, 'spark': 4215, 'outcry': 3161, 'jewish': 2408, 'hatch': 2035, 'expression': 1634, 'scholar': 3955, 'sentencing': 4016, 'harsh': 2028, 'impose': 2207, 'collar': 826, 'jeffrey': 2399, 'ceo': 693, 'indonesian': 2246, 'deport': 1206, 'hampshire': 2006, 'asian': 274, 'dangerous': 1108, 'indonesia': 2245, 'torture': 4568, 'immediate': 2189, 'jurisdiction': 2450, 'ethnic': 1563, 'christians': 750, 'erupt': 1546, 'england': 1505, 'ice': 2164, 'crack': 1039, 'tourist': 4576, 'asylum': 302, 'faith': 1663, 'deteriorate': 1235, 'reopen': 3740, 'delegation': 1175, 'chris': 746, 'franken': 1820, 'comedian': 847, 'minnesota': 2856, 'star': 4273, 'fellow': 1707, 'harvey': 2030, 'weinstein': 4886, 'matt': 2762, 'lauer': 2549, 'conyer': 990, 'smith': 4160, 'firing': 1747, 'provoke': 3545, 'escalate': 1547, 'warner': 4849, 'denounce': 1194, 'server': 4032, 'irresponsible': 2358, 'voice': 4821, 'seemingly': 3998, 'commitment': 862, 'concept': 899, 'circulate': 759, 'consideration': 938, 'media': 2787, 'absurd': 20, 'regardless': 3691, 'consultant': 956, 'murphy': 2946, 'sue': 4362, 'william': 4914, 'problem': 3490, 'educate': 1429, 'style': 4340, 'davis': 1119, 'overcome': 3176, 'historically': 2095, 'interpretation': 2324, 'abolish': 13, 'reiterate': 3710, 'stark': 4274, 'slight': 4147, 'possibility': 3407, 'typically': 4669, 'progressive': 3509, 'pact': 3197, 'couple': 1029, 'completely': 884, 'phase': 3317, 'seven': 4041, 'negotiate': 2989, 'unfold': 4712, 'recipient': 3660, 'garcia': 1866, 'sixth': 4131, 'hunger': 2152, 'dick': 1252, 'progress': 3508, 'complicate': 887, 'offshore': 3107, 'drug': 1389, 'device': 1245, 'manufacturer': 2729, 'island': 2366, 'personally': 3304, 'longstanding': 2657, 'combine': 845, 'near': 2981, 'bankruptcy': 383, 'maria': 2738, 'slam': 4138, 'tear': 4467, 'grid': 1957, 'emotional': 1474, 'careful': 645, 'tom': 4557, 'advertising': 85, 'nevada': 3007, 'ohio': 3109, 'wisconsin': 4928, 'youtube': 4986, 'video': 4797, 'viewer': 4801, 'skip': 4136, 'scheme': 3953, 'threshold': 4529, 'double': 1363, 'size': 4132, 'donor': 1359, 'commercial': 858, 'assert': 286, 'super': 4379, 'pac': 3192, 'bridge': 554, 'swing': 4425, 'fundamentally': 1850, 'thinking': 4521, 'dismiss': 1309, 'alex': 142, 'directly': 1278, 'attribute': 320, 'incredibly': 2231, 'soft': 4174, 'uncomfortable': 4693, 'drag': 1371, 'electoral': 1448, 'surprised': 4398, 'advantage': 83, 'backfire': 358, 'track': 4584, 'explain': 1622, 'brand': 540, 'legislature': 2587, 'choose': 745, 'pilot': 3336, 'certainly': 696, 'wrong': 4964, 'assess': 288, 'vow': 4827, 'lisa': 2631, 'gas': 1870, 'lease': 2571, 'acre': 53, 'northern': 3045, 'coastal': 814, 'plain': 3345, 'environmentalist': 1525, 'bird': 467, 'native': 2972, 'beginning': 425, 'crude': 1069, 'trans': 4598, 'pipeline': 3338, 'production': 3500, 'politician': 3380, 'friend': 1834, 'tribe': 4626, 'application': 232, 'royal': 3882, 'shell': 4067, 'uncover': 4695, 'discourage': 1294, 'entirely': 1518, 'drill': 1381, 'frontier': 1837, 'longtime': 2658, 'tactic': 4437, 'barrel': 393, 'wide': 4902, 'cornyn': 1004, 'lobby': 2642, 'renewable': 3738, 'proposal': 3523, 'unify': 4717, 'consensus': 933, 'lobbyist': 2644, 'backer': 357, 'grassley': 1944, 'repeat': 3744, 'side': 4101, 'compliance': 886, 'facility': 1651, 'purchase': 3563, 'ted': 4472, 'cruz': 1073, 'cent': 687, 'widely': 4903, 'agriculture': 121, 'emission': 1472, 'foster': 1806, 'ease': 1412, 'legislator': 2586, 'african': 105, 'female': 1710, 'mobilize': 2882, 'black': 477, 'liberal': 2609, 'moderate': 2886, 'urban': 4750, 'highlight': 2082, 'mother': 2919, 'root': 3869, 'mirror': 2860, 'turnout': 4659, 'minority': 2858, 'disagreement': 1285, 'electorate': 1449, 'underscore': 4700, 'unusual': 4739, 'tally': 4448, 'primary': 3472, 'nominate': 3029, 'audience': 321, 'waste': 4860, 'abortion': 14, 'labor': 2524, 'persuade': 3307, 'rural': 3893, 'fault': 1688, 'nominee': 3032, 'outreach': 3168, 'blame': 480, 'connect': 929, 'compare': 872, 'invest': 2334, 'caution': 670, 'demographic': 1189, 'alienate': 146, 'science': 3960, 'charles': 720, 'headquarter': 2048, 'poster': 3411, 'title': 4548, 'volunteer': 4823, 'knock': 2502, 'music': 2949, 'tiny': 4545, 'endorsement': 1494, 'dominate': 1354, 'democracy': 1185, 'model': 2885, 'engage': 1500, 'diverse': 1335, 'enthusiasm': 1516, 'similarly': 4115, 'sum': 4371, 'soros': 4196, 'donate': 1357, 'contrast': 974, 'division': 1339, 'utterly': 4762, 'choice': 744, 'offense': 3099, 'lunch': 2681, 'church': 755, 'rice': 3825, 'capture': 639, 'forget': 1796, 'participation': 3238, 'gop': 1923, 'bitter': 475, 'slate': 4141, 'mccabe': 2771, 'oversight': 3182, 'classified': 776, 'transcript': 4600, 'publicly': 3551, 'merely': 2809, 'peter': 3311, 'reputation': 3760, 'deep': 1151, 'offset': 3106, 'terrible': 4496, 'overtime': 3184, 'truly': 4642, 'part': 3233, 'qualified': 3577, 'partnership': 3244, 'sole': 4180, 'alternative': 165, 'minimum': 2851, 'territorial': 4498, 'exempt': 1603, 'worldwide': 4949, 'earn': 1407, 'align': 147, 'dodge': 1348, 'mandatory': 2721, 'defer': 1164, 'abroad': 15, 'transfer': 4601, 'combination': 844, 'preserve': 3451, 'electricity': 1451, 'solar': 4178, 'municipal': 2942, 'loophole': 2661, 'equity': 1537, 'hedge': 2061, 'gross': 1962, 'dependent': 1201, 'zero': 4992, 'mortgage': 2915, 'residence': 3771, 'loan': 2641, 'pocket': 3366, 'fine': 1740, 'realize': 3646, 'affairs': 95, 'youth': 4985, 'enterprise': 1514, 'sell': 4005, 'type': 4667, 'jack': 2380, 'employ': 1478, 'creation': 1046, 'eligible': 1455, 'marry': 2746, 'element': 1453, 'plus': 3364, 'specialist': 4221, 'heavy': 2060, 'will': 4913, 'crash': 1043, 'britain': 561, 'shortage': 4088, 'buyer': 604, 'answer': 206, 'expensive': 1618, 'respondent': 3783, 'economist': 1420, 'mess': 2813, 'scale': 3939, 'cheap': 729, 'polling': 3384, 'forecast': 1790, 'generate': 1882, 'plunge': 3363, 'opportunity': 3133, 'indicate': 2240, 'boom': 521, 'unit': 4722, 'confidence': 913, 'soar': 4169, 'resistance': 3776, 'fed': 1699, 'slow': 4152, 'nationwide': 2971, 'sweep': 4422, 'particular': 3239, 'offend': 3097, 'earning': 1409, 'momentum': 2896, 'transportation': 4611, 'tech': 4468, 'gear': 1878, 'hospital': 2125, 'operator': 3129, 'universal': 4726, 'services': 4034, 'exposure': 1632, 'historical': 2094, 'rough': 3873, 'chip': 743, 'extensive': 1637, 'relatively': 3718, 'presumably': 3458, 'ed': 1422, 'plot': 3362, 'course': 1031, 'lifetime': 2620, 'career': 644, 'span': 4212, 'shy': 4099, 'downtown': 1367, 'rebuke': 3653, 'independence': 2233, 'icon': 2165, 'antonin': 212, 'scalia': 3940, 'proud': 3536, 'spring': 4251, 'death': 1131, 'sympathy': 4431, 'baker': 369, 'wedding': 4878, 'cake': 610, 'article': 270, 'intimidate': 2329, 'malcolm': 2709, 'occasion': 3088, 'execution': 1601, 'inmate': 2271, 'arkansas': 258, 'map': 2731, 'theory': 4516, 'remind': 3731, 'suppose': 4386, 'society': 4173, 'ideology': 2172, 'stress': 4321, 'meaning': 2780, 'tonight': 4561, 'applause': 229, 'committed': 863, 'idiot': 2173, 'copy': 999, 'bob': 504, 'gowdy': 1933, 'prosecution': 3526, 'slide': 4146, 'imminent': 2193, 'lash': 2542, 'damage': 1101, 'takeover': 4441, 'condemn': 907, 'discipline': 1291, 'watch': 4861, 'definitely': 1168, 'moment': 2895, 'stuff': 4334, 'helpful': 2070, 'steep': 4290, 'reince': 3707, 'priebus': 3469, 'initial': 2263, 'journal': 2432, 'ford': 1789, 'achievement': 46, 'sound': 4200, 'drama': 1373, 'collins': 833, 'tag': 4438, 'worried': 4950, 'susan': 4408, 'participant': 3236, 'collin': 832, 'walker': 4836, 'withhold': 4934, 'rush': 3894, 'stick': 4300, 'sander': 3926, 'sanders': 3927, 'educational': 1431, 'saving': 3937, 'tight': 4537, 'lender': 2591, 'electric': 1450, 'mission': 2868, 'transaction': 4599, 'round': 3876, 'dakota': 1099, 'tim': 4540, 'disappointed': 1288, 'function': 1847, 'louisiana': 2673, 'spencer': 4230, 'inspector': 2282, 'financing': 1737, 'aircraft': 129, 'quick': 3585, 'hail': 1995, 'absence': 17, 'kevin': 2476, 'mccarthy': 2773, 'object': 3074, 'notice': 3050, 'retain': 3797, 'distribute': 1329, 'assumption': 299, 'engineering': 1504, 'sheet': 4065, 'maybe': 2768, 'monetary': 2898, 'minneapolis': 2855, 'vet': 4789, 'aaron': 0, 'react': 3635, 'portfolio': 3398, 'healthy': 2052, 'supportive': 4385, 'population': 3395, 'everybody': 1578, 'carlson': 650, 'hammond': 2005, 'reaction': 3636, 'sharif': 4058, 'corker': 1002, 'parliamentary': 3232, 'settlement': 4040, 'employment': 1481, 'draft': 1370, 'disclose': 1292, 'behalf': 426, 'movie': 2929, 'personality': 3303, 'swift': 4424, 'disability': 1282, 'label': 2523, 'green': 1953, 'tribal': 4625, 'greenhouse': 1954, 'implementation': 2199, 'ranch': 3613, 'federation': 1701, 'coal': 811, 'council': 1020, 'ruin': 3886, 'penny': 3280, 'preside': 3452, 'gmt': 1913, 'encourage': 1488, 'maine': 2697, 'utah': 4759, 'proudly': 3537, 'desk': 1220, 'trip': 4633, 'presidency': 3453, 'overturn': 3185, 'afford': 99, 'mccain': 2772, 'undergo': 4697, 'brain': 538, 'cancer': 628, 'mississippi': 2869, 'teen': 4473, 'pregnant': 3441, 'detention': 1233, 'petition': 3312, 'jane': 2388, 'pregnancy': 3440, 'prior': 3478, 'facilitate': 1650, 'shelter': 4068, 'devastating': 1241, 'western': 4894, 'midst': 2831, 'devastate': 1240, 'burn': 594, 'destroy': 1225, 'prevention': 3464, 'institute': 2288, 'locate': 2646, 'teach': 4464, 'principle': 3476, 'defender': 1161, 'invite': 2342, 'accident': 31, 'remember': 3730, 'mention': 2807, 'ivanka': 2379, 'tunnel': 4653, 'thought': 4525, 'prayer': 3428, 'wonderful': 4939, 'scene': 3951, 'monitor': 2901, 'victim': 4795, 'closely': 799, 'privilege': 3485, 'listen': 2633, 'loud': 2671, 'declare': 1144, 'determined': 1238, 'shine': 4073, 'ben': 437, 'carson': 654, 'mainland': 2698, 'savage': 3935, 'detailed': 1229, 'briefing': 556, 'pharmaceutical': 3316, 'die': 1257, 'dramatically': 1375, 'toll': 4556, 'quietly': 3588, 'plenty': 3361, 'intense': 2305, 'lobbying': 2643, 'replacement': 3747, 'alike': 148, 'colombia': 836, 'carter': 655, 'dream': 1377, 'driver': 1386, 'license': 2616, 'shadow': 4049, 'amnesty': 179, 'michelle': 2825, 'warren': 4852, 'politicize': 3381, 'elizabeth': 1458, 'cfpb': 699, 'pair': 3204, 'primarily': 3471, 'unprecedented': 4736, 'professional': 3502, 'richard': 3827, 'lay': 2561, 'vision': 4815, 'actively': 57, 'offensive': 3100, 'cyber': 1092, 'globe': 1912, 'covert': 1036, 'user': 4756, 'troll': 4635, 'relation': 3715, 'frustrate': 1839, 'ukraine': 4675, 'standoff': 4272, 'cooperation': 995, 'ronald': 3866, 'reagan': 3643, 'applaud': 228, 'embarrass': 1463, 'facebook': 1649, 'google': 1922, 'backlash': 361, 'france': 1816, 'strongly': 4329, 'strength': 4319, 'cable': 607, 'credibility': 1048, 'europe': 1566, 'invasion': 2333, 'demonstrate': 1190, 'willingness': 4917, 'sovereignty': 4207, 'enemy': 1496, 'description': 1213, 'withdraw': 4932, 'erode': 1544, 'prosperity': 3529, 'xi': 4967, 'jinping': 2416, 'asia': 273, 'aggression': 113, 'sea': 3978, 'ballistic': 374, 'intellectual': 2302, 'theft': 4514, 'strategic': 4314, 'audit': 323, 'epa': 1528, 'administrator': 74, 'pruitt': 3547, 'traditionally': 4590, 'bilateral': 459, 'cool': 992, 'innovation': 2274, 'oklahoma': 3113, 'pakistan': 3205, 'weapon': 4873, 'extremism': 1644, 'weakness': 4870, 'rid': 3830, 'viral': 4808, 'matthew': 2764, 'grill': 1959, 'comedy': 848, 'distraction': 1328, 'withdrawal': 4933, 'weight': 4884, 'founder': 1809, 'magazine': 2693, 'ku': 2513, 'klux': 2497, 'klan': 2496, 'kkk': 2495, 'supremacist': 4389, 'trouble': 4637, 'vacancy': 4764, 'car': 640, 'highway': 2084, 'kill': 2484, 'passenger': 3248, 'marco': 2736, 'rubio': 3884, 'summary': 4372, 'writer': 4962, 'insult': 2293, 'researcher': 3767, 'getting': 1896, 'industrial': 2247, 'evolve': 1582, 'backing': 360, 'endorse': 1493, 'helicopter': 2065, 'bite': 474, 'reduction': 3676, 'optimistic': 3139, 'anybody': 215, 'manage': 2716, 'planning': 3351, 'bowl': 532, 'bag': 364, 'brady': 536, 'strange': 4312, 'fence': 1712, 'explicitly': 1624, 'ill': 2180, 'aggressive': 114, 'upcoming': 4742, 'transition': 4606, 'sarah': 3931, 'complaint': 882, 'consent': 934, 'adam': 65, 'schiff': 3954, 'topic': 4565, 'context': 968, 'motive': 2922, 'catch': 665, 'aug': 324, 'laptop': 2537, 'score': 3964, 'upset': 4748, 'ought': 3157, 'spotlight': 4247, 'locker': 2649, 'blow': 496, 'phrase': 3327, 'disease': 1303, 'reference': 3679, 'venue': 4781, 'assertion': 287, 'thorough': 4524, 'trail': 4595, 'constituent': 947, 'reelection': 3677, 'buzzfeed': 605, 'harass': 2017, 'anonymous': 205, 'male': 2710, 'touch': 4572, 'permission': 3296, 'declaration': 1143, 'confront': 919, 'islamist': 2365, 'militant': 2837, 'academy': 25, 'god': 1916, 'bless': 486, 'marine': 2740, 'corps': 1008, 'commander': 853, 'entire': 1517, 'sacrifice': 3905, 'maga': 2692, 'vehicle': 4777, 'automaker': 337, 'ag': 108, 'motor': 2923, 'uber': 4671, 'convert': 984, 'essential': 1554, 'testimony': 4506, 'graduate': 1938, 'training': 4597, 'consist': 939, 'duck': 1395, 'fcc': 1693, 'neutrality': 3006, 'communications': 868, 'landmark': 2533, 'unlikely': 4732, 'provider': 3540, 'traffic': 4591, 'lane': 2535, 'pro': 3487, 'content': 965, 'transparency': 4608, 'utility': 4760, 'stream': 4317, 'maker': 2705, 'signal': 4106, 'ball': 373, 'tolerate': 4555, 'automatically': 339, 'outrage': 3165, 'initiate': 2265, 'politico': 3382, 'lengthy': 2593, 'kiss': 2494, 'mouth': 2926, 'advice': 86, 'disgust': 1305, 'hook': 2117, 'saudi': 3934, 'reactor': 3637, 'arabia': 247, 'uranium': 4749, 'enrich': 1510, 'enable': 1484, 'arm': 259, 'broadly': 566, 'civilian': 767, 'heat': 2056, 'korean': 2508, 'perry': 3299, 'riyadh': 3845, 'divert': 1337, 'amend': 172, 'amy': 181, 'jackson': 2381, 'execute': 1600, 'gps': 1934, 'monitoring': 2902, 'conspire': 944, 'prosecute': 3525, 'daughter': 1117, 'staunch': 4284, 'solid': 4182, 'congresswoman': 928, 'apparent': 223, 'unnamed': 4733, 'farmer': 1680, 'te': 4462, 'seriously': 4029, 'european': 1567, 'tighten': 4538, 'awareness': 350, 'greece': 1951, 'hungary': 2151, 'enclave': 1486, 'italy': 2376, 'exclude': 1596, 'comprehensive': 892, 'departure': 1199, 'insider': 2278, 'aviation': 345, 'sting': 4301, 'candidacy': 629, 'millennial': 2842, 'bolster': 512, 'paint': 3203, 'pai': 3200, 'sleep': 4145, 'download': 1366, 'speed': 4228, 'heated': 2057, 'reassure': 3649, 'jesse': 2404, 'ferguson': 1713, 'motivate': 2921, 'toxic': 4580, 'sentiment': 4017, 'stance': 4268, 'nelson': 2996, 'fundraising': 1853, 'obstacle': 3082, 'contender': 964, 'privately': 3484, 'resist': 3775, 'feature': 1696, 'maximum': 2766, 'everyday': 1579, 'forever': 1794, 'brilliant': 559, 'pride': 3468, 'red': 3674, 'tape': 4452, 'countless': 1025, 'factory': 1657, 'wikileak': 4908, 'julian': 2444, 'assange': 280, 'supposedly': 4387, 'beast': 416, 'database': 1114, 'cumming': 1080, 'subpoena': 4345, 'actor': 60, 'last': 2543, 'kim': 2487, 'snyder': 4168, 'michigan': 2826, 'barrier': 394, 'eric': 1543, 'auto': 336, 'regional': 3694, 'snap': 4164, 'retirement': 3802, 'quit': 3589, 'assure': 301, 'pure': 3564, 'speculation': 4226, 'mitt': 2874, 'romney': 3864, 'running': 3892, 'mate': 2759, 'boehner': 506, 'tenure': 4492, 'austin': 327, 'confidential': 915, 'unacceptable': 4682, 'arrive': 267, 'apple': 230, 'expose': 1631, 'extreme': 1642, 'dub': 1392, 'multi': 2939, 'barry': 396, 'balanced': 371, 'golden': 1918, 'hero': 2076, 'forge': 1795, 'yes': 4979, 'chemical': 734, 'safety': 3911, 'pollution': 3386, 'burr': 595, 'acceptable': 28, 'quote': 3591, 'cairo': 609, 'israeli': 2371, 'benjamin': 441, 'netanyahu': 3002, 'reaffirm': 3642, 'constructive': 953, 'palestinian': 3209, 'abbas': 3, 'suicide': 4368, 'heart': 2055, 'investigative': 2337, 'dead': 1123, 'gunshot': 1986, 'wound': 4957, 'perform': 3292, 'gov': 1927, 'shed': 4064, 'alan': 135, 'separately': 4020, 'associated': 296, 'sam': 3921, 'prop': 3518, 'crazy': 1044, 'irs': 2359, 'preparation': 3445, 'unnecessary': 4734, 'software': 4175, 'fee': 1702, 'space': 4210, 'williams': 4915, 'gut': 1987, 'nail': 2958, 'ron': 3865, 'decry': 1147, 'gathering': 1874, 'formally': 1799, 'sink': 4124, 'wash': 4856, 'finger': 1741, 'stunning': 4336, 'differently': 1262, 'shocking': 4080, 'cheer': 732, 'aisle': 132, 'centrist': 691, 'belong': 435, 'sort': 4198, 'parade': 3221, 'weird': 4887, 'alt': 162, 'governmental': 1931, 'abide': 9, 'luther': 2682, 'unique': 4721, 'religion': 3723, 'suffering': 4364, 'humanity': 2147, 'overwhelmingly': 3187, 'network': 3004, 'surprisingly': 4400, 'nervous': 3000, 'witch': 4931, 'hunt': 2153, 'character': 715, 'trust': 4645, 'fierce': 1719, 'mill': 2841, 'parenthood': 3227, 'disrespectful': 1320, 'excellent': 1591, 'reply': 3748, 'hacking': 1993, 'fun': 1846, 'convention': 982, 'enormous': 1509, 'utter': 4761, 'properly': 3521, 'color': 838, 'ideal': 2167, 'normal': 3039, 'blood': 493, 'impossible': 2208, 'fusion': 1858, 'devin': 1246, 'nune': 3062, 'undertake': 4703, 'glenn': 1909, 'simpson': 4119, 'bruce': 573, 'dealing': 1128, 'river': 3844, 'strain': 4311, 'concrete': 906, 'celebrity': 682, 'zone': 4996, 'park': 3229, 'window': 4921, 'competition': 878, 'glass': 1908, 'equality': 1533, 'greet': 1955, 'exact': 1584, 'foot': 1784, 'meter': 2816, 'surround': 4403, 'friendship': 1836, 'uk': 4674, 'cultural': 1078, 'alliance': 157, 'battlefield': 409, 'theresa': 4517, 'islam': 2362, 'islamic': 2364, 'elaborate': 1443, 'nfl': 3013, 'web': 4876, 'league': 2566, 'espn': 1553, 'illustrate': 2185, 'genocide': 1886, 'organizer': 3150, 'stunt': 4337, 'bernardino': 445, 'racist': 3597, 'tony': 4562, 'suddenly': 4361, 'field': 1718, 'length': 2592, 'sap': 3930, 'bright': 558, 'prediction': 3436, 'walsh': 4839, 'roger': 3858, 'edwards': 1433, 'suburb': 4352, 'jon': 2424, 'ditch': 1334, 'perez': 3289, 'pump': 3557, 'involvement': 2345, 'lesson': 2596, 'corner': 1003, 'portray': 3401, 'thomas': 4523, 'fish': 1751, 'swear': 4419, 'plea': 3357, 'erase': 1540, 'mechanism': 2784, 'edge': 1423, 'prefer': 3438, 'journalism': 2433, 'ap': 217, 'assistant': 294, 'apprentice': 238, 'kelly': 2466, 'yesterday': 4980, 'keith': 2465, 'overnight': 3178, 'gets': 1895, 'bleed': 485, 'advisor': 89, 'dc': 1121, 'solve': 4185, 'currency': 1084, 'brother': 570, 'slip': 4150, 'owe': 3188, 'achieve': 45, 'sexist': 4046, 'smear': 4158, 'silence': 4110, 'writing': 4963, 'contribution': 976, 'ring': 3837, 'float': 1768, 'obviously': 3087, 'broken': 567, 'bully': 588, 'shame': 4052, 'nasty': 2965, 'colleague': 827, 'forth': 1801, 'accuser': 44, 'totally': 4571, 'alleged': 153, 'impeachment': 2197, 'flawed': 1761, 'consistently': 941, 'engagement': 1501, 'judgment': 2441, 'dean': 1129, 'reliable': 3721, 'characterize': 716, 'nationalist': 2968, 'establishment': 1558, 'ward': 4844, 'embarrassment': 1465, 'josh': 2431, 'andy': 189, 'ramp': 3611, 'guide': 1977, 'hometown': 2111, 'rock': 3853, 'teacher': 4465, 'shop': 4085, 'sway': 4418, 'pray': 3427, 'working': 4946, 'nearby': 2982, 'bus': 597, 'clerk': 786, 'town': 4579, 'miller': 2843, 'hot': 2130, 'alongside': 161, 'examine': 1587, 'tillerson': 4539, 'rex': 3821, 'hall': 2000, 'freeze': 1828, 'iranian': 2349, 'occupation': 3089, 'crimea': 1055, 'evacuate': 1568, 'clearance': 783, 'diplomacy': 1271, 'inner': 2272, 'generous': 1884, 'scrap': 3968, 'insurer': 2295, 'purge': 3565, 'reinforce': 3708, 'grave': 1947, 'espionage': 1552, 'suspicion': 4412, 'inspection': 2281, 'taylor': 4460, 'sullivan': 4370, 'defendant': 1160, 'guilt': 1979, 'punishment': 3561, 'routine': 3878, 'tehran': 4476, 'ambition': 169, 'atomic': 307, 'shred': 4095, 'common': 865, 'mcmaster': 2776, 'direction': 1276, 'parent': 3226, 'evangelical': 1571, 'rip': 3840, 'unleash': 4730, 'broker': 568, 'terminal': 4494, 'blueprint': 498, 'peace': 3268, 'warfare': 4845, 'workforce': 4945, 'fat': 1684, 'spearhead': 4219, 'lewis': 2604, 'norm': 3038, 'contractor': 971, 'mistake': 2871, 'soldier': 4179, 'clarify': 770, 'cuba': 1076, 'suspension': 4411, 'havana': 2040, 'cuban': 1077, 'unilateral': 4718, 'expel': 1616, 'diplomatic': 1273, 'consulate': 954, 'cancel': 627, 'normalize': 3040, 'virtually': 4811, 'migrant': 2832, 'port': 3397, 'misguided': 2863, 'cruise': 1071, 'breitbart': 548, 'drain': 1372, 'swamp': 4417, 'frame': 1814, 'elite': 1457, 'gun': 1983, 'biden': 454, 'bombing': 515, 'rachel': 3593, 'crook': 1062, 'brave': 541, 'accountable': 39, 'spokesperson': 4241, 'related': 3714, 'impeach': 2196, 'anchor': 186, 'nikki': 3025, 'haley': 1998, 'boast': 502, 'recording': 3668, 'refrain': 3684, 'bail': 367, 'op': 3121, 'jury': 2451, 'pool': 3388, 'nature': 2976, 'craft': 1041, 'blog': 492, 'gate': 1871, 'conspiracy': 943, 'ukrainian': 4676, 'outstanding': 3173, 'worth': 4954, 'frustration': 1840, 'troop': 4636, 'disqualify': 1317, 'army': 261, 'debunk': 1135, 'informant': 2259, 'inaugural': 2215, 'whistleblower': 4900, 'equally': 1534, 'mislead': 2864, 'brag': 537, 'dynamic': 1403, 'garner': 1868, 'substantial': 4351, 'gdp': 1877, 'beauty': 419, 'manhattan': 2722, 'bed': 421, 'shoulder': 4091, 'liar': 2608, 'anderson': 187, 'nightclub': 3023, 'famous': 1673, 'actress': 61, 'dress': 1379, 'jill': 2413, 'ms': 2933, 'guardian': 1970, 'photographer': 3326, 'melania': 2797, 'throat': 4530, 'plane': 3348, 'courage': 1030, 'segment': 3999, 'jonathan': 2425, 'spicer': 4234, 'cox': 1038, 'successor': 4357, 'traditional': 4589, 'powell': 3420, 'yellen': 4976, 'experience': 1619, 'henry': 2072, 'runner': 3891, 'feed': 1703, 'enjoy': 1508, 'ideological': 2171, 'silver': 4113, 'lake': 2530, 'background': 359, 'sach': 3901, 'shore': 4086, 'upper': 4746, 'simon': 4116, 'sack': 3903, 'el': 1442, 'sideline': 4102, 'typical': 4668, 'carl': 648, 'reading': 3640, 'fundamental': 1849, 'desire': 1219, 'depth': 1209, 'editorial': 1427, 'nickname': 3017, 'patrick': 3257, 'battleground': 410, 'precisely': 3432, 'engineer': 1503, 'parking': 3230, 'superior': 4380, 'brennan': 549, 'slap': 4139, 'making': 2706, 'stephen': 4295, 'destructive': 1227, 'theme': 4515, 'stadium': 4261, 'puppet': 3562, 'ironic': 2356, 'mock': 2883, 'pen': 3273, 'troubling': 4638, 'assurance': 300, 'museum': 2948, 'tour': 4574, 'tribute': 4629, 'racism': 3596, 'murder': 2943, 'hatred': 2039, 'martin': 2749, 'presence': 3449, 'attendance': 314, 'disrespect': 1319, 'protester': 3533, 'charlottesville': 724, 'bigotry': 458, 'unfortunate': 4713, 'kiev': 2483, 'convince': 987, 'stupid': 4338, 'worsen': 4952, 'publication': 3550, 'forbid': 1787, 'acquire': 50, 'jason': 2394, 'atmosphere': 306, 'grand': 1941, 'deliberately': 1178, 'promotion': 3515, 'eu': 1564, 'vetting': 4792, 'deem': 1150, 'sample': 3922, 'alarm': 136, 'terrorist': 4502, 'rarely': 3628, 'syrian': 4433, 'jews': 2409, 'cease': 677, 'okay': 3112, 'turkey': 4654, 'reinstate': 3709, 'scrutiny': 3976, 'logic': 2652, 'discriminatory': 1300, 'turkish': 4655, 'fulfil': 1843, 'bay': 411, 'sharing': 4059, 'harris': 2026, 'audio': 322, 'ultimate': 4677, 'barbara': 389, 'relevant': 3720, 'ordinary': 3145, 'perpetrator': 3298, 'jimmy': 2415, 'wang': 4841, 'determination': 1236, 'semi': 4006, 'autonomous': 340, 'substance': 4350, 'feud': 1716, 'coffee': 817, 'mobile': 2881, 'subcommittee': 4341, 'disregard': 1318, 'pompeo': 3387, 'circle': 757, 'arab': 246, 'talking': 4446, 'manipulate': 2725, 'diminish': 1269, 'anthony': 208, 'intent': 2307, 'belt': 436, 'classify': 777, 'edt': 1428, 'dr': 1369, 'feinstein': 1706, 'allegedly': 154, 'cleveland': 787, 'sergei': 4026, 'kislyak': 2493, 'costly': 1016, 'phoenix': 3321, 'surrogate': 4402, 'physically': 3329, 'oh': 3108, 'wyden': 4966, 'comprise': 893, 'winter': 4924, 'temper': 4482, 'slowly': 4153, 'differ': 1259, 'helped': 2069, 'microsoft': 2827, 'suck': 4358, 'lynch': 2684, 'confusion': 922, 'perceive': 3285, 'outspoken': 3172, 'irony': 2357, 'rep': 3741, 'nominating': 3030, 'transform': 4602, 'encounter': 1487, 'prince': 3474, 'emirate': 1471, 'incoming': 2226, 'uae': 4670, 'crown': 1067, 'mohammed': 2893, 'bin': 464, 'betsy': 449, 'devos': 1247, 'terror': 4500, 'rapidly': 3624, 'naacp': 2956, 'planned': 3350, 'incredible': 2230, 'injustice': 2270, 'recuse': 3673, 'jordan': 2428, 'harbor': 2019, 'warrior': 4853, 'tall': 4447, 'survive': 4406, 'ocean': 3092, 'pacific': 3194, 'cry': 1074, 'arise': 256, 'wiretappe': 4927, 'unidentified': 4715, 'unbelievable': 4687, 'wonder': 4938, 'dare': 1110, 'falsely': 1669, 'editor': 1426, 'firmly': 1749, 'ireland': 2352, 'hostage': 2127, 'guest': 1975, 'tripoli': 4634, 'internationally': 2321, 'libyan': 2615, 'mohame': 2891, 'duke': 1396, 'epidemic': 1530, 'acquisition': 51, 'rapid': 3623, 'accelerate': 26, 'lockheed': 2650, 'lord': 2664, 'boy': 534, 'cycle': 1093, 'abruptly': 16, 'ammunition': 178, 'premier': 3443, 'perception': 3288, 'bullying': 589, 'manner': 2727, 'keen': 2463, 'revoke': 3816, 'knowledge': 2504, 'actual': 62, 'basically': 403, 'adjustment': 71, 'serial': 4027, 'aile': 126, 'nice': 3015, 'string': 4325, 'dear': 1130, 'excuse': 1599, 'illinois': 2183, 'collective': 830, 'precedent': 3430, 'opposite': 3135, 'contract': 970, 'registration': 3696, 'overwhelming': 3186, 'coincide': 820, 'avenue': 343, 'qatar': 3575, 'ok': 3111, 'yard': 4971, 'french': 1829, 'aspect': 277, 'pm': 3365, 'cautious': 671, 'jong': 2427, 'un': 4680, 'to': 4549, 'urgent': 4752, 'spare': 4214, 'disrupt': 1321, 'obvious': 3086, 'sovereign': 4206, 'loose': 2662, 'concession': 903, 'conceal': 897, 'shooting': 4084, 'festival': 1715, 'deadly': 1125, 'paddock': 3198, 'firearm': 1746, 'bullet': 586, 'load': 2640, 'anniversary': 199, 'sandy': 3928, 'archive': 249, 'rifle': 3833, 'gunman': 1985, 'inclusion': 2223, 'silicon': 4112, 'valley': 4769, 'harmful': 2025, 'stretch': 4322, 'usually': 4758, 'raw': 3632, 'flash': 1758, 'damn': 1104, 'jail': 2383, 'mom': 2894, 'straight': 4310, 'enhance': 1507, 'statistic': 4280, 'strict': 4323, 'removal': 3734, 'deploy': 1204, 'recall': 3654, 'hide': 2080, 'massachusetts': 2754, 'ugly': 4672, 'courtesy': 1033, 'calif': 611, 'airline': 130, 'pain': 3201, 'orange': 3141, 'larry': 2540, 'lawrence': 2558, 'northeast': 3043, 'loyalty': 2678, 'rudy': 3885, 'murray': 2947, 'iron': 2355, 'rnc': 3846, 'brussels': 575, 'nato': 2973, 'exxon': 1646, 'mobil': 2880, 'cotton': 1017, 'smooth': 4162, 'germany': 1892, 'gabriel': 1860, 'sean': 3980, 'oath': 3071, 'briefly': 557, 'click': 788, 'finally': 1733, 'complex': 885, 'demonstration': 1191, 'monthly': 2906, 'route': 3877, 'rain': 3605, 'monument': 2907, 'designation': 1218, 'ear': 1405, 'reconciliation': 3666, 'em': 1459, 'servant': 4030, 'humanitarian': 2146, 'understanding': 4702, 'palestinians': 3210, 'reward': 3819, 'stab': 4257, 'imprison': 2210, 'brutal': 576, 'attacker': 311, 'killer': 2485, 'venture': 4780, 'casino': 659, 'wary': 4855, 'agricultural': 120, 'existence': 1608, 'german': 1891, 'shout': 4093, 'unrelated': 4737, 'yeah': 4973, 'honest': 2113, 'heighten': 2064, 'notably': 3048, 'defamation': 1154, 'supremacy': 4390, 'monica': 2900, 'rent': 3739, 'salary': 3914, 'bribery': 553, 'instal': 2285, 'detroit': 1239, 'illness': 2184, 'iii': 2179, 'socialist': 4172, 'morale': 2911, 'unrest': 4738, 'kosovo': 2510, 'philippine': 3319, 'provocative': 3544, 'switzerland': 4428, 'spirit': 4238, 'unity': 4725, 'follower': 1780, 'skin': 4135, 'baby': 355, 'retweet': 3805, 'rhode': 3823, 'hashtag': 2031, 'india': 2237, 'singapore': 4121, 'levy': 2602, 'consolidate': 942, 'rift': 3834, 'atlantic': 305, 'mutual': 2952, 'belgium': 431, 'shock': 4079, 'berlin': 444, 'podium': 3368, 'turmoil': 4656, 'calm': 616, 'israelis': 2372, 'dissent': 1323, 'omar': 3117, 'dispatch': 1313, 'ginsburg': 1901, 'passport': 3250, 'bishop': 471, 'don': 1355, 'invitation': 2341, 'minded': 2848, 'whip': 4899, 'conscience': 932, 'alert': 141, 'indictment': 2243, 'podesta': 3367, 'clash': 773, 'sally': 3917, 'yate': 4972, 'clarity': 771, 'obstruction': 3084, 'nixon': 3026, 'watergate': 4864, 'wright': 4960, 'chart': 725, 'van': 4771, 'chase': 727, 'griffin': 1958, 'principal': 3475, 'aboard': 12, 'relocate': 3725, 'kasich': 2460, 'aftermath': 106, 'symbol': 4430, 'precinct': 3431, 'landslide': 2534, 'smart': 4156, 'televise': 4478, 'boycott': 535, 'unfortunately': 4714, 'islamabad': 2363, 'neighboring': 2994, 'afghan': 101, 'taliban': 4444, 'haven': 2042, 'pakistani': 3206, 'soil': 4176, 'kidnap': 2482, 'anymore': 216, 'extremist': 1645, 'wilson': 4918, 'refusal': 3687, 'fulfill': 1844, 'poverty': 3419, 'guatemala': 1971, 'salvador': 3920, 'juan': 2439, 'orlando': 3154, 'hernandez': 2075, 'tribunal': 4627, 'crackdown': 1040, 'saint': 3913, 'alcohol': 139, 'wade': 4830, 'sorry': 4197, 'importantly': 2206, 'dismissal': 1310, 'outgoing': 3162, 'escalation': 1548, 'implicate': 2200, 'retired': 3801, 'yell': 4975, 'chant': 712, 'operative': 3128, 'holding': 2102, 'engine': 1502, 'row': 3880, 'compound': 891, 'dmitry': 1342, 'peskov': 3310, 'retaliate': 3798, 'reportedly': 3750, 'barely': 391, 'uncertainty': 4690, 'geopolitical': 1888, 'endure': 1495, 'parliament': 3231, 'translate': 4607, 'summit': 4374, 'shield': 4071, 'exactly': 1585, 'impression': 2209, 'bizarre': 476, 'frankly': 1821, 'correspondent': 1012, 'disney': 1311, 'patient': 3256, 'sick': 4100, 'bunch': 590, 'craig': 1042, 'collapse': 825, 'stable': 4260, 'poorly': 3390, 'fighting': 1723, 'lone': 2655, 'deepen': 1152, 'nick': 3016, 'mad': 2688, 'wield': 4906, 'lucky': 2679, 'proclaim': 3496, 'furious': 1856, 'fate': 1686, 'alter': 163, 'montana': 2904, 'manufacture': 2728, 'stabilize': 4259, 'gulf': 1982, 'kate': 2461, 'info': 2257, 'felon': 1708, 'speculate': 4225, 'malaysia': 2707, 'veto': 4791, 'unauthorized': 4685, 'zealand': 4991, 'malaysian': 2708, 'intel': 2301, 'hacker': 1992, 'breach': 545, 'snowden': 4167, 'physical': 3328, 'fort': 1800, 'peer': 3271, 'gray': 1948, 'nationally': 2969, 'wood': 4941, 'southwest': 4205, 'anthem': 207, 'annexation': 198, 'moron': 2914, 'lavrov': 2554, 'intercept': 2311, 'disturbing': 1333, 'rancher': 3614, 'jeb': 2397, 'spanish': 4213, 'destabilize': 1224, 'painful': 3202, 'treason': 4616, 'stewart': 4299, 'naturally': 2975, 'lgbt': 2605, 'campus': 624, 'tuition': 4651, 'classroom': 778, 'tense': 4489, 'junior': 2449, 'freely': 1827, 'icahn': 2163, 'scam': 3942, 'reckless': 3661, 'interaction': 2310, 'tolerance': 4554, 'intervention': 2327, 'blunt': 500, 'separation': 4021, 'capability': 632, 'pyongyang': 3573, 'broadcaster': 565, 'hardly': 2022, 'exodus': 1611, 'explode': 1625, 'injury': 2269, 'casualty': 662, 'mary': 2750, 'definition': 1169, 'nonetheless': 3034, 'tune': 4652, 'wheel': 4897, 'normally': 3041, 'carefully': 646, 'doom': 1360, 'holder': 2101, 'imagine': 2187, 'supervise': 4381, 'insurgent': 2297, 'empower': 1482, 'topple': 4566, 'cbo': 672, 'extraordinary': 1641, 'divorce': 1341, 'dallas': 1100, 'randy': 3617, 'disturb': 1332, 'display': 1315, 'designate': 1217, 'charter': 726, 'todd': 4551, 'baseball': 399, 'scaramucci': 3944, 'yorker': 4983, 'katie': 2462, 'unaware': 4686, 'columnist': 842, 'pour': 3418, 'sad': 3906, 'retweete': 3806, 'radical': 3599, 'kingdom': 2491, 'alarming': 137, 'mayor': 2769, 'hateful': 2037, 'afraid': 103, 'racially': 3595, 'manchester': 2719, 'gesture': 1893, 'queen': 3581, 'khan': 2479, 'condemnation': 908, 'incompetent': 2227, 'labour': 2525, 'statue': 4281, 'netherlands': 3003, 'geneva': 1885, 'bottle': 530, 'hussein': 2159, 'virtual': 4810, 'apology': 221, 'anxiety': 214, 'roof': 3867, 'bigot': 456, 'depict': 1202, 'horrific': 2122, 'flame': 1757, 'abdullah': 6, 'rape': 3622, 'guess': 1974, 'scarborough': 3945, 'mystery': 2954, 'missouri': 2870, 'fortune': 1802, 'hey': 2078, 'koch': 2505, 'stun': 4335, 'notion': 3052, 'revelation': 3810, 'farm': 1679, 'oregon': 3146, 'irma': 2354, 'platform': 3354, 'lethal': 2598, 'defensive': 1163, 'myth': 2955, 'blatant': 483, 'charleston': 721, 'explosion': 1628, 'earnest': 1408, 'convene': 981, 'membership': 2800, 'patriotic': 3259, 'tradition': 4588, 'christianity': 749, 'secretly': 3990, 'slave': 4143, 'nazi': 2979, 'obsess': 3080, 'rogue': 3859, 'camera': 618, 'drink': 1383, 'spill': 4236, 'infuriate': 2262, 'tribune': 4628, 'grateful': 1946, 'lady': 2528, 'kneel': 2500, 'flooding': 1770, 'external': 1639, 'sen': 4008, 'verdict': 4782, 'pit': 3340, 'transparent': 4609, 'contrary': 973, 'scathing': 3949, 'eastern': 1415, 'ria': 3824, 'bow': 531, 'destruction': 1226, 'inflict': 2253, 'match': 2758, 'bailout': 368, 'undo': 4705, 'observe': 3078, 'plague': 3344, 'loser': 2668, 'rand': 3615, 'legacy': 2580, 'assembly': 285, 'apparently': 224, 'following': 1781, 'weekly': 4882, 'libertarian': 2611, 'chest': 735, 'huffington': 2142, 'intentionally': 2309, 'joke': 2423, 'dishonest': 1307, 'exclusively': 1598, 'isolated': 2369, 'dealer': 1127, 'dictatorship': 1255, 'immunity': 2194, 'laundering': 2552, 'tayyip': 4461, 'erdogan': 1542, 'ny': 3066, 'proof': 3517, 'explosive': 1629, 'massacre': 2755, 'chancellor': 709, 'angela': 190, 'merkel': 2811, 'ass': 278, 'representation': 3754, 'myanmar': 2953, 'rohingya': 3860, 'cleansing': 781, 'atrocity': 308, 'rakhine': 3608, 'bangladesh': 379, 'killing': 2486, 'buddhist': 581, 'provocation': 3543, 'nobel': 3028, 'prize': 3486, 'aung': 326, 'suu': 4416, 'kyi': 2521, 'manila': 2724, 'embargo': 1462, 'kellyanne': 2467, 'conway': 989, 'displace': 1314, 'legalize': 2582, 'marijuana': 2739, 'unfit': 4711, 'steer': 4291, 'maniac': 2723, 'en': 1483, 'fool': 1783, 'basketball': 405, 'athlete': 303, 'hair': 1996, 'dark': 1111, 'earthquake': 1411, 'haiti': 1997, 'caribbean': 647, 'homeless': 2110, 'outbreak': 3159, 'brooklyn': 569, 'column': 841, 'herald': 2073, 'shameful': 4053, 'hypocrisy': 2160, 'height': 2063, 'upgrade': 4744, 'deter': 1234, 'statute': 4283, 'militia': 2839, 'congo': 923, 'nigeria': 3021, 'sunni': 4378, 'hostility': 2129, 'ali': 144, 'doj': 1351, 'capable': 633, 'tariff': 4455, 'treaty': 4620, 'reluctant': 3726, 'taiwan': 4439, 'cooper': 993, 'stranger': 4313, 'barron': 395, 'bribe': 552, 'hong': 2115, 'kong': 2506, 'wire': 4926, 'ngo': 3014, 'elementary': 1454, 'influx': 2256, 'storm': 4308, 'bashar': 401, 'assad': 279, 'muslims': 2951, 'village': 4803, 'isolate': 2368, 'escape': 1549, 'uncle': 4691, 'watson': 4865, 'parallel': 3223, 'quake': 3576, 'sanctuary': 3925, 'santa': 3929, 'latino': 2547, 'japanese': 2391, 'tokyo': 4553, 'hat': 2034, 'quality': 3579, 'notorious': 3053, 'sow': 4209, 'wipe': 4925, 'forum': 1803, 'arsenal': 268, 'communist': 869, 'castro': 661, 'acosta': 49, 'scared': 3947, 'la': 2522, 'selection': 4003, 'worship': 4953, 'origin': 3151, 'practical': 3424, 'bennett': 442, 'concert': 902, 'huckabee': 2141, 'library': 2613, 'hole': 2103, 'diego': 1258, 'ambitious': 170, 'humiliate': 2148, 'lecture': 2575, 'palin': 3211, 'inspire': 2283, 'terry': 4503, 'delta': 1181, 'merrick': 2812, 'garland': 1867, 'scare': 3946, 'custody': 1087, 'dept': 1208, 'talent': 4443, 'blast': 482, 'satellite': 3932, 'disastrous': 1290, 'subsequent': 4347, 'colorado': 839, 'preference': 3439, 'seoul': 4018, 'louis': 2672, 'aca': 23, 'vermont': 4784, 'fernandez': 1714, 'questionable': 3583, 'weiner': 4885, 'stir': 4302, 'loretta': 2665, 'flaw': 1760, 'detect': 1232, 'sophisticated': 4194, 'xinhua': 4968, 'rt': 3883, 'machine': 2685, 'animal': 195, 'tragedy': 4593, 'boil': 509, 'memory': 2804, 'intimidation': 2330, 'technique': 4470, 'prisoner': 3481, 'detainee': 1231, 'manipulation': 2726, 'shirt': 4077, 'eat': 1417, 'terrify': 4497, 'acceptance': 29, 'duterte': 1400, 'rodrigo': 3856, 'bullshit': 587, 'dignity': 1268, 'subsequently': 4348, 'strip': 4326, 'japan': 2390, 'tpp': 4582, 'meal': 2778, 'riot': 3839, 'baton': 407, 'jet': 2407, 'peninsula': 3278, 'scream': 3969, 'chat': 728, 'dictate': 1253, 'carbon': 641, 'ton': 4559, 'steel': 4288, 'usual': 4757, 'spike': 4235, 'underground': 4698, 'fossil': 1805, 'orchestrate': 3143, 'panic': 3216, 'easily': 1413, 'freak': 1824, 'misdemeanor': 2862, 'physician': 3330, 'examiner': 1588, 'gateway': 1872, 'confuse': 921, 'medicine': 2791, 'prescription': 3448, 'christie': 751, 'tea': 4463, 'alive': 149, 'surrender': 4401, 'governance': 1929, 'connecticut': 930, 'screw': 3974, 'vietnamese': 4799, 'clapper': 769, 'ignorance': 2175, 'mentally': 2806, 'clinic': 792, 'smile': 4159, 'protocol': 3535, 'milk': 2840, 'ken': 2469, 'commentator': 856, 'hannity': 2013, 'grassroots': 1945, 'cleric': 785, 'gulen': 1981, 'gold': 1917, 'zarrab': 4990, 'crush': 1072, 'sight': 4104, 'clue': 806, 'sing': 4120, 'song': 4192, 'print': 3477, 'km': 2498, 'heel': 2062, 'mere': 2808, 'fallout': 1667, 'grip': 1960, 'jean': 2396, 'blumenthal': 499, 'dig': 1265, 'ankara': 196, 'province': 3541, 'istanbul': 2374, 'kurdistan': 2517, 'sudden': 4360, 'decent': 1139, 'euro': 1565, 'breakthrough': 547, 'consultation': 957, 'koreans': 2509, 'coordination': 997, 'blacklist': 478, 'venezuelan': 4779, 'nicolas': 3018, 'maduro': 2691, 'censorship': 685, 'rodriguez': 3857, 'perfectly': 3291, 'bone': 518, 'guerrilla': 1973, 'master': 2757, 'submarine': 4343, 'bomber': 514, 'tsai': 4648, 'transit': 4605, 'pursuit': 3568, 'shinzo': 4074, 'abe': 7, 'palace': 3207, 'banner': 384, 'screenshot': 3973, 'birthday': 469, 'band': 378, 'log': 2651, 'embed': 1467, 'instagram': 2284, 'fatal': 1685, 'boot': 523, 'equip': 1535, 'luxury': 2683, 'passionate': 3249, 'bury': 596, 'shall': 4051, 'summon': 4375, 'beacon': 414, 'poland': 3372, 'mask': 2752, 'campaigning': 623, 'lepage': 2594, 'survivor': 4407, 'nonsense': 3037, 'mcauliffe': 2770, 'confederate': 911, 'blasio': 481, 'charlotte': 723, 'cup': 1082, 'seth': 4038, 'regime': 3692, 'invade': 2332, 'naval': 2977, 'interrupt': 2325, 'bell': 434, 'moon': 2908, 'scalise': 3941, 'houthis': 2138, 'houthi': 2137, 'salman': 3918, 'revolutionary': 3818, 'hassan': 2033, 'rouhani': 3875, 'yemeni': 4978, 'diamond': 1251, 'construct': 951, 'certificate': 697, 'evil': 1581, 'commentary': 855, 'allen': 156, 'useful': 4755, 'fleet': 1763, 'constantly': 946, 'panama': 3213, 'bbc': 412, 'radar': 3598, 'disgrace': 1304, 'keystone': 2478, 'solely': 4181, 'delhi': 1177, 'truck': 4639, 'oscar': 3156, 'entrance': 1521, 'ii': 2178, 'meltdown': 2798, 'northeastern': 3044, 'apartment': 219, 'brazile': 543, 'kaine': 2457, 'memorial': 2803, 'rig': 3835, 'schultz': 3957, 'captain': 638, 'suppress': 4388, 'ego': 1439, 'caliphate': 613, 'iraqi': 2351, 'abu': 21, 'desert': 1214, 'temperature': 4483, 'rejection': 3712, 'sailor': 3912, 'got': 1926, 'honestly': 2114, 'poison': 3371, 'mosque': 2917, 'mode': 2884, 'roberts': 3851, 'cheat': 730, 'colin': 824, 'howard': 2139, 'phony': 3323, 'art': 269, 'civic': 765, 'seeker': 3997, 'monster': 2903, 'dissolve': 1325, 'cambodia': 617, 'dissident': 1324, 'thai': 4510, 'kem': 2468, 'hun': 2149, 'sokha': 4177, 'damascus': 1103, 'mitchell': 2873, 'grade': 1937, 'enrique': 1511, 'quiet': 3587, 'nut': 3065, 'inequality': 2249, 'classic': 775, 'austria': 330, 'guantanamo': 1967, 'demonstrator': 1192, 'bash': 400, 'lebanese': 2573, 'mediterranean': 2792, 'arabic': 248, 'pot': 3413, 'palestine': 3208, 'nyc': 3067, 'yahoo': 4969, 'legitimacy': 2588, 'saddam': 3907, 'overthrow': 3183, 'abbott': 4, 'irish': 2353, 'italian': 2375, 'endless': 1492, 'bathroom': 406, 'arena': 252, 'assassination': 282, 'oppression': 3137, 'trace': 4583, 'drew': 1380, 'clothe': 801, 'pin': 3337, 'trap': 4612, 'brush': 574, 'pack': 3195, 'filibuster': 1727, 'slavery': 4144, 'niger': 3020, 'rampant': 3612, 'financially': 1736, 'pound': 3417, 'centre': 690, 'fantasy': 1676, 'zuckerberg': 4998, 'cdc': 675, 'discovery': 1296, 'existing': 1609, 'qaeda': 3574, 'ambush': 171, 'girlfriend': 1903, 'exile': 1606, 'separatist': 4022, 'uprising': 4747, 'socialism': 4171, 'imply': 2202, 'jfk': 2410, 'uncensored': 4688, 'defence': 1158, 'swiss': 4426, 'hezbollah': 2079, 'aleppo': 140, 'ceasefire': 678, 'silent': 4111, 'hamilton': 2003, 'evacuation': 1569, 'betray': 448, 'blind': 487, 'antonio': 213, 'guterre': 1988, 'cocaine': 815, 'dual': 1391, 'lebanon': 2574, 'patriot': 3258, 'boat': 503, 'martha': 2748, 'colonel': 837, 'assemble': 284, 'virus': 4812, 'disappear': 1286, 'rebellion': 3651, 'predominantly': 3437, 'visible': 4814, 'rauner': 3631, 'brutally': 578, 'correctly': 1010, 'kurd': 2515, 'baghdad': 365, 'kurdish': 2516, 'abadi': 1, 'paramilitary': 3224, 'erbil': 1541, 'kirkuk': 2492, 'proxy': 3546, 'mosul': 2918, 'raqqa': 3626, 'daesh': 1097, 'sheikh': 4066, 'barzani': 397, 'mohammad': 2892, 'northwest': 3046, 'revolution': 3817, 'murderer': 2944, 'gore': 1924, 'knee': 2499, 'bombshell': 516, 'orleans': 3155, 'bold': 511, 'skill': 4134, 'sabotage': 3900, 'coach': 810, 'clown': 804, 'cohen': 818, 'unarmed': 4684, 'kaepernick': 2456, 'swedish': 4421, 'kerry': 2475, 'le': 2562, 'jarrett': 2393, 'kabul': 2455, 'disgusting': 1306, 'decree': 1146, 'cruel': 1070, 'emanuel': 1461, 'smoke': 4161, 'drinking': 1384, 'admiral': 75, 'con': 896, 'yale': 4970, 'greek': 1952, 'shipment': 4076, 'solidarity': 4183, 'brutality': 577, 'fascist': 1681, 'convoy': 988, 'encryption': 1489, 'moderator': 2887, 'jake': 2385, 'tapper': 4453, 'inch': 2219, 'trash': 4613, 'bahrain': 366, 'tragic': 4594, 'peshmerga': 3309, 'jihadist': 2412, 'mrs': 2932, 'emmanuel': 1473, 'macron': 2687, 'dubai': 1393, 'toilet': 4552, 'devote': 1248, 'creditor': 1051, 'weather': 4875, 'app': 222, 'pena': 3274, 'nieto': 3019, 'integration': 2299, 'flint': 1766, 'possess': 3405, 'remote': 3733, 'vessel': 4788, 'predator': 3433, 'hunter': 2154, 'dublin': 1394, 'dash': 1112, 'infiltrate': 2251, 'vp': 4828, 'constant': 945, 'nerve': 2999, 'ypg': 4987, 'nra': 3056, 'gunfire': 1984, 'tree': 4621, 'outraged': 3166, 'surprising': 4399, 'beirut': 430, 'comfort': 850, 'excerpt': 1593, 'shooter': 4083, 'spray': 4249, 'petty': 3314, 'thailand': 4511, 'possession': 3406, 'attendee': 315, 'dad': 1096, 'mogul': 2890, 'denver': 1195, 'boo': 519, 'michel': 2824, 'norway': 3047, 'sun': 4376, 'sacred': 3904, 'joy': 2436, 'ultra': 4679, 'huma': 2144, 'abedin': 8, 'bitch': 473, 'reid': 3704, 'spain': 4211, 'vile': 4802, 'whatsoever': 4896, 'trick': 4630, 'faculty': 1658, 'berkeley': 443, 'mob': 2879, 'olympic': 3116, 'afd': 93, 'mp': 2930, 'hitler': 2098, 'holocaust': 2106, 'clip': 794, 'blockade': 491, 'globalist': 1911, 'severely': 4043, 'dance': 1106, 'mugabe': 2937, 'zimbabwe': 4994, 'deplorable': 1203, 'portland': 3400, 'pulse': 3556, 'surely': 4393, 'kimmel': 2488, 'brazil': 542, 'sydney': 4429, 'brazilian': 544, 'latinos': 2548, 'czech': 1094, 'boris': 525, 'knife': 2501, 'pepper': 3284, 'colbert': 822, 'baldwin': 372, 'rant': 3621, 'milwaukee': 2846, 'nightmare': 3024, 'nypd': 3069, 'scotland': 3965, 'vicious': 4794, 'pr': 3423, 'furthermore': 1857, 'warsaw': 4854, 'pastor': 3252, 'baptist': 386, 'allegiance': 155, 'tantrum': 4450, 'correctness': 1011, 'sterling': 4296, 'pundit': 3559, 'ann': 197, 'coulter': 1019, 'fl': 1754, 'antifa': 211, 'neo': 2997, 'protestor': 3534, 'undercover': 4696, 'accidentally': 32, 'disorder': 1312, 'institutional': 2290, 'compassion': 874, 'ahmed': 123, 'kuwait': 2520, 'vague': 4767, 'genuine': 1887, 'plate': 3353, 'clarke': 772, 'consume': 958, 'scary': 3948, 'sir': 4125, 'horror': 2123, 'meme': 2801, 'tent': 4491, 'rapist': 3625, 'lopez': 2663, 'frontrunner': 1838, 'laden': 2527, 'sweden': 4420, 'helmet': 2067, 'lgbtq': 2606, 'neck': 2986, 'organisation': 3147, 'sniper': 4165, 'deir': 1172, 'zor': 4997, 'fallon': 1666, 'jihad': 2411, 'semitic': 4007, 'torch': 4567, 'nurse': 3063, 'll': 2639, 'autonomy': 341, 'murdoch': 2945, 'barcelona': 390, 'assassinate': 281, 'screengrab': 3971, 'shoe': 4081, 'slaughter': 4142, 'schulz': 3958, 'spd': 4216, 'incite': 2221, 'uh': 4673, 'homicide': 2112, 'awful': 353, 'spew': 4233, 'thug': 4532, 'inclusive': 2224, 'bigote': 457, 'lincoln': 2627, 'jacob': 2382, 'theater': 4513, 'rio': 3838, 'gaza': 1876, 'zika': 4993, 'chaffetz': 700, 'awkward': 354, 'artist': 271, 'leaker': 2568, 'creepy': 1052, 'turnbull': 4658, 'chelsea': 733, 'cop': 998, 'beck': 420, 'juncker': 2447, 'hypocrite': 2161, 'pant': 3217, 'smack': 4154, 'tale': 4442, 'billboard': 461, 'oliver': 3115, 'bible': 452, 'cameron': 619, 'snow': 4166, 'sexism': 4045, 'soul': 4199, 'ignorant': 2176, 'brexit': 550, 'robbery': 3849, 'egg': 1438, 'mccrory': 2775, 'vaccine': 4766, 'spore': 4244, 'maher': 2694, 'kenya': 2472, 'dumb': 1397, 'papua': 3220, 'pretend': 3460, 'alternate': 164, 'nugent': 3059, 'reader': 3639, 'liberation': 2610, 'mika': 2834, 'brzezinski': 579, 'trumpcare': 4644, 'malware': 2713, 'programme': 3507, 'hater': 2038, 'madrid': 2690, 'catalan': 663, 'sharia': 4057, 'modi': 2889, 'shi': 4070, 'megyn': 2796, 'pig': 3334, 'jakarta': 2384, 'kenyan': 2473, 'maddow': 2689, 'giuliani': 1905, 'handgun': 2009, 'siege': 4103, 'rouge': 3872, 'tucker': 4649, 'tooth': 4564, 'lame': 2531, 'edition': 1425, 'blaze': 484, 'pathetic': 3255, 'msm': 2934, 'obsession': 3081, 'christ': 747, 'reilly': 3705, 'campaigner': 622, 'insane': 2276, 'pander': 3214, 'caller': 615, 'hysterical': 2162, 'rajoy': 3607, 'polish': 3376, 'tusk': 4660, 'policeman': 3374, 'saad': 3899, 'blm': 488, 'benghazi': 440, 'radicalize': 3600, 'imam': 2188, 'smuggling': 4163, 'hamas': 2002, 'smash': 4157, 'serbia': 4025, 'somali': 4186, 'forensic': 1793, 'brotherhood': 571, 'idlib': 2174, 'wallace': 4838, 'gaddafi': 1861, 'hariri': 2023, 'nusra': 3064, 'wong': 4940, 'boiler': 510, 'infamous': 2250, 'temer': 4481, 'sdf': 3977, 'guccifer': 1972, 'cair': 608, 'puzder': 3572, 'coincidence': 821, 'lol': 2653, 'sharpton': 4062, 'petraeus': 3313, 'shawn': 4063, 'milo': 2845, 'kurz': 2518, 'elector': 1447, 'piss': 3339, 'pst': 3548, 'panther': 3218, 'muhammad': 2938, 'feminist': 1711, 'mic': 2822, 'zuma': 4999, 'secession': 3986, 'orban': 3142, 'capitalism': 636, 'fpo': 1812, 'birther': 470, 'macri': 2686, 'coward': 1037, 'awesome': 352, 'fiorina': 1744, 'csu': 1075, 'cdu': 676, 'cartoon': 656, 'isil': 2360, 'presumptive': 3459, 'delusional': 1182, 'fuck': 1841, 'mi': 2820, 'drunk': 1390, 'whine': 4898, 'ep': 1527, 'mateen': 2760, 'stupidity': 4339, 'hilarious': 2086, 'nairobi': 2959, 'dyer': 1402, 'agitator': 116, 'bundy': 591, 'clooney': 796, 'getty': 1897, 'soro': 4195, 'philosopher': 3320, 'evangelist': 1572, 'allah': 150, 'shit': 4078, 'didn': 1256, 'ite': 2377, 'doesn': 1349, 'harare': 2016, 'mnangagwa': 2877, 'zanu': 4989, 'pf': 3315, 'catalonia': 664, 've': 4775, 'wasn': 4858, 'weren': 4892, 'puigdemont': 3554, 'isn': 2367, 'marawi': 2733, 'shouldn': 4092, 'subscribe': 4346, 'anc': 185, 'ramaphosa': 3610, 'wouldn': 4956, 'couldn': 1018, 'barnier': 392, 'saleh': 3916, 'krg': 2512, 'lemon': 2590, 'hasn': 2032, 'kenyatta': 2474, 'odinga': 3096, 'yr': 4988, 'aren': 251, 'fdp': 1694, 'hadn': 1994, 'mcnamee': 2777, 'somodevilla': 4190, 'hilariously': 2087, 'angerer': 193, 'wikimedia': 4909, 'flickr': 1764, 'js': 2438, 'neocon': 2998, 'wfb': 4895, 'gitmo': 1904, 'blacklivesmatter': 479, 'cdata': 674, 'finicum': 1742, 'nyp': 3068, 'henningsen': 2071, 'filessupport': 1726, 'acr': 52, 'uninterruptible': 4719, 'hesher': 2077}\n"
     ]
    }
   ],
   "source": [
    "# Check Vectorized text\n",
    "print(Tfidf_vect.vocabulary_)"
   ]
  },
  {
   "cell_type": "code",
   "execution_count": 10,
   "id": "fbfd3028",
   "metadata": {
    "colab": {
     "base_uri": "https://localhost:8080/"
    },
    "executionInfo": {
     "elapsed": 361,
     "status": "ok",
     "timestamp": 1699003219428,
     "user": {
      "displayName": "Jyotsna Jayaraman",
      "userId": "05432190663465161045"
     },
     "user_tz": -660
    },
    "id": "fbfd3028",
    "outputId": "e269ce1f-621c-4559-9e3c-82586a41d0fe"
   },
   "outputs": [
    {
     "name": "stdout",
     "output_type": "stream",
     "text": [
      "  (0, 4996)\t0.04230605118651004\n",
      "  (0, 4974)\t0.016532816545229232\n",
      "  (0, 4944)\t0.03584928075125761\n",
      "  (0, 4943)\t0.020957271273067995\n",
      "  (0, 4880)\t0.021117770278464704\n",
      "  (0, 4879)\t0.02540968315259541\n",
      "  (0, 4843)\t0.02761601675501945\n",
      "  (0, 4842)\t0.020506740642218926\n",
      "  (0, 4824)\t0.04790264400477398\n",
      "  (0, 4819)\t0.04004275476710438\n",
      "  (0, 4725)\t0.04648322336890898\n",
      "  (0, 4657)\t0.027311657373322504\n",
      "  (0, 4655)\t0.09212836990956026\n",
      "  (0, 4654)\t0.3351900096090298\n",
      "  (0, 4636)\t0.04033981697479623\n",
      "  (0, 4579)\t0.03715980235961014\n",
      "  (0, 4536)\t0.031532863857601914\n",
      "  (0, 4533)\t0.05151436190283342\n",
      "  (0, 4531)\t0.03565998834227472\n",
      "  (0, 4528)\t0.032680931595486566\n",
      "  (0, 4502)\t0.03398754450081242\n",
      "  (0, 4498)\t0.11254941861264751\n",
      "  (0, 4493)\t0.02938424670236177\n",
      "  (0, 4461)\t0.05130183544018545\n",
      "  (0, 4454)\t0.03202714940773645\n",
      "  :\t:\n",
      "  (33507, 1382)\t0.24314206303210478\n",
      "  (33507, 1321)\t0.0678267927305061\n",
      "  (33507, 1301)\t0.043527438760573176\n",
      "  (33507, 1275)\t0.04955460776295754\n",
      "  (33507, 1250)\t0.06337707700945819\n",
      "  (33507, 1184)\t0.04589120253064719\n",
      "  (33507, 1126)\t0.11271938712673148\n",
      "  (33507, 1120)\t0.05844929159422828\n",
      "  (33507, 1005)\t0.06205152116228022\n",
      "  (33507, 970)\t0.18741939160347632\n",
      "  (33507, 918)\t0.04940703528133062\n",
      "  (33507, 871)\t0.12375674789539028\n",
      "  (33507, 861)\t0.05046120189349218\n",
      "  (33507, 859)\t0.05297497590818653\n",
      "  (33507, 780)\t0.12113897740838128\n",
      "  (33507, 737)\t0.03964279977715576\n",
      "  (33507, 626)\t0.06951847932195822\n",
      "  (33507, 491)\t0.16222423310008519\n",
      "  (33507, 490)\t0.24123281523067844\n",
      "  (33507, 455)\t0.03637276709129091\n",
      "  (33507, 348)\t0.06315663751042365\n",
      "  (33507, 233)\t0.056065297806855166\n",
      "  (33507, 200)\t0.042268486407071294\n",
      "  (33507, 119)\t0.047325376288874704\n",
      "  (33507, 66)\t0.03460404122946124\n"
     ]
    }
   ],
   "source": [
    "print(Train_X_Tfidf)"
   ]
  },
  {
   "cell_type": "markdown",
   "id": "dd1a6a7c",
   "metadata": {},
   "source": [
    "### SVM Model"
   ]
  },
  {
   "cell_type": "code",
   "execution_count": 11,
   "id": "16f8edc0",
   "metadata": {
    "colab": {
     "base_uri": "https://localhost:8080/"
    },
    "executionInfo": {
     "elapsed": 321148,
     "status": "ok",
     "timestamp": 1699003554958,
     "user": {
      "displayName": "Jyotsna Jayaraman",
      "userId": "05432190663465161045"
     },
     "user_tz": -660
    },
    "id": "16f8edc0",
    "outputId": "63dc3348-e5ec-4012-cbb4-2ade41300516"
   },
   "outputs": [
    {
     "name": "stdout",
     "output_type": "stream",
     "text": [
      "SVM Accuracy Score ->  99.4449418084154\n"
     ]
    }
   ],
   "source": [
    "# Classifier - Algorithm - SVM\n",
    "\n",
    "# fitting the training dataset on the classifier\n",
    "SVM = svm.SVC(C=1.0, kernel='linear', degree=3, gamma='auto')\n",
    "SVM.fit(Train_X_Tfidf,Train_Y)\n",
    "# Predicting the labels on validation dataset\n",
    "predictions_SVM = SVM.predict(Test_X_Tfidf)\n",
    "# Use accuracy_score function to get the accuracy\n",
    "print(\"SVM Accuracy Score -> \",accuracy_score(predictions_SVM, Test_Y)*100)"
   ]
  },
  {
   "cell_type": "code",
   "execution_count": 13,
   "id": "ca61f804",
   "metadata": {},
   "outputs": [
    {
     "name": "stdout",
     "output_type": "stream",
     "text": [
      "              precision    recall  f1-score   support\n",
      "\n",
      "        Fake       1.00      0.99      0.99      5819\n",
      "        Real       0.99      0.99      0.99      5351\n",
      "\n",
      "    accuracy                           0.99     11170\n",
      "   macro avg       0.99      0.99      0.99     11170\n",
      "weighted avg       0.99      0.99      0.99     11170\n",
      "\n"
     ]
    }
   ],
   "source": [
    "# Calculate classification report\n",
    "from sklearn.metrics import classification_report\n",
    "print(classification_report(Test_Y, predictions_SVM,\n",
    "                            target_names=[\"Fake\", \"Real\"]))"
   ]
  },
  {
   "cell_type": "code",
   "execution_count": 14,
   "id": "61c5e509",
   "metadata": {
    "executionInfo": {
     "elapsed": 381,
     "status": "ok",
     "timestamp": 1699004153187,
     "user": {
      "displayName": "Jyotsna Jayaraman",
      "userId": "05432190663465161045"
     },
     "user_tz": -660
    },
    "id": "61c5e509"
   },
   "outputs": [],
   "source": [
    "# Pickling the model\n",
    "import pickle\n",
    "pickle.dump(SVM,open('model_svm.pkl', 'wb'))"
   ]
  },
  {
   "cell_type": "markdown",
   "id": "aa46c2df",
   "metadata": {},
   "source": [
    "### Naive Bayes Model"
   ]
  },
  {
   "cell_type": "code",
   "execution_count": 15,
   "id": "87506604",
   "metadata": {
    "colab": {
     "base_uri": "https://localhost:8080/"
    },
    "executionInfo": {
     "elapsed": 454,
     "status": "ok",
     "timestamp": 1699003566372,
     "user": {
      "displayName": "Jyotsna Jayaraman",
      "userId": "05432190663465161045"
     },
     "user_tz": -660
    },
    "id": "87506604",
    "outputId": "17924d66-aa1c-4cee-822d-90475af017f0"
   },
   "outputs": [
    {
     "name": "stdout",
     "output_type": "stream",
     "text": [
      "Naive Bayes Accuracy Score ->  92.8379588182632\n"
     ]
    }
   ],
   "source": [
    "# Classifier - Algorithm - Naive Bayes\n",
    "\n",
    "# fitting the training dataset on the NB classifier\n",
    "Naive = naive_bayes.MultinomialNB()\n",
    "Naive.fit(Train_X_Tfidf,Train_Y)\n",
    "# predicting the labels on validation dataset\n",
    "predictions_NB = Naive.predict(Test_X_Tfidf)\n",
    "# Use accuracy_score function to get the accuracy\n",
    "print(\"Naive Bayes Accuracy Score -> \",accuracy_score(predictions_NB, Test_Y)*100)"
   ]
  },
  {
   "cell_type": "code",
   "execution_count": 16,
   "id": "38353e9e",
   "metadata": {},
   "outputs": [
    {
     "name": "stdout",
     "output_type": "stream",
     "text": [
      "              precision    recall  f1-score   support\n",
      "\n",
      "        Fake       0.93      0.94      0.93      5819\n",
      "        Real       0.93      0.92      0.92      5351\n",
      "\n",
      "    accuracy                           0.93     11170\n",
      "   macro avg       0.93      0.93      0.93     11170\n",
      "weighted avg       0.93      0.93      0.93     11170\n",
      "\n"
     ]
    }
   ],
   "source": [
    "# Calculate classification report\n",
    "print(classification_report(Test_Y, predictions_NB,\n",
    "                            target_names=[\"Fake\", \"Real\"]))"
   ]
  },
  {
   "cell_type": "code",
   "execution_count": 17,
   "id": "GFl53TktiiMe",
   "metadata": {
    "executionInfo": {
     "elapsed": 425,
     "status": "ok",
     "timestamp": 1699004187253,
     "user": {
      "displayName": "Jyotsna Jayaraman",
      "userId": "05432190663465161045"
     },
     "user_tz": -660
    },
    "id": "GFl53TktiiMe"
   },
   "outputs": [],
   "source": [
    "# Pickling the model\n",
    "pickle.dump(Naive,open('model_naive.pkl', 'wb'))"
   ]
  },
  {
   "cell_type": "markdown",
   "id": "09b47e79",
   "metadata": {},
   "source": [
    "### Testing SVM model further since it has better accuracy and recall"
   ]
  },
  {
   "cell_type": "code",
   "execution_count": 18,
   "id": "ke4_vClgiyCJ",
   "metadata": {
    "executionInfo": {
     "elapsed": 309,
     "status": "ok",
     "timestamp": 1699004241848,
     "user": {
      "displayName": "Jyotsna Jayaraman",
      "userId": "05432190663465161045"
     },
     "user_tz": -660
    },
    "id": "ke4_vClgiyCJ"
   },
   "outputs": [],
   "source": [
    "# load the SVM model from disk\n",
    "import pickle\n",
    "loaded_model = pickle.load(open('model_svm.pkl', 'rb'))"
   ]
  },
  {
   "cell_type": "code",
   "execution_count": 21,
   "id": "5i5D9y9WjCW2",
   "metadata": {
    "executionInfo": {
     "elapsed": 907,
     "status": "ok",
     "timestamp": 1699005340961,
     "user": {
      "displayName": "Jyotsna Jayaraman",
      "userId": "05432190663465161045"
     },
     "user_tz": -660
    },
    "id": "5i5D9y9WjCW2"
   },
   "outputs": [],
   "source": [
    "# Function for data cleaning\n",
    "import spacy\n",
    "nlp = spacy.load(r\"C:\\Users\\jyots\\Downloads\\en_core_web_sm-3.5.0\\en_core_web_sm\\en_core_web_sm-3.5.0\")\n",
    "\n",
    "def data_cleaning(text):\n",
    "\n",
    "    # changing to lower case\n",
    "    text = text.lower()\n",
    "\n",
    "    # Getting document ready for NLP tasks\n",
    "    doc = nlp(text)\n",
    "\n",
    "    # Empty list for storing cleaned data\n",
    "    clean_text = \"\"\n",
    "\n",
    "    # Remove stop words and lemmatize\n",
    "    lemmas = [token.lemma_ for token in doc if not token.is_stop and token.is_alpha]\n",
    "\n",
    "    # Join the lemmas back into a string\n",
    "    clean_text = ' '.join(lemmas)\n",
    "\n",
    "    return(clean_text)"
   ]
  },
  {
   "cell_type": "code",
   "execution_count": 22,
   "id": "8633db35",
   "metadata": {},
   "outputs": [
    {
     "data": {
      "text/plain": [
       "2362     trump weigh son russia attorney statement whit...\n",
       "842      house approve funding child healthcare program...\n",
       "28897    nra commercial stupid melt brain video day pla...\n",
       "2813     senior russian diplomat meet washington week w...\n",
       "6312     new north dakota governor expect controversial...\n",
       "                               ...                        \n",
       "20294    cambodian opposition party boycott parliament ...\n",
       "15192    hungry south sudanese refugee risk death retur...\n",
       "18553    bombast north korea genteel foreign minister s...\n",
       "9087     senior house democrat expect russia target ins...\n",
       "18627    turkey call citizen leave northern iraq flight...\n",
       "Name: text, Length: 11170, dtype: object"
      ]
     },
     "execution_count": 22,
     "metadata": {},
     "output_type": "execute_result"
    }
   ],
   "source": [
    "Test_X"
   ]
  },
  {
   "cell_type": "markdown",
   "id": "7d73e67c",
   "metadata": {},
   "source": [
    "#### Test inputs - Choose one and run before running input preperation and prediction"
   ]
  },
  {
   "cell_type": "code",
   "execution_count": 23,
   "id": "46ac8022",
   "metadata": {},
   "outputs": [],
   "source": [
    "# True\n",
    "check = \"WASHINGTON (Reuters) - The U.S. House of Representatives on Friday approved legislation to continue a federal insurance program for millions of lower-income children and pregnant women, but with an ongoing funding battle it could be weeks before the program gets more money.\""
   ]
  },
  {
   "cell_type": "code",
   "execution_count": 34,
   "id": "1fd199df",
   "metadata": {},
   "outputs": [],
   "source": [
    "# Fake\n",
    "check = \"This NRA Commercial Is So Stupid It Will Melt Your Brain (VIDEO) A few days after the Planned Parenthood shooting in Colorado Springs that left three dead and twelve injured, the National Rifle Association (NRA) released the dumbest pro-gun commercial likely ever seen. In the months since the commercial was released and in the aftermath of more mass shootings, it has popped up on my television screen multiple times. Every single time I see it my brain melts a l\""
   ]
  },
  {
   "cell_type": "code",
   "execution_count": 30,
   "id": "CVk7uVhYkp7j",
   "metadata": {
    "executionInfo": {
     "elapsed": 383,
     "status": "ok",
     "timestamp": 1699005346884,
     "user": {
      "displayName": "Jyotsna Jayaraman",
      "userId": "05432190663465161045"
     },
     "user_tz": -660
    },
    "id": "CVk7uVhYkp7j"
   },
   "outputs": [],
   "source": [
    "# True\n",
    "check= \"BERLIN (Reuters) U.S. President Donald Trump is undermining international stability with his decision to recognise Jerusalem as Israel s capital and move the U.S. embassy there, the leader of Germany s Social Democrats (SPD) said on Wednesday. Affirming his support for a two-state solution for Israelis and Palestinians, Martin Schulz said Trump s decision, taken despite warnings from a wide range of U.S. allies, risked setting back the peace process in the Middle East. Trump is due to announce later on Wednesday that the United States recognises Jerusalem as the capital of Israel and will move its embassy there, breaking with longtime U.S. policy and possibly stirring unrest.\""
   ]
  },
  {
   "cell_type": "code",
   "execution_count": 36,
   "id": "1c81c162",
   "metadata": {},
   "outputs": [],
   "source": [
    "# True\n",
    "check=\"WASHINGTON (Reuters) - U.S. President Donald Trump said he will meet on Tuesday with the Democratic leaders of the U.S. Senate and House of Representatives, Chuck Schumer and Nancy Pelosi, to discuss keeping the government open but cited differences with them. â€œMeeting with â€œChuck and Nancyâ€ today about keeping government open and working. Problem is they want illegal immigrants flooding into our Country unchecked, are weak on Crime and want to substantially RAISE Taxes. I donâ€™t see a deal!â€ Trump said in a Twitter post. \""
   ]
  },
  {
   "cell_type": "code",
   "execution_count": 42,
   "id": "f380597b",
   "metadata": {},
   "outputs": [],
   "source": [
    "# Fake\n",
    "check=\"President Trump spoke at the first ever Celebrate Freedom Rally last night delivering a barn burner of a speech to veterans and wounded warriors from Walter Reid Hospital. It was one of the best  red meat  speeches our President has ever delivered. We think you ll enjoy it Go to the 21:45 point for the amazing story of Harry F. Miller:Harry lied about his age to join the American forces. He was just 15 when he joined the US military during World War II. Harry was a US hero at The Battle of the Bulge!Harry s story:During the battle, the 1st Army Headquarters instructed the tank crews to go down to an ordnance depot and take whatever they needed for the tanks.  We had to take good parts off of one tank and put it on another. We finally got three tanks and a tank destroyer that would operate and run, and had a gun,  he said in an interview with VA. They took the three working tanks and sent them to their C Company. Those three tanks ended up taking out three German tanks, which ended up being members of the 1st SS Panzer Division Leibstandarte SS Adolf Hitlerbeing, Hitler s old body guards.\""
   ]
  },
  {
   "cell_type": "code",
   "execution_count": 54,
   "id": "c2aac370",
   "metadata": {},
   "outputs": [],
   "source": [
    "# Fake\n",
    "check=\"President Donald Trump told televangelist Pat Robertson in a new interview that he will make it safe to say  Merry Christmas You ll be saying Merry Christmas again soon Pat Robertson, the  700 Club  host and Christian Broadcasting Network founder, asked President Trump if he is going to  take on heavyweights.  The president said that he doesn t want to take on lightweights. He then turned to the topic of religious liberty: We have to bring our country back. Our country was going in the wrong direction. And by the way, what they were doing to religious liberty: They were destroying religious liberty. He then added this firm statement on the effort to bring back Christian liberty in America:  You will be saying  Merry Christmas  again very soon Robertson responded:  We ll count on it. President Trump previously stated that Democrats had been taking the wrong steps to improve the lives of all Americans: You couldn t build, you couldn t do anything One of the focuses of the Trump agenda has been stripping away regulations so Americans can be more productive. In addition, the president believes in stripping away all of the supposed politically correct phrases including  Happy Holidays . He s drawn a red line on those who insist on shaming anyone who chooses to say  Merry Christmas .While on the campaign trail, candidate Trump criticized the use of  Happy Holidays  as a substitute for  Merry Christmas .  His support among Evangelical Christians has remained high, with many including Robertson praising his appointment of Neil Gorsuch to the Supreme Court.\""
   ]
  },
  {
   "cell_type": "markdown",
   "id": "9c8d7a97",
   "metadata": {},
   "source": [
    "#### Calling data cleaning function with test data for data preperation and prediction"
   ]
  },
  {
   "cell_type": "code",
   "execution_count": 61,
   "id": "iRAHq6F9lY9Z",
   "metadata": {
    "colab": {
     "base_uri": "https://localhost:8080/",
     "height": 331
    },
    "executionInfo": {
     "elapsed": 330,
     "status": "error",
     "timestamp": 1699005349361,
     "user": {
      "displayName": "Jyotsna Jayaraman",
      "userId": "05432190663465161045"
     },
     "user_tz": -660
    },
    "id": "iRAHq6F9lY9Z",
    "outputId": "79a9284f-346e-49f9-b213-98b4d1fa09c3"
   },
   "outputs": [],
   "source": [
    "clean_text = data_cleaning(check)"
   ]
  },
  {
   "cell_type": "code",
   "execution_count": 62,
   "id": "4f7c0bb9",
   "metadata": {},
   "outputs": [
    {
     "data": {
      "text/plain": [
       "'united nations food agency world price index fall october low level year drive decline sugar cereal vegetable oil meat food agriculture organization price index track globally trade food commodity average point october previous month agency say report friday'"
      ]
     },
     "execution_count": 62,
     "metadata": {},
     "output_type": "execute_result"
    }
   ],
   "source": [
    "# Displaying clean text\n",
    "clean_text "
   ]
  },
  {
   "cell_type": "code",
   "execution_count": 63,
   "id": "ef915282",
   "metadata": {},
   "outputs": [],
   "source": [
    "# Converting clean text to series\n",
    "clean_text_ser = pd.Series(clean_text)"
   ]
  },
  {
   "cell_type": "code",
   "execution_count": 64,
   "id": "b1412b30",
   "metadata": {},
   "outputs": [
    {
     "data": {
      "text/plain": [
       "0    united nations food agency world price index f...\n",
       "dtype: object"
      ]
     },
     "execution_count": 64,
     "metadata": {},
     "output_type": "execute_result"
    }
   ],
   "source": [
    "# Displaying series\n",
    "clean_text_ser"
   ]
  },
  {
   "cell_type": "code",
   "execution_count": 65,
   "id": "b18ca3ee",
   "metadata": {},
   "outputs": [
    {
     "name": "stdout",
     "output_type": "stream",
     "text": [
      "Prediction of the News :  Fake\n"
     ]
    }
   ],
   "source": [
    "# Vectorizing clean data\n",
    "vectorized_input_data = Tfidf_vect.transform(clean_text_ser)\n",
    "# Predicting outcome\n",
    "prediction = loaded_model.predict(vectorized_input_data)\n",
    "# Printing outcome based on predicted value\n",
    "if prediction[0] == 0:\n",
    "    print(\"Prediction of the News :  Fake\")\n",
    "else:\n",
    "    print(\"Prediction of the News : Real\")"
   ]
  },
  {
   "cell_type": "code",
   "execution_count": 29,
   "id": "I2TxYE13kecz",
   "metadata": {
    "colab": {
     "base_uri": "https://localhost:8080/"
    },
    "executionInfo": {
     "elapsed": 438,
     "status": "ok",
     "timestamp": 1699004719861,
     "user": {
      "displayName": "Jyotsna Jayaraman",
      "userId": "05432190663465161045"
     },
     "user_tz": -660
    },
    "id": "I2TxYE13kecz",
    "outputId": "0d0cbb43-0709-4b52-e62a-563a6230e3db"
   },
   "outputs": [],
   "source": [
    "# Saving test data for future use\n",
    "Test_X.to_csv(\"test_X2\")"
   ]
  },
  {
   "cell_type": "code",
   "execution_count": null,
   "id": "27fb8fc7",
   "metadata": {},
   "outputs": [],
   "source": []
  }
 ],
 "metadata": {
  "accelerator": "GPU",
  "colab": {
   "gpuType": "T4",
   "provenance": []
  },
  "kernelspec": {
   "display_name": "Python 3 (ipykernel)",
   "language": "python",
   "name": "python3"
  },
  "language_info": {
   "codemirror_mode": {
    "name": "ipython",
    "version": 3
   },
   "file_extension": ".py",
   "mimetype": "text/x-python",
   "name": "python",
   "nbconvert_exporter": "python",
   "pygments_lexer": "ipython3",
   "version": "3.10.11"
  }
 },
 "nbformat": 4,
 "nbformat_minor": 5
}
