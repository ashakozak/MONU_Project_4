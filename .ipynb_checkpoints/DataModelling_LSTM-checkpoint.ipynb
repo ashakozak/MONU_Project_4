{
 "cells": [
  {
   "cell_type": "markdown",
   "id": "803d5908",
   "metadata": {
    "id": "803d5908"
   },
   "source": [
    "## Data Modelling using Neural Network - RNN-LSTM\n",
    "_________________________________________________\n"
   ]
  },
  {
   "cell_type": "code",
   "execution_count": null,
   "id": "qgxphySQ0sjQ",
   "metadata": {
    "colab": {
     "base_uri": "https://localhost:8080/"
    },
    "id": "qgxphySQ0sjQ",
    "outputId": "7b56c76d-978a-455f-b2df-8e5675969a66"
   },
   "outputs": [
    {
     "name": "stdout",
     "output_type": "stream",
     "text": [
      "Mounted at /content/drive\n"
     ]
    }
   ],
   "source": [
    "from google.colab import drive\n",
    "drive.mount('/content/drive')"
   ]
  },
  {
   "cell_type": "code",
   "execution_count": null,
   "id": "95428a31",
   "metadata": {
    "id": "95428a31"
   },
   "outputs": [],
   "source": [
    "# Importing Dependencies\n",
    "import pandas as pd\n",
    "from pathlib import Path\n",
    "import matplotlib.pyplot as plt"
   ]
  },
  {
   "cell_type": "code",
   "execution_count": null,
   "id": "625c5591",
   "metadata": {
    "colab": {
     "base_uri": "https://localhost:8080/"
    },
    "id": "625c5591",
    "outputId": "70539c73-0eab-42a1-8f82-c95c1563fe11"
   },
   "outputs": [
    {
     "name": "stderr",
     "output_type": "stream",
     "text": [
      "[nltk_data] Downloading package punkt to /root/nltk_data...\n",
      "[nltk_data]   Unzipping tokenizers/punkt.zip.\n"
     ]
    },
    {
     "data": {
      "text/plain": [
       "True"
      ]
     },
     "execution_count": 3,
     "metadata": {},
     "output_type": "execute_result"
    }
   ],
   "source": [
    "# Importing dependencies for vectorization and ML/DL\n",
    "import tensorflow as tf\n",
    "from tensorflow.keras.preprocessing.text import Tokenizer\n",
    "from tensorflow.keras.preprocessing.sequence import pad_sequences\n",
    "from tensorflow.keras.models import Sequential\n",
    "from tensorflow.keras.layers import Dense, Embedding, Input, LSTM, Bidirectional, Dropout\n",
    "from tensorflow.keras.models import Model\n",
    "import sklearn as skl\n",
    "import nltk\n",
    "from nltk import word_tokenize\n",
    "from sklearn.model_selection import train_test_split\n",
    "from sklearn import model_selection, naive_bayes, svm\n",
    "from sklearn.metrics import classification_report, accuracy_score\n",
    "\n",
    "# Downloading required pakage\n",
    "nltk.download('punkt')"
   ]
  },
  {
   "cell_type": "code",
   "execution_count": null,
   "id": "7a291b60",
   "metadata": {
    "id": "7a291b60"
   },
   "outputs": [],
   "source": [
    "# Reading cleaned file with text for model creation\n",
    "news_csv = Path('/content/drive/MyDrive/nlp_cleaned_news.csv')\n",
    "news_df = pd.read_csv(news_csv)"
   ]
  },
  {
   "cell_type": "code",
   "execution_count": null,
   "id": "lUg1uRaZ2zn5",
   "metadata": {
    "colab": {
     "base_uri": "https://localhost:8080/",
     "height": 206
    },
    "id": "lUg1uRaZ2zn5",
    "outputId": "acbc198a-2551-4b64-ff8c-4c3ea32d9342"
   },
   "outputs": [
    {
     "data": {
      "text/html": [
       "\n",
       "  <div id=\"df-1a1ab964-6213-4381-b2c8-290cd465c9c8\" class=\"colab-df-container\">\n",
       "    <div>\n",
       "<style scoped>\n",
       "    .dataframe tbody tr th:only-of-type {\n",
       "        vertical-align: middle;\n",
       "    }\n",
       "\n",
       "    .dataframe tbody tr th {\n",
       "        vertical-align: top;\n",
       "    }\n",
       "\n",
       "    .dataframe thead th {\n",
       "        text-align: right;\n",
       "    }\n",
       "</style>\n",
       "<table border=\"1\" class=\"dataframe\">\n",
       "  <thead>\n",
       "    <tr style=\"text-align: right;\">\n",
       "      <th></th>\n",
       "      <th>text</th>\n",
       "      <th>class</th>\n",
       "    </tr>\n",
       "  </thead>\n",
       "  <tbody>\n",
       "    <tr>\n",
       "      <th>0</th>\n",
       "      <td>budget fight loom republicans flip fiscal scri...</td>\n",
       "      <td>1</td>\n",
       "    </tr>\n",
       "    <tr>\n",
       "      <th>1</th>\n",
       "      <td>military accept transgender recruit monday pen...</td>\n",
       "      <td>1</td>\n",
       "    </tr>\n",
       "    <tr>\n",
       "      <th>2</th>\n",
       "      <td>senior republican senator let mr mueller job w...</td>\n",
       "      <td>1</td>\n",
       "    </tr>\n",
       "    <tr>\n",
       "      <th>3</th>\n",
       "      <td>fbi russia probe help australian diplomat tip ...</td>\n",
       "      <td>1</td>\n",
       "    </tr>\n",
       "    <tr>\n",
       "      <th>4</th>\n",
       "      <td>trump want postal service charge amazon shipme...</td>\n",
       "      <td>1</td>\n",
       "    </tr>\n",
       "  </tbody>\n",
       "</table>\n",
       "</div>\n",
       "    <div class=\"colab-df-buttons\">\n",
       "\n",
       "  <div class=\"colab-df-container\">\n",
       "    <button class=\"colab-df-convert\" onclick=\"convertToInteractive('df-1a1ab964-6213-4381-b2c8-290cd465c9c8')\"\n",
       "            title=\"Convert this dataframe to an interactive table.\"\n",
       "            style=\"display:none;\">\n",
       "\n",
       "  <svg xmlns=\"http://www.w3.org/2000/svg\" height=\"24px\" viewBox=\"0 -960 960 960\">\n",
       "    <path d=\"M120-120v-720h720v720H120Zm60-500h600v-160H180v160Zm220 220h160v-160H400v160Zm0 220h160v-160H400v160ZM180-400h160v-160H180v160Zm440 0h160v-160H620v160ZM180-180h160v-160H180v160Zm440 0h160v-160H620v160Z\"/>\n",
       "  </svg>\n",
       "    </button>\n",
       "\n",
       "  <style>\n",
       "    .colab-df-container {\n",
       "      display:flex;\n",
       "      gap: 12px;\n",
       "    }\n",
       "\n",
       "    .colab-df-convert {\n",
       "      background-color: #E8F0FE;\n",
       "      border: none;\n",
       "      border-radius: 50%;\n",
       "      cursor: pointer;\n",
       "      display: none;\n",
       "      fill: #1967D2;\n",
       "      height: 32px;\n",
       "      padding: 0 0 0 0;\n",
       "      width: 32px;\n",
       "    }\n",
       "\n",
       "    .colab-df-convert:hover {\n",
       "      background-color: #E2EBFA;\n",
       "      box-shadow: 0px 1px 2px rgba(60, 64, 67, 0.3), 0px 1px 3px 1px rgba(60, 64, 67, 0.15);\n",
       "      fill: #174EA6;\n",
       "    }\n",
       "\n",
       "    .colab-df-buttons div {\n",
       "      margin-bottom: 4px;\n",
       "    }\n",
       "\n",
       "    [theme=dark] .colab-df-convert {\n",
       "      background-color: #3B4455;\n",
       "      fill: #D2E3FC;\n",
       "    }\n",
       "\n",
       "    [theme=dark] .colab-df-convert:hover {\n",
       "      background-color: #434B5C;\n",
       "      box-shadow: 0px 1px 3px 1px rgba(0, 0, 0, 0.15);\n",
       "      filter: drop-shadow(0px 1px 2px rgba(0, 0, 0, 0.3));\n",
       "      fill: #FFFFFF;\n",
       "    }\n",
       "  </style>\n",
       "\n",
       "    <script>\n",
       "      const buttonEl =\n",
       "        document.querySelector('#df-1a1ab964-6213-4381-b2c8-290cd465c9c8 button.colab-df-convert');\n",
       "      buttonEl.style.display =\n",
       "        google.colab.kernel.accessAllowed ? 'block' : 'none';\n",
       "\n",
       "      async function convertToInteractive(key) {\n",
       "        const element = document.querySelector('#df-1a1ab964-6213-4381-b2c8-290cd465c9c8');\n",
       "        const dataTable =\n",
       "          await google.colab.kernel.invokeFunction('convertToInteractive',\n",
       "                                                    [key], {});\n",
       "        if (!dataTable) return;\n",
       "\n",
       "        const docLinkHtml = 'Like what you see? Visit the ' +\n",
       "          '<a target=\"_blank\" href=https://colab.research.google.com/notebooks/data_table.ipynb>data table notebook</a>'\n",
       "          + ' to learn more about interactive tables.';\n",
       "        element.innerHTML = '';\n",
       "        dataTable['output_type'] = 'display_data';\n",
       "        await google.colab.output.renderOutput(dataTable, element);\n",
       "        const docLink = document.createElement('div');\n",
       "        docLink.innerHTML = docLinkHtml;\n",
       "        element.appendChild(docLink);\n",
       "      }\n",
       "    </script>\n",
       "  </div>\n",
       "\n",
       "\n",
       "<div id=\"df-1265d844-2ae0-4aa1-911c-a9ed92e94c2e\">\n",
       "  <button class=\"colab-df-quickchart\" onclick=\"quickchart('df-1265d844-2ae0-4aa1-911c-a9ed92e94c2e')\"\n",
       "            title=\"Suggest charts.\"\n",
       "            style=\"display:none;\">\n",
       "\n",
       "<svg xmlns=\"http://www.w3.org/2000/svg\" height=\"24px\"viewBox=\"0 0 24 24\"\n",
       "     width=\"24px\">\n",
       "    <g>\n",
       "        <path d=\"M19 3H5c-1.1 0-2 .9-2 2v14c0 1.1.9 2 2 2h14c1.1 0 2-.9 2-2V5c0-1.1-.9-2-2-2zM9 17H7v-7h2v7zm4 0h-2V7h2v10zm4 0h-2v-4h2v4z\"/>\n",
       "    </g>\n",
       "</svg>\n",
       "  </button>\n",
       "\n",
       "<style>\n",
       "  .colab-df-quickchart {\n",
       "      --bg-color: #E8F0FE;\n",
       "      --fill-color: #1967D2;\n",
       "      --hover-bg-color: #E2EBFA;\n",
       "      --hover-fill-color: #174EA6;\n",
       "      --disabled-fill-color: #AAA;\n",
       "      --disabled-bg-color: #DDD;\n",
       "  }\n",
       "\n",
       "  [theme=dark] .colab-df-quickchart {\n",
       "      --bg-color: #3B4455;\n",
       "      --fill-color: #D2E3FC;\n",
       "      --hover-bg-color: #434B5C;\n",
       "      --hover-fill-color: #FFFFFF;\n",
       "      --disabled-bg-color: #3B4455;\n",
       "      --disabled-fill-color: #666;\n",
       "  }\n",
       "\n",
       "  .colab-df-quickchart {\n",
       "    background-color: var(--bg-color);\n",
       "    border: none;\n",
       "    border-radius: 50%;\n",
       "    cursor: pointer;\n",
       "    display: none;\n",
       "    fill: var(--fill-color);\n",
       "    height: 32px;\n",
       "    padding: 0;\n",
       "    width: 32px;\n",
       "  }\n",
       "\n",
       "  .colab-df-quickchart:hover {\n",
       "    background-color: var(--hover-bg-color);\n",
       "    box-shadow: 0 1px 2px rgba(60, 64, 67, 0.3), 0 1px 3px 1px rgba(60, 64, 67, 0.15);\n",
       "    fill: var(--button-hover-fill-color);\n",
       "  }\n",
       "\n",
       "  .colab-df-quickchart-complete:disabled,\n",
       "  .colab-df-quickchart-complete:disabled:hover {\n",
       "    background-color: var(--disabled-bg-color);\n",
       "    fill: var(--disabled-fill-color);\n",
       "    box-shadow: none;\n",
       "  }\n",
       "\n",
       "  .colab-df-spinner {\n",
       "    border: 2px solid var(--fill-color);\n",
       "    border-color: transparent;\n",
       "    border-bottom-color: var(--fill-color);\n",
       "    animation:\n",
       "      spin 1s steps(1) infinite;\n",
       "  }\n",
       "\n",
       "  @keyframes spin {\n",
       "    0% {\n",
       "      border-color: transparent;\n",
       "      border-bottom-color: var(--fill-color);\n",
       "      border-left-color: var(--fill-color);\n",
       "    }\n",
       "    20% {\n",
       "      border-color: transparent;\n",
       "      border-left-color: var(--fill-color);\n",
       "      border-top-color: var(--fill-color);\n",
       "    }\n",
       "    30% {\n",
       "      border-color: transparent;\n",
       "      border-left-color: var(--fill-color);\n",
       "      border-top-color: var(--fill-color);\n",
       "      border-right-color: var(--fill-color);\n",
       "    }\n",
       "    40% {\n",
       "      border-color: transparent;\n",
       "      border-right-color: var(--fill-color);\n",
       "      border-top-color: var(--fill-color);\n",
       "    }\n",
       "    60% {\n",
       "      border-color: transparent;\n",
       "      border-right-color: var(--fill-color);\n",
       "    }\n",
       "    80% {\n",
       "      border-color: transparent;\n",
       "      border-right-color: var(--fill-color);\n",
       "      border-bottom-color: var(--fill-color);\n",
       "    }\n",
       "    90% {\n",
       "      border-color: transparent;\n",
       "      border-bottom-color: var(--fill-color);\n",
       "    }\n",
       "  }\n",
       "</style>\n",
       "\n",
       "  <script>\n",
       "    async function quickchart(key) {\n",
       "      const quickchartButtonEl =\n",
       "        document.querySelector('#' + key + ' button');\n",
       "      quickchartButtonEl.disabled = true;  // To prevent multiple clicks.\n",
       "      quickchartButtonEl.classList.add('colab-df-spinner');\n",
       "      try {\n",
       "        const charts = await google.colab.kernel.invokeFunction(\n",
       "            'suggestCharts', [key], {});\n",
       "      } catch (error) {\n",
       "        console.error('Error during call to suggestCharts:', error);\n",
       "      }\n",
       "      quickchartButtonEl.classList.remove('colab-df-spinner');\n",
       "      quickchartButtonEl.classList.add('colab-df-quickchart-complete');\n",
       "    }\n",
       "    (() => {\n",
       "      let quickchartButtonEl =\n",
       "        document.querySelector('#df-1265d844-2ae0-4aa1-911c-a9ed92e94c2e button');\n",
       "      quickchartButtonEl.style.display =\n",
       "        google.colab.kernel.accessAllowed ? 'block' : 'none';\n",
       "    })();\n",
       "  </script>\n",
       "</div>\n",
       "    </div>\n",
       "  </div>\n"
      ],
      "text/plain": [
       "                                                text  class\n",
       "0  budget fight loom republicans flip fiscal scri...      1\n",
       "1  military accept transgender recruit monday pen...      1\n",
       "2  senior republican senator let mr mueller job w...      1\n",
       "3  fbi russia probe help australian diplomat tip ...      1\n",
       "4  trump want postal service charge amazon shipme...      1"
      ]
     },
     "execution_count": 5,
     "metadata": {},
     "output_type": "execute_result"
    }
   ],
   "source": [
    "news_df = news_df.drop(['Unnamed: 0'], axis=1)\n",
    "news_df.head()"
   ]
  },
  {
   "cell_type": "code",
   "execution_count": null,
   "id": "SRfd7y893QDy",
   "metadata": {
    "colab": {
     "base_uri": "https://localhost:8080/"
    },
    "id": "SRfd7y893QDy",
    "outputId": "0a979968-7f79-46f8-83a5-a67c870bbbb1"
   },
   "outputs": [
    {
     "data": {
      "text/plain": [
       "text     44678\n",
       "class    44678\n",
       "dtype: int64"
      ]
     },
     "execution_count": 6,
     "metadata": {},
     "output_type": "execute_result"
    }
   ],
   "source": [
    "news_df.dropna(inplace = True)\n",
    "news_df.count()"
   ]
  },
  {
   "cell_type": "markdown",
   "id": "5b4de925",
   "metadata": {
    "id": "5b4de925"
   },
   "source": [
    "### Data Preperation for model training"
   ]
  },
  {
   "cell_type": "markdown",
   "id": "0d49cfd3",
   "metadata": {
    "id": "0d49cfd3"
   },
   "source": [
    "Ref to understand Vectorization techniques: https://neptune.ai/blog/vectorization-techniques-in-nlp-guide"
   ]
  },
  {
   "cell_type": "code",
   "execution_count": null,
   "id": "4b5e9a16",
   "metadata": {
    "colab": {
     "base_uri": "https://localhost:8080/"
    },
    "id": "4b5e9a16",
    "outputId": "b041a51a-f6ec-4cd5-c445-bf053e8daf5b"
   },
   "outputs": [
    {
     "data": {
      "text/plain": [
       "83945"
      ]
     },
     "execution_count": 7,
     "metadata": {},
     "output_type": "execute_result"
    }
   ],
   "source": [
    "# Creating a list of words\n",
    "list_of_words = []\n",
    "for i in news_df.text:\n",
    "    for j in i.split():\n",
    "      list_of_words.append(j.strip())\n",
    "\n",
    "# Total unique words\n",
    "all_words = len(list(set(list_of_words)))\n",
    "all_words"
   ]
  },
  {
   "cell_type": "code",
   "execution_count": null,
   "id": "9c35011b",
   "metadata": {
    "colab": {
     "base_uri": "https://localhost:8080/"
    },
    "id": "9c35011b",
    "outputId": "a54d656a-5fce-4163-e2f8-9c3d6194ac59"
   },
   "outputs": [
    {
     "name": "stdout",
     "output_type": "stream",
     "text": [
      "The maximum number of words in any row  4456\n"
     ]
    }
   ],
   "source": [
    "# length of longest text\n",
    "# Finding the maximum number of words in a row\n",
    "maxlen = -1\n",
    "for doc in news_df.text:\n",
    "    tokens = nltk.word_tokenize(doc)\n",
    "    if (maxlen < len(tokens)):\n",
    "        maxlen = len(tokens)\n",
    "print(\"The maximum number of words in any row \", maxlen)"
   ]
  },
  {
   "cell_type": "code",
   "execution_count": null,
   "id": "4607eYgGOxYB",
   "metadata": {
    "colab": {
     "base_uri": "https://localhost:8080/",
     "height": 206
    },
    "id": "4607eYgGOxYB",
    "outputId": "25173e30-1f4f-4a97-dcf8-e9b6f6245412"
   },
   "outputs": [
    {
     "data": {
      "text/html": [
       "\n",
       "  <div id=\"df-2ae94928-867f-4c3d-ac43-22ae6de0f46d\" class=\"colab-df-container\">\n",
       "    <div>\n",
       "<style scoped>\n",
       "    .dataframe tbody tr th:only-of-type {\n",
       "        vertical-align: middle;\n",
       "    }\n",
       "\n",
       "    .dataframe tbody tr th {\n",
       "        vertical-align: top;\n",
       "    }\n",
       "\n",
       "    .dataframe thead th {\n",
       "        text-align: right;\n",
       "    }\n",
       "</style>\n",
       "<table border=\"1\" class=\"dataframe\">\n",
       "  <thead>\n",
       "    <tr style=\"text-align: right;\">\n",
       "      <th></th>\n",
       "      <th>text</th>\n",
       "      <th>class</th>\n",
       "    </tr>\n",
       "  </thead>\n",
       "  <tbody>\n",
       "    <tr>\n",
       "      <th>0</th>\n",
       "      <td>budget fight loom republicans flip fiscal scri...</td>\n",
       "      <td>1</td>\n",
       "    </tr>\n",
       "    <tr>\n",
       "      <th>1</th>\n",
       "      <td>military accept transgender recruit monday pen...</td>\n",
       "      <td>1</td>\n",
       "    </tr>\n",
       "    <tr>\n",
       "      <th>2</th>\n",
       "      <td>senior republican senator let mr mueller job w...</td>\n",
       "      <td>1</td>\n",
       "    </tr>\n",
       "    <tr>\n",
       "      <th>3</th>\n",
       "      <td>fbi russia probe help australian diplomat tip ...</td>\n",
       "      <td>1</td>\n",
       "    </tr>\n",
       "    <tr>\n",
       "      <th>4</th>\n",
       "      <td>trump want postal service charge amazon shipme...</td>\n",
       "      <td>1</td>\n",
       "    </tr>\n",
       "  </tbody>\n",
       "</table>\n",
       "</div>\n",
       "    <div class=\"colab-df-buttons\">\n",
       "\n",
       "  <div class=\"colab-df-container\">\n",
       "    <button class=\"colab-df-convert\" onclick=\"convertToInteractive('df-2ae94928-867f-4c3d-ac43-22ae6de0f46d')\"\n",
       "            title=\"Convert this dataframe to an interactive table.\"\n",
       "            style=\"display:none;\">\n",
       "\n",
       "  <svg xmlns=\"http://www.w3.org/2000/svg\" height=\"24px\" viewBox=\"0 -960 960 960\">\n",
       "    <path d=\"M120-120v-720h720v720H120Zm60-500h600v-160H180v160Zm220 220h160v-160H400v160Zm0 220h160v-160H400v160ZM180-400h160v-160H180v160Zm440 0h160v-160H620v160ZM180-180h160v-160H180v160Zm440 0h160v-160H620v160Z\"/>\n",
       "  </svg>\n",
       "    </button>\n",
       "\n",
       "  <style>\n",
       "    .colab-df-container {\n",
       "      display:flex;\n",
       "      gap: 12px;\n",
       "    }\n",
       "\n",
       "    .colab-df-convert {\n",
       "      background-color: #E8F0FE;\n",
       "      border: none;\n",
       "      border-radius: 50%;\n",
       "      cursor: pointer;\n",
       "      display: none;\n",
       "      fill: #1967D2;\n",
       "      height: 32px;\n",
       "      padding: 0 0 0 0;\n",
       "      width: 32px;\n",
       "    }\n",
       "\n",
       "    .colab-df-convert:hover {\n",
       "      background-color: #E2EBFA;\n",
       "      box-shadow: 0px 1px 2px rgba(60, 64, 67, 0.3), 0px 1px 3px 1px rgba(60, 64, 67, 0.15);\n",
       "      fill: #174EA6;\n",
       "    }\n",
       "\n",
       "    .colab-df-buttons div {\n",
       "      margin-bottom: 4px;\n",
       "    }\n",
       "\n",
       "    [theme=dark] .colab-df-convert {\n",
       "      background-color: #3B4455;\n",
       "      fill: #D2E3FC;\n",
       "    }\n",
       "\n",
       "    [theme=dark] .colab-df-convert:hover {\n",
       "      background-color: #434B5C;\n",
       "      box-shadow: 0px 1px 3px 1px rgba(0, 0, 0, 0.15);\n",
       "      filter: drop-shadow(0px 1px 2px rgba(0, 0, 0, 0.3));\n",
       "      fill: #FFFFFF;\n",
       "    }\n",
       "  </style>\n",
       "\n",
       "    <script>\n",
       "      const buttonEl =\n",
       "        document.querySelector('#df-2ae94928-867f-4c3d-ac43-22ae6de0f46d button.colab-df-convert');\n",
       "      buttonEl.style.display =\n",
       "        google.colab.kernel.accessAllowed ? 'block' : 'none';\n",
       "\n",
       "      async function convertToInteractive(key) {\n",
       "        const element = document.querySelector('#df-2ae94928-867f-4c3d-ac43-22ae6de0f46d');\n",
       "        const dataTable =\n",
       "          await google.colab.kernel.invokeFunction('convertToInteractive',\n",
       "                                                    [key], {});\n",
       "        if (!dataTable) return;\n",
       "\n",
       "        const docLinkHtml = 'Like what you see? Visit the ' +\n",
       "          '<a target=\"_blank\" href=https://colab.research.google.com/notebooks/data_table.ipynb>data table notebook</a>'\n",
       "          + ' to learn more about interactive tables.';\n",
       "        element.innerHTML = '';\n",
       "        dataTable['output_type'] = 'display_data';\n",
       "        await google.colab.output.renderOutput(dataTable, element);\n",
       "        const docLink = document.createElement('div');\n",
       "        docLink.innerHTML = docLinkHtml;\n",
       "        element.appendChild(docLink);\n",
       "      }\n",
       "    </script>\n",
       "  </div>\n",
       "\n",
       "\n",
       "<div id=\"df-ecfac9d3-9edf-4c78-b7ef-68023ff0e3d1\">\n",
       "  <button class=\"colab-df-quickchart\" onclick=\"quickchart('df-ecfac9d3-9edf-4c78-b7ef-68023ff0e3d1')\"\n",
       "            title=\"Suggest charts.\"\n",
       "            style=\"display:none;\">\n",
       "\n",
       "<svg xmlns=\"http://www.w3.org/2000/svg\" height=\"24px\"viewBox=\"0 0 24 24\"\n",
       "     width=\"24px\">\n",
       "    <g>\n",
       "        <path d=\"M19 3H5c-1.1 0-2 .9-2 2v14c0 1.1.9 2 2 2h14c1.1 0 2-.9 2-2V5c0-1.1-.9-2-2-2zM9 17H7v-7h2v7zm4 0h-2V7h2v10zm4 0h-2v-4h2v4z\"/>\n",
       "    </g>\n",
       "</svg>\n",
       "  </button>\n",
       "\n",
       "<style>\n",
       "  .colab-df-quickchart {\n",
       "      --bg-color: #E8F0FE;\n",
       "      --fill-color: #1967D2;\n",
       "      --hover-bg-color: #E2EBFA;\n",
       "      --hover-fill-color: #174EA6;\n",
       "      --disabled-fill-color: #AAA;\n",
       "      --disabled-bg-color: #DDD;\n",
       "  }\n",
       "\n",
       "  [theme=dark] .colab-df-quickchart {\n",
       "      --bg-color: #3B4455;\n",
       "      --fill-color: #D2E3FC;\n",
       "      --hover-bg-color: #434B5C;\n",
       "      --hover-fill-color: #FFFFFF;\n",
       "      --disabled-bg-color: #3B4455;\n",
       "      --disabled-fill-color: #666;\n",
       "  }\n",
       "\n",
       "  .colab-df-quickchart {\n",
       "    background-color: var(--bg-color);\n",
       "    border: none;\n",
       "    border-radius: 50%;\n",
       "    cursor: pointer;\n",
       "    display: none;\n",
       "    fill: var(--fill-color);\n",
       "    height: 32px;\n",
       "    padding: 0;\n",
       "    width: 32px;\n",
       "  }\n",
       "\n",
       "  .colab-df-quickchart:hover {\n",
       "    background-color: var(--hover-bg-color);\n",
       "    box-shadow: 0 1px 2px rgba(60, 64, 67, 0.3), 0 1px 3px 1px rgba(60, 64, 67, 0.15);\n",
       "    fill: var(--button-hover-fill-color);\n",
       "  }\n",
       "\n",
       "  .colab-df-quickchart-complete:disabled,\n",
       "  .colab-df-quickchart-complete:disabled:hover {\n",
       "    background-color: var(--disabled-bg-color);\n",
       "    fill: var(--disabled-fill-color);\n",
       "    box-shadow: none;\n",
       "  }\n",
       "\n",
       "  .colab-df-spinner {\n",
       "    border: 2px solid var(--fill-color);\n",
       "    border-color: transparent;\n",
       "    border-bottom-color: var(--fill-color);\n",
       "    animation:\n",
       "      spin 1s steps(1) infinite;\n",
       "  }\n",
       "\n",
       "  @keyframes spin {\n",
       "    0% {\n",
       "      border-color: transparent;\n",
       "      border-bottom-color: var(--fill-color);\n",
       "      border-left-color: var(--fill-color);\n",
       "    }\n",
       "    20% {\n",
       "      border-color: transparent;\n",
       "      border-left-color: var(--fill-color);\n",
       "      border-top-color: var(--fill-color);\n",
       "    }\n",
       "    30% {\n",
       "      border-color: transparent;\n",
       "      border-left-color: var(--fill-color);\n",
       "      border-top-color: var(--fill-color);\n",
       "      border-right-color: var(--fill-color);\n",
       "    }\n",
       "    40% {\n",
       "      border-color: transparent;\n",
       "      border-right-color: var(--fill-color);\n",
       "      border-top-color: var(--fill-color);\n",
       "    }\n",
       "    60% {\n",
       "      border-color: transparent;\n",
       "      border-right-color: var(--fill-color);\n",
       "    }\n",
       "    80% {\n",
       "      border-color: transparent;\n",
       "      border-right-color: var(--fill-color);\n",
       "      border-bottom-color: var(--fill-color);\n",
       "    }\n",
       "    90% {\n",
       "      border-color: transparent;\n",
       "      border-bottom-color: var(--fill-color);\n",
       "    }\n",
       "  }\n",
       "</style>\n",
       "\n",
       "  <script>\n",
       "    async function quickchart(key) {\n",
       "      const quickchartButtonEl =\n",
       "        document.querySelector('#' + key + ' button');\n",
       "      quickchartButtonEl.disabled = true;  // To prevent multiple clicks.\n",
       "      quickchartButtonEl.classList.add('colab-df-spinner');\n",
       "      try {\n",
       "        const charts = await google.colab.kernel.invokeFunction(\n",
       "            'suggestCharts', [key], {});\n",
       "      } catch (error) {\n",
       "        console.error('Error during call to suggestCharts:', error);\n",
       "      }\n",
       "      quickchartButtonEl.classList.remove('colab-df-spinner');\n",
       "      quickchartButtonEl.classList.add('colab-df-quickchart-complete');\n",
       "    }\n",
       "    (() => {\n",
       "      let quickchartButtonEl =\n",
       "        document.querySelector('#df-ecfac9d3-9edf-4c78-b7ef-68023ff0e3d1 button');\n",
       "      quickchartButtonEl.style.display =\n",
       "        google.colab.kernel.accessAllowed ? 'block' : 'none';\n",
       "    })();\n",
       "  </script>\n",
       "</div>\n",
       "    </div>\n",
       "  </div>\n"
      ],
      "text/plain": [
       "                                                text  class\n",
       "0  budget fight loom republicans flip fiscal scri...      1\n",
       "1  military accept transgender recruit monday pen...      1\n",
       "2  senior republican senator let mr mueller job w...      1\n",
       "3  fbi russia probe help australian diplomat tip ...      1\n",
       "4  trump want postal service charge amazon shipme...      1"
      ]
     },
     "execution_count": 9,
     "metadata": {},
     "output_type": "execute_result"
    }
   ],
   "source": [
    "# Displaying the dataframe\n",
    "news_df.head()"
   ]
  },
  {
   "cell_type": "code",
   "execution_count": null,
   "id": "c6308140",
   "metadata": {
    "id": "c6308140"
   },
   "outputs": [],
   "source": [
    "# splitting training/test datasets\n",
    "\n",
    "X_train, X_test, y_train, y_test = train_test_split(news_df[\"text\"], news_df[\"class\"], random_state=42)"
   ]
  },
  {
   "cell_type": "code",
   "execution_count": null,
   "id": "TFDL6_UUOIDH",
   "metadata": {
    "colab": {
     "base_uri": "https://localhost:8080/"
    },
    "id": "TFDL6_UUOIDH",
    "outputId": "9491dc10-5179-4ac5-ac1f-c7d397e3477d"
   },
   "outputs": [
    {
     "name": "stdout",
     "output_type": "stream",
     "text": [
      "(33508,)\n",
      "(11170,)\n"
     ]
    }
   ],
   "source": [
    "# Displaying the shape of train and test datasets\n",
    "print(X_train.shape)\n",
    "print(X_test.shape)"
   ]
  },
  {
   "cell_type": "code",
   "execution_count": null,
   "id": "d1440a3c",
   "metadata": {
    "id": "d1440a3c"
   },
   "outputs": [],
   "source": [
    "# Creating a tokenizer and fit it to the text, so the model can work with numbers, instead of text\n",
    "tokenizer = Tokenizer(num_words = all_words)\n",
    "tokenizer.fit_on_texts(news_df[\"text\"])\n",
    "train_sequence = tokenizer.texts_to_sequences(X_train)\n",
    "test_sequence = tokenizer.texts_to_sequences(X_test)"
   ]
  },
  {
   "cell_type": "code",
   "execution_count": null,
   "id": "NPU5Nnsxctcy",
   "metadata": {
    "colab": {
     "base_uri": "https://localhost:8080/"
    },
    "id": "NPU5Nnsxctcy",
    "outputId": "ec9f8a53-e207-4dbd-c23f-318beef333f8"
   },
   "outputs": [
    {
     "data": {
      "text/plain": [
       "[522,\n",
       " 1382,\n",
       " 31,\n",
       " 892,\n",
       " 861,\n",
       " 1041,\n",
       " 6215,\n",
       " 1841,\n",
       " 24,\n",
       " 1061,\n",
       " 3,\n",
       " 3277,\n",
       " 1382,\n",
       " 143,\n",
       " 31,\n",
       " 892,\n",
       " 861,\n",
       " 694,\n",
       " 1041,\n",
       " 6215,\n",
       " 1,\n",
       " 63,\n",
       " 522,\n",
       " 314,\n",
       " 4244,\n",
       " 2263,\n",
       " 413,\n",
       " 1346,\n",
       " 216,\n",
       " 2286,\n",
       " 1382,\n",
       " 125,\n",
       " 154,\n",
       " 154,\n",
       " 83,\n",
       " 1841,\n",
       " 3,\n",
       " 1178,\n",
       " 410,\n",
       " 111,\n",
       " 59,\n",
       " 90,\n",
       " 701,\n",
       " 29,\n",
       " 1,\n",
       " 547,\n",
       " 351,\n",
       " 238,\n",
       " 94,\n",
       " 565,\n",
       " 1,\n",
       " 712,\n",
       " 2023,\n",
       " 51,\n",
       " 6359,\n",
       " 44,\n",
       " 2797,\n",
       " 1832,\n",
       " 4244,\n",
       " 2263,\n",
       " 413,\n",
       " 522,\n",
       " 63,\n",
       " 429,\n",
       " 1994,\n",
       " 379,\n",
       " 4358,\n",
       " 3513,\n",
       " 861,\n",
       " 415,\n",
       " 78,\n",
       " 413,\n",
       " 522,\n",
       " 246,\n",
       " 861,\n",
       " 877,\n",
       " 8917,\n",
       " 550,\n",
       " 157,\n",
       " 1041,\n",
       " 469,\n",
       " 288,\n",
       " 341,\n",
       " 91,\n",
       " 361,\n",
       " 861,\n",
       " 1041,\n",
       " 3949,\n",
       " 267,\n",
       " 892,\n",
       " 771,\n",
       " 242,\n",
       " 38,\n",
       " 1382,\n",
       " 1,\n",
       " 129,\n",
       " 68,\n",
       " 3896,\n",
       " 20,\n",
       " 721,\n",
       " 415,\n",
       " 221,\n",
       " 6364,\n",
       " 1022,\n",
       " 1041,\n",
       " 633,\n",
       " 861,\n",
       " 834,\n",
       " 13,\n",
       " 155,\n",
       " 150,\n",
       " 1418,\n",
       " 522,\n",
       " 814,\n",
       " 2864,\n",
       " 2392,\n",
       " 861,\n",
       " 2443,\n",
       " 432,\n",
       " 484,\n",
       " 29,\n",
       " 866,\n",
       " 413,\n",
       " 983,\n",
       " 9647,\n",
       " 190,\n",
       " 1382,\n",
       " 410,\n",
       " 1,\n",
       " 124,\n",
       " 36,\n",
       " 446,\n",
       " 559,\n",
       " 216,\n",
       " 44,\n",
       " 524,\n",
       " 927,\n",
       " 956,\n",
       " 3,\n",
       " 2528,\n",
       " 271,\n",
       " 1087,\n",
       " 13,\n",
       " 991,\n",
       " 184,\n",
       " 3379,\n",
       " 1033,\n",
       " 4212,\n",
       " 717,\n",
       " 113,\n",
       " 27196,\n",
       " 115,\n",
       " 216,\n",
       " 728,\n",
       " 2354,\n",
       " 342,\n",
       " 393,\n",
       " 311,\n",
       " 1931,\n",
       " 162,\n",
       " 294,\n",
       " 1,\n",
       " 410,\n",
       " 44,\n",
       " 1087,\n",
       " 82,\n",
       " 222,\n",
       " 5933,\n",
       " 6,\n",
       " 559,\n",
       " 677,\n",
       " 3,\n",
       " 410,\n",
       " 1,\n",
       " 1382,\n",
       " 436,\n",
       " 1268,\n",
       " 1033,\n",
       " 3108,\n",
       " 1077,\n",
       " 216,\n",
       " 34,\n",
       " 5539,\n",
       " 1271,\n",
       " 4069,\n",
       " 214,\n",
       " 60,\n",
       " 5,\n",
       " 1246,\n",
       " 182,\n",
       " 4521,\n",
       " 515,\n",
       " 1382,\n",
       " 1,\n",
       " 46,\n",
       " 1061,\n",
       " 780,\n",
       " 1879,\n",
       " 888,\n",
       " 4069,\n",
       " 522,\n",
       " 932,\n",
       " 190,\n",
       " 63,\n",
       " 1016,\n",
       " 49,\n",
       " 538,\n",
       " 1271,\n",
       " 6539,\n",
       " 619,\n",
       " 8225,\n",
       " 6800,\n",
       " 43,\n",
       " 360,\n",
       " 496,\n",
       " 4069,\n",
       " 339,\n",
       " 143,\n",
       " 371,\n",
       " 2353,\n",
       " 100,\n",
       " 630,\n",
       " 393,\n",
       " 6615,\n",
       " 348,\n",
       " 20,\n",
       " 1,\n",
       " 359,\n",
       " 1823,\n",
       " 439,\n",
       " 1,\n",
       " 134,\n",
       " 111,\n",
       " 393,\n",
       " 1983,\n",
       " 152,\n",
       " 1030,\n",
       " 360,\n",
       " 1824,\n",
       " 63,\n",
       " 1,\n",
       " 50,\n",
       " 2259,\n",
       " 111,\n",
       " 52,\n",
       " 595,\n",
       " 279,\n",
       " 565,\n",
       " 1,\n",
       " 4521,\n",
       " 73,\n",
       " 34,\n",
       " 1064,\n",
       " 1231,\n",
       " 152,\n",
       " 2678,\n",
       " 50,\n",
       " 4069,\n",
       " 3,\n",
       " 1,\n",
       " 33,\n",
       " 994,\n",
       " 278,\n",
       " 554,\n",
       " 69220,\n",
       " 1002,\n",
       " 2042,\n",
       " 63,\n",
       " 522,\n",
       " 27821,\n",
       " 210,\n",
       " 147,\n",
       " 1442,\n",
       " 383,\n",
       " 522,\n",
       " 111,\n",
       " 6782,\n",
       " 171,\n",
       " 194,\n",
       " 2200,\n",
       " 9672,\n",
       " 554,\n",
       " 5308,\n",
       " 1382,\n",
       " 1,\n",
       " 3423,\n",
       " 83,\n",
       " 4523,\n",
       " 1329,\n",
       " 923]"
      ]
     },
     "execution_count": 13,
     "metadata": {},
     "output_type": "execute_result"
    }
   ],
   "source": [
    "# Displaying train sequence\n",
    "train_sequence[0]"
   ]
  },
  {
   "cell_type": "code",
   "execution_count": null,
   "id": "08fc07bd",
   "metadata": {
    "id": "08fc07bd"
   },
   "outputs": [],
   "source": [
    "# Adjusting sequences, so they have the same length, so the model can process them in batches\n",
    "pad_train = pad_sequences(train_sequence, maxlen = 4456, padding = 'post', truncating = 'post' )\n",
    "pad_test = pad_sequences(test_sequence, maxlen = 4456, padding = 'post')"
   ]
  },
  {
   "cell_type": "code",
   "execution_count": null,
   "id": "YS_lbPwYc47g",
   "metadata": {
    "colab": {
     "base_uri": "https://localhost:8080/"
    },
    "id": "YS_lbPwYc47g",
    "outputId": "3a10e7a8-e0f7-443b-f953-42ad0da8a8c9"
   },
   "outputs": [
    {
     "data": {
      "text/plain": [
       "array([ 522, 1382,   31, ...,    0,    0,    0], dtype=int32)"
      ]
     },
     "execution_count": 15,
     "metadata": {},
     "output_type": "execute_result"
    }
   ],
   "source": [
    "# Displaying a row of padded data\n",
    "pad_train[0]"
   ]
  },
  {
   "cell_type": "markdown",
   "id": "z96EjxbTSTJQ",
   "metadata": {
    "id": "z96EjxbTSTJQ"
   },
   "source": [
    "### Model Trial 1 - LSTM"
   ]
  },
  {
   "cell_type": "code",
   "execution_count": null,
   "id": "HX00Jx-8Fuzs",
   "metadata": {
    "colab": {
     "base_uri": "https://localhost:8080/"
    },
    "id": "HX00Jx-8Fuzs",
    "outputId": "5273b443-ff0a-4002-9bb3-edf82ad17ee9"
   },
   "outputs": [
    {
     "name": "stdout",
     "output_type": "stream",
     "text": [
      "Model: \"sequential\"\n",
      "_________________________________________________________________\n",
      " Layer (type)                Output Shape              Param #   \n",
      "=================================================================\n",
      " embedding (Embedding)       (None, None, 200)         16789000  \n",
      "                                                                 \n",
      " lstm (LSTM)                 (None, 100)               120400    \n",
      "                                                                 \n",
      " dense (Dense)               (None, 100)               10100     \n",
      "                                                                 \n",
      " dense_1 (Dense)             (None, 1)                 101       \n",
      "                                                                 \n",
      "=================================================================\n",
      "Total params: 16919601 (64.54 MB)\n",
      "Trainable params: 16919601 (64.54 MB)\n",
      "Non-trainable params: 0 (0.00 Byte)\n",
      "_________________________________________________________________\n"
     ]
    }
   ],
   "source": [
    "# Building the LSTM Model\n",
    "model1 = Sequential()\n",
    "model1.add(Embedding(all_words, output_dim = 200))\n",
    "model1.add(LSTM(100))\n",
    "model1.add(Dense(100, activation = 'relu'))\n",
    "model1.add(Dense(1, activation = 'sigmoid'))\n",
    "\n",
    "model1.summary()"
   ]
  },
  {
   "cell_type": "code",
   "execution_count": null,
   "id": "A7Uiu2lqGDBp",
   "metadata": {
    "id": "A7Uiu2lqGDBp"
   },
   "outputs": [],
   "source": [
    "# Compiling the model\n",
    "model1.compile(loss=\"binary_crossentropy\", optimizer=\"adam\", metrics=[\"accuracy\"])"
   ]
  },
  {
   "cell_type": "code",
   "execution_count": null,
   "id": "JR4YQ20hGH6b",
   "metadata": {
    "colab": {
     "base_uri": "https://localhost:8080/"
    },
    "id": "JR4YQ20hGH6b",
    "outputId": "318e121e-874c-4f50-d1ec-30c399f616b5"
   },
   "outputs": [
    {
     "name": "stdout",
     "output_type": "stream",
     "text": [
      "Epoch 1/2\n",
      "135/135 [==============================] - 63s 467ms/step - loss: 0.6916 - accuracy: 0.5282 - val_loss: 0.6925 - val_accuracy: 0.5209\n",
      "Epoch 2/2\n",
      "135/135 [==============================] - 62s 458ms/step - loss: 0.6916 - accuracy: 0.5282 - val_loss: 0.6923 - val_accuracy: 0.5209\n"
     ]
    }
   ],
   "source": [
    "# Model training\n",
    "history = model1.fit(pad_train, y_train, validation_split=0.2, epochs=2, batch_size=200, shuffle=True, verbose = 1)"
   ]
  },
  {
   "cell_type": "markdown",
   "id": "she3C5mXVUCi",
   "metadata": {
    "id": "she3C5mXVUCi"
   },
   "source": [
    "#### Accuracy is almost constant at 0.52"
   ]
  },
  {
   "cell_type": "markdown",
   "id": "xzQEJPYRHQ9G",
   "metadata": {
    "id": "xzQEJPYRHQ9G"
   },
   "source": [
    "### Model Trial 2 - Two LSTM layers"
   ]
  },
  {
   "cell_type": "code",
   "execution_count": null,
   "id": "Km3MaQ_NHzXd",
   "metadata": {
    "colab": {
     "base_uri": "https://localhost:8080/"
    },
    "id": "Km3MaQ_NHzXd",
    "outputId": "ed7242ed-e467-4d6a-a51a-fbc8fd6becc1"
   },
   "outputs": [
    {
     "name": "stdout",
     "output_type": "stream",
     "text": [
      "Model: \"sequential_2\"\n",
      "_________________________________________________________________\n",
      " Layer (type)                Output Shape              Param #   \n",
      "=================================================================\n",
      " embedding_2 (Embedding)     (None, 4456, 250)         20986250  \n",
      "                                                                 \n",
      " lstm_3 (LSTM)               (None, 4456, 150)         240600    \n",
      "                                                                 \n",
      " lstm_4 (LSTM)               (None, 75)                67800     \n",
      "                                                                 \n",
      " dense_4 (Dense)             (None, 75)                5700      \n",
      "                                                                 \n",
      " dense_5 (Dense)             (None, 1)                 76        \n",
      "                                                                 \n",
      "=================================================================\n",
      "Total params: 21300426 (81.25 MB)\n",
      "Trainable params: 21300426 (81.25 MB)\n",
      "Non-trainable params: 0 (0.00 Byte)\n",
      "_________________________________________________________________\n"
     ]
    }
   ],
   "source": [
    "# Building the LSTM Model\n",
    "model1 = Sequential()\n",
    "model1.add(Embedding(all_words, output_dim = 250, input_length=4456))\n",
    "model1.add(LSTM(150, return_sequences=True))\n",
    "model1.add(LSTM(75))\n",
    "model1.add(Dense(75, activation = 'relu'))\n",
    "model1.add(Dense(1, activation = 'sigmoid'))\n",
    "\n",
    "model1.summary()"
   ]
  },
  {
   "cell_type": "code",
   "execution_count": null,
   "id": "gj9GYl6pH4V2",
   "metadata": {
    "id": "gj9GYl6pH4V2"
   },
   "outputs": [],
   "source": [
    "# Compiling the model\n",
    "model1.compile(loss=\"binary_crossentropy\", optimizer=\"adam\", metrics=[\"accuracy\"])"
   ]
  },
  {
   "cell_type": "code",
   "execution_count": null,
   "id": "1OhC-hHOICkA",
   "metadata": {
    "colab": {
     "base_uri": "https://localhost:8080/"
    },
    "id": "1OhC-hHOICkA",
    "outputId": "b7d2c6f3-0e93-43fd-a3eb-993858adc48d"
   },
   "outputs": [
    {
     "name": "stdout",
     "output_type": "stream",
     "text": [
      "Epoch 1/2\n",
      "419/419 [==============================] - 230s 536ms/step - loss: 0.6922 - accuracy: 0.5266 - val_loss: 0.6925 - val_accuracy: 0.5209\n",
      "Epoch 2/2\n",
      "419/419 [==============================] - 213s 509ms/step - loss: 0.6917 - accuracy: 0.5282 - val_loss: 0.6925 - val_accuracy: 0.5209\n"
     ]
    }
   ],
   "source": [
    "# Model training\n",
    "history = model1.fit(pad_train, y_train, validation_split=0.2, epochs=2, batch_size=64, shuffle=True, verbose = 1)"
   ]
  },
  {
   "cell_type": "markdown",
   "id": "uvCBPjrjVdgN",
   "metadata": {
    "id": "uvCBPjrjVdgN"
   },
   "source": [
    "#### Accuracy seems to be similar to that with single LSTM but could explore more"
   ]
  },
  {
   "cell_type": "markdown",
   "id": "AX-o42dRHv7_",
   "metadata": {
    "id": "AX-o42dRHv7_"
   },
   "source": [
    "### Model Test 3 - Bidirectional LSTM"
   ]
  },
  {
   "cell_type": "code",
   "execution_count": null,
   "id": "bc2e99b9",
   "metadata": {
    "colab": {
     "base_uri": "https://localhost:8080/"
    },
    "id": "bc2e99b9",
    "outputId": "ccfc5e78-b5c7-4785-ed0c-57387f325857"
   },
   "outputs": [
    {
     "name": "stdout",
     "output_type": "stream",
     "text": [
      "Model: \"sequential\"\n",
      "_________________________________________________________________\n",
      " Layer (type)                Output Shape              Param #   \n",
      "=================================================================\n",
      " embedding (Embedding)       (None, None, 256)         21489920  \n",
      "                                                                 \n",
      " bidirectional (Bidirection  (None, 256)               394240    \n",
      " al)                                                             \n",
      "                                                                 \n",
      " dense (Dense)               (None, 64)                16448     \n",
      "                                                                 \n",
      " dense_1 (Dense)             (None, 1)                 65        \n",
      "                                                                 \n",
      "=================================================================\n",
      "Total params: 21900673 (83.54 MB)\n",
      "Trainable params: 21900673 (83.54 MB)\n",
      "Non-trainable params: 0 (0.00 Byte)\n",
      "_________________________________________________________________\n"
     ]
    }
   ],
   "source": [
    "# Building the LSTM Model\n",
    "model1 = Sequential()\n",
    "model1.add(Embedding(all_words, output_dim = 256))\n",
    "model1.add(Bidirectional(LSTM(128)))\n",
    "model1.add(Dense(64, activation = 'relu'))\n",
    "model1.add(Dense(1, activation = 'sigmoid'))\n",
    "\n",
    "model1.summary()"
   ]
  },
  {
   "cell_type": "code",
   "execution_count": null,
   "id": "bd189274",
   "metadata": {
    "id": "bd189274"
   },
   "outputs": [],
   "source": [
    "# Compiling the model\n",
    "model1.compile(loss=\"binary_crossentropy\", optimizer=\"adam\", metrics=[\"accuracy\"])"
   ]
  },
  {
   "cell_type": "code",
   "execution_count": null,
   "id": "a35361cf",
   "metadata": {
    "colab": {
     "base_uri": "https://localhost:8080/"
    },
    "id": "a35361cf",
    "outputId": "401cae50-f093-4dc0-9376-c8da7b8b6748"
   },
   "outputs": [
    {
     "name": "stdout",
     "output_type": "stream",
     "text": [
      "Epoch 1/3\n",
      "419/419 [==============================] - 240s 551ms/step - loss: 0.0411 - accuracy: 0.9821 - val_loss: 0.0067 - val_accuracy: 0.9982\n",
      "Epoch 2/3\n",
      "419/419 [==============================] - 217s 518ms/step - loss: 8.4818e-04 - accuracy: 0.9999 - val_loss: 0.0054 - val_accuracy: 0.9987\n",
      "Epoch 3/3\n",
      "419/419 [==============================] - 203s 484ms/step - loss: 9.2755e-05 - accuracy: 1.0000 - val_loss: 0.0057 - val_accuracy: 0.9987\n"
     ]
    }
   ],
   "source": [
    "# Model training\n",
    "history = model1.fit(pad_train, y_train, validation_split=0.2, epochs=3, batch_size=64, shuffle=True, verbose = 1)"
   ]
  },
  {
   "cell_type": "code",
   "execution_count": null,
   "id": "SVlu0jRMiJM2",
   "metadata": {
    "colab": {
     "base_uri": "https://localhost:8080/"
    },
    "id": "SVlu0jRMiJM2",
    "outputId": "c72c9b74-2745-4dd5-e70e-5901a7e1ccd0"
   },
   "outputs": [
    {
     "name": "stdout",
     "output_type": "stream",
     "text": [
      "350/350 - 39s - loss: 0.0063 - accuracy: 0.9985 - 39s/epoch - 110ms/step\n",
      "Loss: 0.0062997424975037575, Accuracy: 0.9984780550003052\n"
     ]
    }
   ],
   "source": [
    "# Printing model loss and accuracy on test data\n",
    "model_loss, model_accuracy = model1.evaluate(pad_test,y_test, verbose=2)\n",
    "print(f\"Loss: {model_loss}, Accuracy: {model_accuracy}\")"
   ]
  },
  {
   "cell_type": "markdown",
   "id": "ldHqsy2EwdH0",
   "metadata": {
    "id": "ldHqsy2EwdH0"
   },
   "source": [
    "### **This model looks like a good fit in terms of train and validation accuracy and loss.**"
   ]
  },
  {
   "cell_type": "code",
   "execution_count": null,
   "id": "2f87c48f",
   "metadata": {
    "colab": {
     "base_uri": "https://localhost:8080/"
    },
    "id": "2f87c48f",
    "outputId": "05f4a4e8-9612-4a73-fb53-1a1ed3cf7e4b"
   },
   "outputs": [
    {
     "name": "stdout",
     "output_type": "stream",
     "text": [
      "350/350 [==============================] - 40s 110ms/step\n"
     ]
    }
   ],
   "source": [
    "# Predicting test data using model\n",
    "pred = model1.predict(pad_test)\n",
    "\n",
    "# Saving prediction scores in an array\n",
    "binary_predictions = []\n",
    "\n",
    "for i in pred:\n",
    "    if i >= 0.5:\n",
    "        binary_predictions.append(1)\n",
    "    else:\n",
    "        binary_predictions.append(0)"
   ]
  },
  {
   "cell_type": "code",
   "execution_count": null,
   "id": "IdeFDKBCsBBA",
   "metadata": {
    "colab": {
     "base_uri": "https://localhost:8080/"
    },
    "id": "IdeFDKBCsBBA",
    "outputId": "b6e84e92-11b0-4778-ab0f-7d396922c8bb"
   },
   "outputs": [
    {
     "name": "stdout",
     "output_type": "stream",
     "text": [
      "Accuracy on testing set: 0.9984780662488809\n",
      "Precision on testing set: 0.9983180713885255\n",
      "Recall on testing set: 0.9985046728971962\n"
     ]
    }
   ],
   "source": [
    "# Printing the accuracy, precision and recall of the model on test data\n",
    "from sklearn.metrics import accuracy_score, confusion_matrix, precision_score, recall_score\n",
    "\n",
    "print('Accuracy on testing set:', accuracy_score(binary_predictions, y_test))\n",
    "print('Precision on testing set:', precision_score(binary_predictions, y_test))\n",
    "print('Recall on testing set:', recall_score(binary_predictions, y_test))"
   ]
  },
  {
   "cell_type": "markdown",
   "id": "Hp1lwykDw6EI",
   "metadata": {
    "id": "Hp1lwykDw6EI"
   },
   "source": [
    "### The testing accuracy is very good at 99.8 %"
   ]
  },
  {
   "cell_type": "code",
   "execution_count": null,
   "id": "PaAFJGR4S__h",
   "metadata": {
    "colab": {
     "base_uri": "https://localhost:8080/"
    },
    "id": "PaAFJGR4S__h",
    "outputId": "14ab9577-7d94-441d-9230-71949ac6ac8d"
   },
   "outputs": [
    {
     "name": "stderr",
     "output_type": "stream",
     "text": [
      "/usr/local/lib/python3.10/dist-packages/keras/src/engine/training.py:3079: UserWarning: You are saving your model as an HDF5 file via `model.save()`. This file format is considered legacy. We recommend using instead the native Keras format, e.g. `model.save('my_model.keras')`.\n",
      "  saving_api.save_model(\n"
     ]
    }
   ],
   "source": [
    "# Saving the model\n",
    "\n",
    "filename = \"model_biLSTM.h5\"\n",
    "model1.save(filename, save_format='h5')"
   ]
  },
  {
   "cell_type": "code",
   "execution_count": null,
   "id": "JWXTNy8x3WTg",
   "metadata": {
    "colab": {
     "base_uri": "https://localhost:8080/"
    },
    "id": "JWXTNy8x3WTg",
    "outputId": "812ae005-a898-47cc-812c-348a9be8e6ee"
   },
   "outputs": [
    {
     "data": {
      "text/plain": [
       "39518    0\n",
       "38425    0\n",
       "6803     1\n",
       "41691    0\n",
       "18948    1\n",
       "22895    0\n",
       "6383     1\n",
       "6676     1\n",
       "26134    0\n",
       "12757    1\n",
       "19227    1\n",
       "34438    0\n",
       "17280    1\n",
       "2582     1\n",
       "41955    0\n",
       "29494    0\n",
       "38920    0\n",
       "2875     1\n",
       "21696    0\n",
       "16451    1\n",
       "39693    0\n",
       "42749    0\n",
       "1388     1\n",
       "20631    1\n",
       "43459    0\n",
       "7538     1\n",
       "8568     1\n",
       "2098     1\n",
       "38439    0\n",
       "31810    0\n",
       "30994    0\n",
       "24901    0\n",
       "1566     1\n",
       "36274    0\n",
       "41638    0\n",
       "20744    1\n",
       "33831    0\n",
       "17291    1\n",
       "34753    0\n",
       "12687    1\n",
       "27560    0\n",
       "38376    0\n",
       "26759    0\n",
       "42293    0\n",
       "35529    0\n",
       "39913    0\n",
       "6847     1\n",
       "44044    0\n",
       "43608    0\n",
       "1000     1\n",
       "Name: class, dtype: int64"
      ]
     },
     "execution_count": 25,
     "metadata": {},
     "output_type": "execute_result"
    }
   ],
   "source": [
    "y_test.iloc[50:100]"
   ]
  },
  {
   "cell_type": "code",
   "execution_count": null,
   "id": "aa_oSaHM25pF",
   "metadata": {
    "id": "aa_oSaHM25pF"
   },
   "outputs": [],
   "source": [
    "# Text for testing\n",
    "sample = ['factbox bannon exit late trump administration shake reuters president donald trump friday fire chief strategist stephen bannon late white house shake remove far right architect election victory drive force anti globalization pro nationalist agenda follow partial list official fire leave administration trump take office jan people nominate trump position job philip bilden private equity executive military intelligence officer pick trump secretary navy withdraw consideration february government conflict interest rule james comey federal bureau investigation director lead probe possible collusion trump presidential campaign russia influence election outcome fire trump james donovan goldman sachs group inc banker nominate trump deputy treasury secretary withdraw michael dubke founder crossroad medium resign white house communications director michael flynn resign february trump national security adviser disclosure discuss sanction russia russian ambassador united states trump take office mislead vice president mike pence conversation mark green trump nominee army secretary serve special operation aviation regiment withdraw consideration gerrit lanse white house chief digital officer step february fail pass fbi background check accord politico jason miller communication director trump transition team name president elect december white house communications director say day later job reince priebus chairman republican national committee replace john kelly trump chief staff friday confidant president say trump lose confidence priebus major legislative item fail pass congress todd ricketts co owner chicago cub baseball team trump choice deputy secretary commerce withdraw consideration april anthony scaramucci white house communications director fire trump july day job profanity lace comment new yorker magazine publish walter shaub head office government ethic clash trump administration step july year term end michael short senior white house assistant press secretary resign july sean spicer resign white house press secretary july end turbulent tenure trump name scaramucci white house communications director robin townley aide national security adviser flynn reject february deny security clearance serve national security council accord politico vincent viola army veteran chairman new york mercantile exchange nominate trump secretary army withdraw consideration february katie walsh deputy white house chief staff transfer outside pro trump group america policy march accord politico caroline wiles trump director scheduling resign february fail background check accord politico sally yate act attorney general fire trump january order justice department lawyer enforce trump immigration ban']"
   ]
  },
  {
   "cell_type": "code",
   "execution_count": null,
   "id": "7SvCBunm250n",
   "metadata": {
    "id": "7SvCBunm250n"
   },
   "outputs": [],
   "source": [
    "# word tokenization\n",
    "test_seq = tokenizer.texts_to_sequences(sample)"
   ]
  },
  {
   "cell_type": "code",
   "execution_count": null,
   "id": "bEq2ZeMi9MFc",
   "metadata": {
    "colab": {
     "base_uri": "https://localhost:8080/"
    },
    "id": "bEq2ZeMi9MFc",
    "outputId": "88f81efd-b912-435c-f41f-6803d1696881"
   },
   "outputs": [
    {
     "data": {
      "text/plain": [
       "array([[3219, 1202, 1804, ...,    0,    0,    0]], dtype=int32)"
      ]
     },
     "execution_count": 28,
     "metadata": {},
     "output_type": "execute_result"
    }
   ],
   "source": [
    "pad_test = pad_sequences(test_seq, maxlen = 4456, padding = 'post')\n",
    "pad_test"
   ]
  },
  {
   "cell_type": "code",
   "execution_count": null,
   "id": "bS4XgK4E-6gG",
   "metadata": {
    "colab": {
     "base_uri": "https://localhost:8080/"
    },
    "id": "bS4XgK4E-6gG",
    "outputId": "9ce6c8c2-e96a-4885-83e5-2273bd3d1464"
   },
   "outputs": [
    {
     "name": "stdout",
     "output_type": "stream",
     "text": [
      "1/1 [==============================] - 0s 122ms/step\n"
     ]
    },
    {
     "data": {
      "text/plain": [
       "array([[0.9999963]], dtype=float32)"
      ]
     },
     "execution_count": 29,
     "metadata": {},
     "output_type": "execute_result"
    }
   ],
   "source": [
    "prediction = model1.predict(pad_test)\n",
    "prediction"
   ]
  },
  {
   "cell_type": "code",
   "execution_count": null,
   "id": "L0YgGftxchHq",
   "metadata": {
    "id": "L0YgGftxchHq"
   },
   "outputs": [],
   "source": [
    "# Loading saved model\n",
    "from tensorflow.keras.models import load_model\n",
    "loaded_model = load_model('model_biLSTM.h5')"
   ]
  },
  {
   "cell_type": "code",
   "execution_count": null,
   "id": "rUCevlLjdNlZ",
   "metadata": {
    "id": "rUCevlLjdNlZ"
   },
   "outputs": [],
   "source": [
    "# Function for data cleaning\n",
    "import spacy\n",
    "nlp = spacy.load('en_core_web_sm')\n",
    "\n",
    "def data_cleaning(text):\n",
    "\n",
    "    # changing to lower case\n",
    "    text = text.lower()\n",
    "\n",
    "    # Getting document ready for NLP tasks\n",
    "    doc = nlp(text)\n",
    "\n",
    "    # Empty list for storing cleaned data\n",
    "    clean_text = \"\"\n",
    "\n",
    "    # Remove stop words and lemmatize\n",
    "    lemmas = [token.lemma_ for token in doc if not token.is_stop and token.is_alpha]\n",
    "\n",
    "    # Join the lemmas back into a string\n",
    "    clean_text = ' '.join(lemmas)\n",
    "\n",
    "    return(clean_text)"
   ]
  },
  {
   "cell_type": "code",
   "execution_count": null,
   "id": "tGwSFikgdbyn",
   "metadata": {
    "id": "tGwSFikgdbyn"
   },
   "outputs": [],
   "source": [
    "# True\n",
    "check = \"WASHINGTON (Reuters) - The U.S. House of Representatives on Friday approved legislation to continue a federal insurance program for millions of lower-income children and pregnant women, but with an ongoing funding battle it could be weeks before the program gets more money.\""
   ]
  },
  {
   "cell_type": "code",
   "execution_count": null,
   "id": "S5mXeakHdeZe",
   "metadata": {
    "id": "S5mXeakHdeZe"
   },
   "outputs": [],
   "source": [
    "# Fake\n",
    "check = \"This NRA Commercial Is So Stupid It Will Melt Your Brain (VIDEO) A few days after the Planned Parenthood shooting in Colorado Springs that left three dead and twelve injured, the National Rifle Association (NRA) released the dumbest pro-gun commercial likely ever seen. In the months since the commercial was released and in the aftermath of more mass shootings, it has popped up on my television screen multiple times. Every single time I see it my brain melts a l\""
   ]
  },
  {
   "cell_type": "code",
   "execution_count": null,
   "id": "yvfDZee-dSNj",
   "metadata": {
    "id": "yvfDZee-dSNj"
   },
   "outputs": [],
   "source": [
    "clean_text = data_cleaning(check)"
   ]
  },
  {
   "cell_type": "code",
   "execution_count": null,
   "id": "MJQCW1Y9dsob",
   "metadata": {
    "colab": {
     "base_uri": "https://localhost:8080/",
     "height": 70
    },
    "id": "MJQCW1Y9dsob",
    "outputId": "282e542c-e03d-46ee-de30-5036045b8f9d"
   },
   "outputs": [
    {
     "data": {
      "application/vnd.google.colaboratory.intrinsic+json": {
       "type": "string"
      },
      "text/plain": [
       "'nra commercial stupid melt brain video day plan parenthood shooting colorado spring leave dead injure national rifle association nra release dumb pro gun commercial likely see month commercial release aftermath mass shooting pop television screen multiple time single time brain melt l'"
      ]
     },
     "execution_count": 39,
     "metadata": {},
     "output_type": "execute_result"
    }
   ],
   "source": [
    "# Displaying clean text\n",
    "clean_text"
   ]
  },
  {
   "cell_type": "code",
   "execution_count": null,
   "id": "22ZZFtZddvwn",
   "metadata": {
    "id": "22ZZFtZddvwn"
   },
   "outputs": [],
   "source": [
    "# Converting clean data to series\n",
    "clean_text_ser = pd.Series(clean_text)"
   ]
  },
  {
   "cell_type": "code",
   "execution_count": null,
   "id": "i1sIWGHydyZW",
   "metadata": {
    "colab": {
     "base_uri": "https://localhost:8080/"
    },
    "id": "i1sIWGHydyZW",
    "outputId": "4554f6ff-c148-44c1-92a3-6014968e55c8"
   },
   "outputs": [
    {
     "name": "stdout",
     "output_type": "stream",
     "text": [
      "1/1 [==============================] - 0s 120ms/step\n",
      "Prediction of the News :  Fake\n"
     ]
    }
   ],
   "source": [
    "# Vectorizing clean data\n",
    "sample_sequence = tokenizer.texts_to_sequences(clean_text_ser)\n",
    "pad_sample = pad_sequences(sample_sequence, maxlen = 4456, padding = 'post')\n",
    "# Predicting outcome\n",
    "prediction = loaded_model.predict(pad_sample)\n",
    "# Printing outcome based on predicted value\n",
    "if prediction[0] < 0.5:\n",
    "    print(\"Prediction of the News :  Fake\")\n",
    "else:\n",
    "    print(\"Prediction of the News : Real\")\n"
   ]
  }
 ],
 "metadata": {
  "accelerator": "GPU",
  "colab": {
   "gpuType": "T4",
   "provenance": []
  },
  "kernelspec": {
   "display_name": "Python 3 (ipykernel)",
   "language": "python",
   "name": "python3"
  },
  "language_info": {
   "codemirror_mode": {
    "name": "ipython",
    "version": 3
   },
   "file_extension": ".py",
   "mimetype": "text/x-python",
   "name": "python",
   "nbconvert_exporter": "python",
   "pygments_lexer": "ipython3",
   "version": "3.10.11"
  }
 },
 "nbformat": 4,
 "nbformat_minor": 5
}
