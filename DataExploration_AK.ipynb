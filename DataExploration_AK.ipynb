{
 "cells": [
  {
   "cell_type": "markdown",
   "id": "b5cb434d",
   "metadata": {},
   "source": [
    "## Data Loading\n"
   ]
  },
  {
   "cell_type": "code",
   "execution_count": 1,
   "id": "c45cca09",
   "metadata": {},
   "outputs": [],
   "source": [
    "# Import dependencies\n",
    "from pathlib import Path\n",
    "import pandas as pd \n",
    "import spacy\n",
    "import nltk\n",
    "from nltk.tokenize import word_tokenize\n",
    "from nltk.corpus import stopwords\n",
    "from nltk.probability import FreqDist\n",
    "from wordcloud import WordCloud\n",
    "import matplotlib.pyplot as plt\n",
    "from textblob import TextBlob\n",
    "import numpy as np\n"
   ]
  },
  {
   "cell_type": "code",
   "execution_count": 2,
   "id": "8291608f",
   "metadata": {},
   "outputs": [],
   "source": [
    "# Load the news file with cleaned Dataset\n",
    "news_file = Path('Resources/news_initial_clean_df.csv')\n",
    "\n",
    "\n",
    "# Read the CSV file directly into pandas DataFrame\n",
    "news_df = pd.read_csv(news_file, sep=',')\n",
    "\n"
   ]
  },
  {
   "cell_type": "code",
   "execution_count": 3,
   "id": "34162afd",
   "metadata": {},
   "outputs": [
    {
     "data": {
      "text/html": [
       "<div>\n",
       "<style scoped>\n",
       "    .dataframe tbody tr th:only-of-type {\n",
       "        vertical-align: middle;\n",
       "    }\n",
       "\n",
       "    .dataframe tbody tr th {\n",
       "        vertical-align: top;\n",
       "    }\n",
       "\n",
       "    .dataframe thead th {\n",
       "        text-align: right;\n",
       "    }\n",
       "</style>\n",
       "<table border=\"1\" class=\"dataframe\">\n",
       "  <thead>\n",
       "    <tr style=\"text-align: right;\">\n",
       "      <th></th>\n",
       "      <th>Unnamed: 0</th>\n",
       "      <th>title</th>\n",
       "      <th>text</th>\n",
       "      <th>subject</th>\n",
       "      <th>date</th>\n",
       "      <th>Class</th>\n",
       "    </tr>\n",
       "  </thead>\n",
       "  <tbody>\n",
       "    <tr>\n",
       "      <th>0</th>\n",
       "      <td>0</td>\n",
       "      <td>As U.S. budget fight looms, Republicans flip t...</td>\n",
       "      <td>WASHINGTON (Reuters) The head of a conservativ...</td>\n",
       "      <td>politicsNews</td>\n",
       "      <td>December 31, 2017</td>\n",
       "      <td>1</td>\n",
       "    </tr>\n",
       "    <tr>\n",
       "      <th>1</th>\n",
       "      <td>1</td>\n",
       "      <td>U.S. military to accept transgender recruits o...</td>\n",
       "      <td>WASHINGTON (Reuters) Transgender people will b...</td>\n",
       "      <td>politicsNews</td>\n",
       "      <td>December 29, 2017</td>\n",
       "      <td>1</td>\n",
       "    </tr>\n",
       "    <tr>\n",
       "      <th>2</th>\n",
       "      <td>2</td>\n",
       "      <td>Senior U.S. Republican senator: 'Let Mr. Muell...</td>\n",
       "      <td>WASHINGTON (Reuters) The special counsel inves...</td>\n",
       "      <td>politicsNews</td>\n",
       "      <td>December 31, 2017</td>\n",
       "      <td>1</td>\n",
       "    </tr>\n",
       "    <tr>\n",
       "      <th>3</th>\n",
       "      <td>3</td>\n",
       "      <td>FBI Russia probe helped by Australian diplomat...</td>\n",
       "      <td>WASHINGTON (Reuters) Trump campaign adviser Ge...</td>\n",
       "      <td>politicsNews</td>\n",
       "      <td>December 30, 2017</td>\n",
       "      <td>1</td>\n",
       "    </tr>\n",
       "    <tr>\n",
       "      <th>4</th>\n",
       "      <td>4</td>\n",
       "      <td>Trump wants Postal Service to charge 'much mor...</td>\n",
       "      <td>SEATTLE/WASHINGTON (Reuters) President Donald ...</td>\n",
       "      <td>politicsNews</td>\n",
       "      <td>December 29, 2017</td>\n",
       "      <td>1</td>\n",
       "    </tr>\n",
       "  </tbody>\n",
       "</table>\n",
       "</div>"
      ],
      "text/plain": [
       "   Unnamed: 0                                              title  \\\n",
       "0           0  As U.S. budget fight looms, Republicans flip t...   \n",
       "1           1  U.S. military to accept transgender recruits o...   \n",
       "2           2  Senior U.S. Republican senator: 'Let Mr. Muell...   \n",
       "3           3  FBI Russia probe helped by Australian diplomat...   \n",
       "4           4  Trump wants Postal Service to charge 'much mor...   \n",
       "\n",
       "                                                text       subject  \\\n",
       "0  WASHINGTON (Reuters) The head of a conservativ...  politicsNews   \n",
       "1  WASHINGTON (Reuters) Transgender people will b...  politicsNews   \n",
       "2  WASHINGTON (Reuters) The special counsel inves...  politicsNews   \n",
       "3  WASHINGTON (Reuters) Trump campaign adviser Ge...  politicsNews   \n",
       "4  SEATTLE/WASHINGTON (Reuters) President Donald ...  politicsNews   \n",
       "\n",
       "                 date  Class  \n",
       "0  December 31, 2017       1  \n",
       "1  December 29, 2017       1  \n",
       "2  December 31, 2017       1  \n",
       "3  December 30, 2017       1  \n",
       "4  December 29, 2017       1  "
      ]
     },
     "execution_count": 3,
     "metadata": {},
     "output_type": "execute_result"
    }
   ],
   "source": [
    "# Display the first five rows\n",
    "news_df.head()\n"
   ]
  },
  {
   "cell_type": "code",
   "execution_count": 4,
   "id": "7b502102",
   "metadata": {},
   "outputs": [
    {
     "data": {
      "text/html": [
       "<div>\n",
       "<style scoped>\n",
       "    .dataframe tbody tr th:only-of-type {\n",
       "        vertical-align: middle;\n",
       "    }\n",
       "\n",
       "    .dataframe tbody tr th {\n",
       "        vertical-align: top;\n",
       "    }\n",
       "\n",
       "    .dataframe thead th {\n",
       "        text-align: right;\n",
       "    }\n",
       "</style>\n",
       "<table border=\"1\" class=\"dataframe\">\n",
       "  <thead>\n",
       "    <tr style=\"text-align: right;\">\n",
       "      <th></th>\n",
       "      <th>title</th>\n",
       "      <th>text</th>\n",
       "      <th>subject</th>\n",
       "      <th>date</th>\n",
       "      <th>class</th>\n",
       "    </tr>\n",
       "  </thead>\n",
       "  <tbody>\n",
       "    <tr>\n",
       "      <th>0</th>\n",
       "      <td>As U.S. budget fight looms, Republicans flip t...</td>\n",
       "      <td>WASHINGTON (Reuters) The head of a conservativ...</td>\n",
       "      <td>politicsNews</td>\n",
       "      <td>December 31, 2017</td>\n",
       "      <td>1</td>\n",
       "    </tr>\n",
       "    <tr>\n",
       "      <th>1</th>\n",
       "      <td>U.S. military to accept transgender recruits o...</td>\n",
       "      <td>WASHINGTON (Reuters) Transgender people will b...</td>\n",
       "      <td>politicsNews</td>\n",
       "      <td>December 29, 2017</td>\n",
       "      <td>1</td>\n",
       "    </tr>\n",
       "    <tr>\n",
       "      <th>2</th>\n",
       "      <td>Senior U.S. Republican senator: 'Let Mr. Muell...</td>\n",
       "      <td>WASHINGTON (Reuters) The special counsel inves...</td>\n",
       "      <td>politicsNews</td>\n",
       "      <td>December 31, 2017</td>\n",
       "      <td>1</td>\n",
       "    </tr>\n",
       "    <tr>\n",
       "      <th>3</th>\n",
       "      <td>FBI Russia probe helped by Australian diplomat...</td>\n",
       "      <td>WASHINGTON (Reuters) Trump campaign adviser Ge...</td>\n",
       "      <td>politicsNews</td>\n",
       "      <td>December 30, 2017</td>\n",
       "      <td>1</td>\n",
       "    </tr>\n",
       "    <tr>\n",
       "      <th>4</th>\n",
       "      <td>Trump wants Postal Service to charge 'much mor...</td>\n",
       "      <td>SEATTLE/WASHINGTON (Reuters) President Donald ...</td>\n",
       "      <td>politicsNews</td>\n",
       "      <td>December 29, 2017</td>\n",
       "      <td>1</td>\n",
       "    </tr>\n",
       "    <tr>\n",
       "      <th>...</th>\n",
       "      <td>...</td>\n",
       "      <td>...</td>\n",
       "      <td>...</td>\n",
       "      <td>...</td>\n",
       "      <td>...</td>\n",
       "    </tr>\n",
       "    <tr>\n",
       "      <th>44682</th>\n",
       "      <td>McPain: John McCain Furious That Iran Treated ...</td>\n",
       "      <td>21st Century Wire says As 21WIRE reported earl...</td>\n",
       "      <td>Middle-east</td>\n",
       "      <td>January 16, 2016</td>\n",
       "      <td>0</td>\n",
       "    </tr>\n",
       "    <tr>\n",
       "      <th>44683</th>\n",
       "      <td>JUSTICE? Yahoo Settles E-mail Privacy Class-ac...</td>\n",
       "      <td>21st Century Wire says It s a familiar theme. ...</td>\n",
       "      <td>Middle-east</td>\n",
       "      <td>January 16, 2016</td>\n",
       "      <td>0</td>\n",
       "    </tr>\n",
       "    <tr>\n",
       "      <th>44684</th>\n",
       "      <td>Sunnistan: US and Allied ‘Safe Zone’ Plan to T...</td>\n",
       "      <td>Patrick Henningsen  21st Century WireRemember ...</td>\n",
       "      <td>Middle-east</td>\n",
       "      <td>January 15, 2016</td>\n",
       "      <td>0</td>\n",
       "    </tr>\n",
       "    <tr>\n",
       "      <th>44685</th>\n",
       "      <td>How to Blow $700 Million: Al Jazeera America F...</td>\n",
       "      <td>21st Century Wire says Al Jazeera America will...</td>\n",
       "      <td>Middle-east</td>\n",
       "      <td>January 14, 2016</td>\n",
       "      <td>0</td>\n",
       "    </tr>\n",
       "    <tr>\n",
       "      <th>44686</th>\n",
       "      <td>10 U.S. Navy Sailors Held by Iranian Military ...</td>\n",
       "      <td>21st Century Wire says As 21WIRE predicted in ...</td>\n",
       "      <td>Middle-east</td>\n",
       "      <td>January 12, 2016</td>\n",
       "      <td>0</td>\n",
       "    </tr>\n",
       "  </tbody>\n",
       "</table>\n",
       "<p>44687 rows × 5 columns</p>\n",
       "</div>"
      ],
      "text/plain": [
       "                                                   title  \\\n",
       "0      As U.S. budget fight looms, Republicans flip t...   \n",
       "1      U.S. military to accept transgender recruits o...   \n",
       "2      Senior U.S. Republican senator: 'Let Mr. Muell...   \n",
       "3      FBI Russia probe helped by Australian diplomat...   \n",
       "4      Trump wants Postal Service to charge 'much mor...   \n",
       "...                                                  ...   \n",
       "44682  McPain: John McCain Furious That Iran Treated ...   \n",
       "44683  JUSTICE? Yahoo Settles E-mail Privacy Class-ac...   \n",
       "44684  Sunnistan: US and Allied ‘Safe Zone’ Plan to T...   \n",
       "44685  How to Blow $700 Million: Al Jazeera America F...   \n",
       "44686  10 U.S. Navy Sailors Held by Iranian Military ...   \n",
       "\n",
       "                                                    text       subject  \\\n",
       "0      WASHINGTON (Reuters) The head of a conservativ...  politicsNews   \n",
       "1      WASHINGTON (Reuters) Transgender people will b...  politicsNews   \n",
       "2      WASHINGTON (Reuters) The special counsel inves...  politicsNews   \n",
       "3      WASHINGTON (Reuters) Trump campaign adviser Ge...  politicsNews   \n",
       "4      SEATTLE/WASHINGTON (Reuters) President Donald ...  politicsNews   \n",
       "...                                                  ...           ...   \n",
       "44682  21st Century Wire says As 21WIRE reported earl...   Middle-east   \n",
       "44683  21st Century Wire says It s a familiar theme. ...   Middle-east   \n",
       "44684  Patrick Henningsen  21st Century WireRemember ...   Middle-east   \n",
       "44685  21st Century Wire says Al Jazeera America will...   Middle-east   \n",
       "44686  21st Century Wire says As 21WIRE predicted in ...   Middle-east   \n",
       "\n",
       "                     date  class  \n",
       "0      December 31, 2017       1  \n",
       "1      December 29, 2017       1  \n",
       "2      December 31, 2017       1  \n",
       "3      December 30, 2017       1  \n",
       "4      December 29, 2017       1  \n",
       "...                   ...    ...  \n",
       "44682    January 16, 2016      0  \n",
       "44683    January 16, 2016      0  \n",
       "44684    January 15, 2016      0  \n",
       "44685    January 14, 2016      0  \n",
       "44686    January 12, 2016      0  \n",
       "\n",
       "[44687 rows x 5 columns]"
      ]
     },
     "execution_count": 4,
     "metadata": {},
     "output_type": "execute_result"
    }
   ],
   "source": [
    "# Remove 'Unnamed' column and change column's name 'Class' to 'class'\n",
    "news_df = news_df.drop(columns = 'Unnamed: 0', axis = 1)\n",
    "news_df = news_df.rename(columns = {'Class': 'class'},)\n",
    "news_df\n"
   ]
  },
  {
   "cell_type": "code",
   "execution_count": 5,
   "id": "454540e3",
   "metadata": {},
   "outputs": [
    {
     "name": "stdout",
     "output_type": "stream",
     "text": [
      "Final DataFrame shape: (44687, 5)\n"
     ]
    }
   ],
   "source": [
    "# Print the final shape of the DataFrame\n",
    "print(f\"Final DataFrame shape: {news_df.shape}\")"
   ]
  },
  {
   "cell_type": "markdown",
   "id": "8b1cab63",
   "metadata": {},
   "source": [
    "### There are 44,687 articles in the DataFrame after Data Cleaning."
   ]
  },
  {
   "cell_type": "markdown",
   "id": "835a07a8",
   "metadata": {},
   "source": [
    "# Standarizing text"
   ]
  },
  {
   "cell_type": "code",
   "execution_count": 6,
   "id": "8adcff77",
   "metadata": {},
   "outputs": [],
   "source": [
    "# Lowercase the text in the 'title' and 'text' columns\n",
    "news_df['title'] = news_df['title'].str.lower()\n",
    "news_df['text'] = news_df['text'].str.lower()\n"
   ]
  },
  {
   "cell_type": "code",
   "execution_count": 7,
   "id": "a57ef3f2",
   "metadata": {},
   "outputs": [],
   "source": [
    "# Strip leading and trailing whitespace from the 'title' and 'text' columns\n",
    "news_df['title'] = news_df['title'].str.strip()\n",
    "news_df['text'] = news_df['text'].str.strip()\n"
   ]
  },
  {
   "cell_type": "code",
   "execution_count": 8,
   "id": "7033d441",
   "metadata": {},
   "outputs": [
    {
     "data": {
      "text/html": [
       "<div>\n",
       "<style scoped>\n",
       "    .dataframe tbody tr th:only-of-type {\n",
       "        vertical-align: middle;\n",
       "    }\n",
       "\n",
       "    .dataframe tbody tr th {\n",
       "        vertical-align: top;\n",
       "    }\n",
       "\n",
       "    .dataframe thead th {\n",
       "        text-align: right;\n",
       "    }\n",
       "</style>\n",
       "<table border=\"1\" class=\"dataframe\">\n",
       "  <thead>\n",
       "    <tr style=\"text-align: right;\">\n",
       "      <th></th>\n",
       "      <th>title</th>\n",
       "      <th>text</th>\n",
       "      <th>subject</th>\n",
       "      <th>date</th>\n",
       "      <th>class</th>\n",
       "    </tr>\n",
       "  </thead>\n",
       "  <tbody>\n",
       "    <tr>\n",
       "      <th>0</th>\n",
       "      <td>as u.s. budget fight looms, republicans flip t...</td>\n",
       "      <td>washington (reuters) the head of a conservativ...</td>\n",
       "      <td>politicsNews</td>\n",
       "      <td>December 31, 2017</td>\n",
       "      <td>1</td>\n",
       "    </tr>\n",
       "    <tr>\n",
       "      <th>1</th>\n",
       "      <td>u.s. military to accept transgender recruits o...</td>\n",
       "      <td>washington (reuters) transgender people will b...</td>\n",
       "      <td>politicsNews</td>\n",
       "      <td>December 29, 2017</td>\n",
       "      <td>1</td>\n",
       "    </tr>\n",
       "    <tr>\n",
       "      <th>2</th>\n",
       "      <td>senior u.s. republican senator: 'let mr. muell...</td>\n",
       "      <td>washington (reuters) the special counsel inves...</td>\n",
       "      <td>politicsNews</td>\n",
       "      <td>December 31, 2017</td>\n",
       "      <td>1</td>\n",
       "    </tr>\n",
       "    <tr>\n",
       "      <th>3</th>\n",
       "      <td>fbi russia probe helped by australian diplomat...</td>\n",
       "      <td>washington (reuters) trump campaign adviser ge...</td>\n",
       "      <td>politicsNews</td>\n",
       "      <td>December 30, 2017</td>\n",
       "      <td>1</td>\n",
       "    </tr>\n",
       "    <tr>\n",
       "      <th>4</th>\n",
       "      <td>trump wants postal service to charge 'much mor...</td>\n",
       "      <td>seattle/washington (reuters) president donald ...</td>\n",
       "      <td>politicsNews</td>\n",
       "      <td>December 29, 2017</td>\n",
       "      <td>1</td>\n",
       "    </tr>\n",
       "  </tbody>\n",
       "</table>\n",
       "</div>"
      ],
      "text/plain": [
       "                                               title  \\\n",
       "0  as u.s. budget fight looms, republicans flip t...   \n",
       "1  u.s. military to accept transgender recruits o...   \n",
       "2  senior u.s. republican senator: 'let mr. muell...   \n",
       "3  fbi russia probe helped by australian diplomat...   \n",
       "4  trump wants postal service to charge 'much mor...   \n",
       "\n",
       "                                                text       subject  \\\n",
       "0  washington (reuters) the head of a conservativ...  politicsNews   \n",
       "1  washington (reuters) transgender people will b...  politicsNews   \n",
       "2  washington (reuters) the special counsel inves...  politicsNews   \n",
       "3  washington (reuters) trump campaign adviser ge...  politicsNews   \n",
       "4  seattle/washington (reuters) president donald ...  politicsNews   \n",
       "\n",
       "                 date  class  \n",
       "0  December 31, 2017       1  \n",
       "1  December 29, 2017       1  \n",
       "2  December 31, 2017       1  \n",
       "3  December 30, 2017       1  \n",
       "4  December 29, 2017       1  "
      ]
     },
     "execution_count": 8,
     "metadata": {},
     "output_type": "execute_result"
    }
   ],
   "source": [
    "# Verify the changes by viewing the DataFrame\n",
    "news_df.head()\n"
   ]
  },
  {
   "cell_type": "markdown",
   "id": "9098329f",
   "metadata": {},
   "source": [
    "# Text Analysis - Natural Language Processing"
   ]
  },
  {
   "cell_type": "markdown",
   "id": "fb974a74",
   "metadata": {},
   "source": [
    "## 1. Tokenization: Breaking the text into individual words (tokens). "
   ]
  },
  {
   "cell_type": "code",
   "execution_count": 9,
   "id": "f10fe34a",
   "metadata": {},
   "outputs": [],
   "source": [
    "# Set up spaCy to process and analyze English text\n",
    "nlp = spacy.load('en_core_web_sm')\n"
   ]
  },
  {
   "cell_type": "code",
   "execution_count": 10,
   "id": "7bb7caff",
   "metadata": {},
   "outputs": [
    {
     "name": "stdout",
     "output_type": "stream",
     "text": [
      "{'couldn', 'because', 'hadn', \"it's\", 'them', 'is', 'out', 'theirs', 've', 'who', 'which', 'yours', 'hers', 'him', 'there', \"hadn't\", 're', 'mightn', 'more', 'all', \"don't\", 'too', 'are', 'so', 'should', 'how', 'until', 'it', 'ain', \"shouldn't\", 'those', 'himself', 'these', 'other', 'weren', 'your', 'she', 'on', 'mustn', 'itself', 'me', 'some', \"wouldn't\", 'yourself', 'further', 'both', 'while', 'whom', 'was', 'off', 'at', 'to', 'where', 'after', 'under', \"that'll\", \"you'll\", \"aren't\", 'being', 'no', 'their', 'ourselves', 'down', 'aren', \"haven't\", 'we', 'having', 'in', \"hasn't\", 'up', 'same', \"doesn't\", 'below', 'and', \"mustn't\", 'but', 'd', \"shan't\", 'not', 'again', 'of', \"she's\", 'has', 'shan', 'above', 'own', 'won', 'i', 'over', 'between', 'needn', 'most', 'once', 'shouldn', 'they', 'the', 't', 'themselves', 'll', 'ma', 'such', 'with', 'did', 'than', 'as', 'isn', 'don', 'doesn', 'doing', 'few', \"wasn't\", 'by', 'myself', 'very', 'have', 'does', 'from', 'against', 'wasn', 'now', 'its', 'y', \"should've\", 'can', 'my', 'am', 'what', 'be', 'do', 'had', \"you've\", 'this', 'his', 'hasn', \"needn't\", 'yourselves', 'were', 'haven', 'didn', 'before', 'only', \"weren't\", 'ours', 'here', 'just', 'any', 'that', \"mightn't\", 'her', 'through', 'been', 'then', 'm', 'why', 'for', 'herself', 'each', 'nor', 's', \"isn't\", \"won't\", 'about', 'or', 'during', 'if', \"you're\", \"didn't\", 'a', 'an', 'will', \"couldn't\", \"you'd\", 'wouldn', 'our', 'he', 'when', 'you', 'o', 'into'}\n"
     ]
    },
    {
     "name": "stderr",
     "output_type": "stream",
     "text": [
      "[nltk_data] Downloading package punkt to\n",
      "[nltk_data]     C:\\Users\\joann\\AppData\\Roaming\\nltk_data...\n",
      "[nltk_data]   Package punkt is already up-to-date!\n",
      "[nltk_data] Downloading package stopwords to\n",
      "[nltk_data]     C:\\Users\\joann\\AppData\\Roaming\\nltk_data...\n",
      "[nltk_data]   Package stopwords is already up-to-date!\n"
     ]
    }
   ],
   "source": [
    "# Download the necessary NLTK resources\n",
    "nltk.download('punkt')\n",
    "nltk.download('stopwords')\n",
    "\n",
    "# Define the English stop words list from NLTK\n",
    "stop_words = set(stopwords.words('english'))\n",
    "print(stop_words)"
   ]
  },
  {
   "cell_type": "code",
   "execution_count": null,
   "id": "ac71d621",
   "metadata": {},
   "outputs": [],
   "source": [
    "# Code taken from the website: https://spacy.io/api/doc\n",
    "\n",
    "# Define a function to split text into individual words using spaCy\n",
    "def tokenize_and_remove_stopwords(text):\n",
    "    # Use the processor to analyze the text\n",
    "    doc = nlp(text)\n",
    "    # Create an empty list to hold the words\n",
    "    tokens = []\n",
    "    # Loop through each word in the processed text\n",
    "    for token in doc:\n",
    "        # Check if the word is not a stop word and is alphabetic (removes words which contain numbers or punctuation)\n",
    "        if token.text not in stop_words and token.is_alpha:\n",
    "            # Add the word to the list of words\n",
    "            tokens.append(token.text)\n",
    "    # Return the list of tokens\n",
    "    return tokens\n",
    "\n",
    "# Split the text in each row into words and save it in a new column\n",
    "news_df['tokens'] = news_df['text'].apply(tokenize_and_remove_stopwords)\n",
    "\n",
    "# Take a look at the first few rows to make sure it worked\n",
    "news_df['tokens'].head()"
   ]
  },
  {
   "cell_type": "markdown",
   "id": "96cee45f",
   "metadata": {},
   "source": [
    "## 2. Word Frequency Distribution: Calculate the frequency of each word in the dataset. "
   ]
  },
  {
   "cell_type": "code",
   "execution_count": null,
   "id": "6b0773de",
   "metadata": {},
   "outputs": [],
   "source": [
    "# Use .loc to filter the DataFrame for true news and select the 'tokens' column\n",
    "true_news_tokens = news_df.loc[news_df['class'] == 1, 'tokens']\n",
    "true_news_tokens\n"
   ]
  },
  {
   "cell_type": "code",
   "execution_count": null,
   "id": "6f2b27ae",
   "metadata": {},
   "outputs": [],
   "source": [
    "# Use .loc to filter the DataFrame for fake news and select the 'tokens' column\n",
    "fake_news_tokens = news_df.loc[news_df['class'] == 0, 'tokens']\n",
    "fake_news_tokens\n"
   ]
  },
  {
   "cell_type": "code",
   "execution_count": null,
   "id": "ddbfea7b",
   "metadata": {},
   "outputs": [],
   "source": [
    "# true_news_tokens is a pandas Series where each row contains a list of tokens (words). \n",
    "# We need to convert it into a single list\n",
    "\n",
    "# Initialize an empty list to hold the flattened tokens\n",
    "true_tokens_list = []\n",
    "\n",
    "# Loop through each sublist in the true_news_tokens\n",
    "for sublist in true_news_tokens:\n",
    "    # Loop through each token in the current sublist\n",
    "    for token in sublist:\n",
    "        # Add the token to the flattened list\n",
    "        true_tokens_list.append(token)\n",
    "\n"
   ]
  },
  {
   "cell_type": "code",
   "execution_count": null,
   "id": "8699a8a5",
   "metadata": {},
   "outputs": [],
   "source": [
    "# The same process for fake_news_tokens - flattening a list of lists into a single list\n",
    "\n",
    "# Initialize an empty list to hold the flattened tokens\n",
    "fake_tokens_list = []\n",
    "\n",
    "# Loop through each sublist in the true_news_tokens\n",
    "for sublist in fake_news_tokens:\n",
    "    # Loop through each token in the current sublist\n",
    "    for token in sublist:\n",
    "        # Add the token to the flattened list\n",
    "        fake_tokens_list.append(token)\n",
    "        \n"
   ]
  },
  {
   "cell_type": "code",
   "execution_count": null,
   "id": "58186e10",
   "metadata": {},
   "outputs": [],
   "source": [
    "# Calculate the frequency distribution for true news\n",
    "true_freq_dist = FreqDist(true_tokens_list)\n",
    "print(\"Most common words in true news:\")\n",
    "print(true_freq_dist.most_common(30)) \n",
    "\n"
   ]
  },
  {
   "cell_type": "code",
   "execution_count": null,
   "id": "72c7ecaa",
   "metadata": {
    "scrolled": true
   },
   "outputs": [],
   "source": [
    "# Calculate the frequency distribution for fake news\n",
    "fake_freq_dist = FreqDist(fake_tokens_list)\n",
    "print(\"Most common words in fake news:\")\n",
    "print(fake_freq_dist.most_common(30)) \n"
   ]
  },
  {
   "cell_type": "code",
   "execution_count": null,
   "id": "ed02bc90",
   "metadata": {},
   "outputs": [],
   "source": [
    "# Generate word clouds for each category\n",
    "true_wordcloud = WordCloud(width=800, height=400, background_color ='white').generate_from_frequencies(true_freq_dist)\n",
    "fake_wordcloud = WordCloud(width=800, height=400, background_color ='white').generate_from_frequencies(fake_freq_dist)\n"
   ]
  },
  {
   "cell_type": "code",
   "execution_count": null,
   "id": "f9617e06",
   "metadata": {},
   "outputs": [],
   "source": [
    "# Display the word clouds\n",
    "plt.figure(figsize=(15, 7))\n",
    "\n",
    "plt.subplot(1, 2, 1)\n",
    "plt.imshow(true_wordcloud, interpolation='bilinear')\n",
    "plt.title('True News Word Cloud')\n",
    "plt.axis('off')\n",
    "\n",
    "plt.subplot(1, 2, 2)\n",
    "plt.imshow(fake_wordcloud, interpolation='bilinear')\n",
    "plt.title('Fake News Word Cloud')\n",
    "plt.axis('off')\n",
    "\n",
    "plt.show()"
   ]
  },
  {
   "cell_type": "markdown",
   "id": "8655aaab",
   "metadata": {},
   "source": [
    "## 3. Sentiment Analysis: Asses the sentiment of the news articles to examine the emotional tone of the articles.\n"
   ]
  },
  {
   "cell_type": "code",
   "execution_count": null,
   "id": "a698f1bb",
   "metadata": {},
   "outputs": [],
   "source": [
    "# Define a function to get the polarity of text\n",
    "def sentiment_analysis_polarity(text):\n",
    "    try:\n",
    "        # Convert text to string\n",
    "        text = str(text)\n",
    "        # Create a TextBlob object\n",
    "        blob = TextBlob(text)\n",
    "        # Return only the polarity \n",
    "        return blob.sentiment.polarity\n",
    "    except:\n",
    "        return None\n",
    "\n",
    "# Apply the function to the 'text' column and create a new 'polarity' column\n",
    "news_df['polarity'] = news_df['text'].apply(sentiment_analysis_polarity)\n",
    "\n",
    "# Check the first few entries in the new 'polarity' column\n",
    "news_df['polarity'].head()\n",
    "\n"
   ]
  },
  {
   "cell_type": "code",
   "execution_count": null,
   "id": "67b831f0",
   "metadata": {},
   "outputs": [],
   "source": [
    "# Define a function to get the subjectivity of text\n",
    "def sentiment_analysis_subjectivity(text):\n",
    "    try:\n",
    "        # Convert text to string\n",
    "        text = str(text)\n",
    "        # Create a TextBlob object\n",
    "        blob = TextBlob(text)\n",
    "        # Return only the polarity \n",
    "        return blob.sentiment.subjectivity\n",
    "    except:\n",
    "        return None\n",
    "\n",
    "# Apply the function to the 'text' column and create a new 'subjectivity' column\n",
    "news_df['subjectivity'] = news_df['text'].apply(sentiment_analysis_subjectivity)\n",
    "\n",
    "# Check the first few entries in the new 'subjectivity' column\n",
    "news_df['subjectivity'].head()\n"
   ]
  },
  {
   "cell_type": "code",
   "execution_count": null,
   "id": "b1805393",
   "metadata": {},
   "outputs": [],
   "source": [
    "# Determine if the sentiment is positive, negative, or neutral\n",
    "\n",
    "def determine_sentiment(polarity):\n",
    "    if polarity > 0:\n",
    "        return \"positive\"\n",
    "    elif polarity < 0:\n",
    "         return \"negative\"\n",
    "    else:\n",
    "        return \"neutral\"\n",
    "\n",
    "# Apply the function to the 'text' column and create a new 'sentiment' column\n",
    "news_df['sentiment'] = news_df['polarity'].apply(determine_sentiment)\n",
    "\n",
    "# Check the first few entries in the new 'sentiment' column\n",
    "news_df['sentiment'].head()\n"
   ]
  },
  {
   "cell_type": "code",
   "execution_count": null,
   "id": "bb7c8675",
   "metadata": {},
   "outputs": [],
   "source": [
    "# Check for unique values in the 'sentiment' column\n",
    "unique_sentiments = news_df['sentiment'].unique()\n",
    "print(f\"Unique values in 'sentiment' column: {unique_sentiments}\")\n"
   ]
  },
  {
   "cell_type": "code",
   "execution_count": null,
   "id": "daf228d5",
   "metadata": {},
   "outputs": [],
   "source": [
    "# Check for null values in the 'sentiment' column\n",
    "null_sentiments = news_df['sentiment'].isnull().sum()\n",
    "print(f\"Number of null values in 'sentiment' column: {null_sentiments}\")\n"
   ]
  },
  {
   "cell_type": "code",
   "execution_count": null,
   "id": "4aafdc10",
   "metadata": {},
   "outputs": [],
   "source": [
    "# Filter the DataFrame for true news and calculate the value counts of the 'sentiment' column\n",
    "true_news_sentiment = news_df.loc[news_df['class'] == 1, 'sentiment'].value_counts()\n",
    "\n",
    "# Display the value counts for both true and fake news\n",
    "print(\"Sentiment distribution in True News:\")\n",
    "print(true_news_sentiment)\n"
   ]
  },
  {
   "cell_type": "code",
   "execution_count": null,
   "id": "32f7c520",
   "metadata": {},
   "outputs": [],
   "source": [
    "# Filter the DataFrame for fake news and calculate the value counts of the 'sentiment' column\n",
    "fake_news_sentiment = news_df.loc[news_df['class'] == 0, 'sentiment'].value_counts()\n",
    "\n",
    "print(\"Sentiment distribution in Fake News:\")\n",
    "print(fake_news_sentiment)\n"
   ]
  },
  {
   "cell_type": "code",
   "execution_count": null,
   "id": "2877c424",
   "metadata": {
    "scrolled": true
   },
   "outputs": [],
   "source": [
    "# Create a new figure for the bar charts\n",
    "plt.figure(figsize=(15, 7))\n",
    "\n",
    "# Create the True News Sentiment Bar Chart subplot\n",
    "plt.subplot(1, 2, 1)  \n",
    "true_news_sentiment.plot(kind='bar', color='blue')\n",
    "plt.title('True News Sentiment')\n",
    "plt.xlabel('Sentiment')\n",
    "plt.ylabel('Count')\n",
    "plt.xticks(rotation=0) \n",
    "\n",
    "# Create the Fake News Sentiment Bar Chart subplot\n",
    "plt.subplot(1, 2, 2)  # 1 row, 2 columns, 2nd subplot\n",
    "fake_news_sentiment.plot(kind='bar', color='orange')\n",
    "plt.title('Fake News Sentiment')\n",
    "plt.xlabel('Sentiment')\n",
    "plt.ylabel('Count')\n",
    "plt.xticks(rotation=0)  \n",
    "\n",
    "# Display the bar charts\n",
    "plt.show()\n",
    "\n"
   ]
  },
  {
   "cell_type": "code",
   "execution_count": null,
   "id": "17d25104",
   "metadata": {},
   "outputs": [],
   "source": [
    "# Create histograms for polarity distribution of true and fake news\n",
    "plt.figure(figsize=(14, 6))\n",
    "\n",
    "# Histogram for true news polarity\n",
    "plt.subplot(1, 2, 1)  \n",
    "true_news_polarity = news_df.loc[news_df['class'] == 1, 'polarity']\n",
    "plt.hist(true_news_polarity, bins=20, color='blue', alpha=0.7)\n",
    "plt.title('Polarity Distribution in True News')\n",
    "plt.xlabel('Polarity')\n",
    "plt.ylabel('Number of Articles')\n",
    "\n",
    "# Histogram for fake news polarity\n",
    "plt.subplot(1, 2, 2) \n",
    "fake_news_polarity = news_df.loc[news_df['class'] == 0, 'polarity']\n",
    "plt.hist(fake_news_polarity, bins=20, color='orange', alpha=0.7)\n",
    "plt.title('Polarity Distribution in Fake News')\n",
    "plt.xlabel('Polarity')\n",
    "plt.ylabel('Number of Articles')\n",
    "\n",
    "# Display the histograms\n",
    "plt.tight_layout()\n",
    "plt.show()"
   ]
  },
  {
   "cell_type": "code",
   "execution_count": null,
   "id": "c230299c",
   "metadata": {},
   "outputs": [],
   "source": [
    "# Calculate the average polarity and subjectivity for true news\n",
    "average_polarity_true = news_df.loc[news_df['class'] == 1, 'polarity'].mean()\n",
    "average_subjectivity_true = news_df.loc[news_df['class'] == 1, 'subjectivity'].mean()\n",
    "\n",
    "# Print the average polarity and subjectivity for true news\n",
    "print(f\"Average Polarity for True News: {average_polarity_true}\")\n",
    "print(f\"Average Subjectivity for True News: {average_subjectivity_true}\")\n"
   ]
  },
  {
   "cell_type": "code",
   "execution_count": null,
   "id": "43dacf4d",
   "metadata": {},
   "outputs": [],
   "source": [
    "# Calculate the average polarity and subjectivity for fake news\n",
    "average_polarity_fake = news_df.loc[news_df['class'] == 0, 'polarity'].mean()\n",
    "average_subjectivity_fake = news_df.loc[news_df['class'] == 0, 'subjectivity'].mean()\n",
    "\n",
    "# Print the average polarity and subjectivity for fake news\n",
    "print(f\"Average Polarity for Fake News: {average_polarity_fake}\")\n",
    "print(f\"Average Subjectivity for Fake News: {average_subjectivity_fake}\")\n"
   ]
  },
  {
   "cell_type": "code",
   "execution_count": null,
   "id": "f084b517",
   "metadata": {},
   "outputs": [],
   "source": [
    "# Filter the DataFrame for fake news with negative sentiment to see if there are specific words that often appear in fake news\n",
    "# with a negative sentiment?\n",
    "negative_fake_news = news_df.loc[\n",
    "                    (news_df['class'] == 0) & (news_df['sentiment'] == 'negative'), 'tokens']\n",
    "\n",
    "# Flat the negative_fake_news into a single list\n",
    "negative_fake_token_list = []\n",
    "\n",
    "# Loop through each sublist in the true_news_tokens\n",
    "for sublist in negative_fake_news:\n",
    "    # Loop through each token in the current sublist\n",
    "    for token in sublist:\n",
    "        # Add the token to the flattened list\n",
    "        negative_fake_token_list.append(token)\n",
    "        \n",
    "# Calculate the frequency distribution for negative and fake news:\n",
    "negative_fake_freq_dist = FreqDist(negative_fake_token_list)\n",
    "print(\"Most common words in fake news with negative sentiment:\")\n",
    "print(negative_fake_freq_dist.most_common(30)) \n",
    "     \n",
    "# Visualization using a word cloud\n",
    "wordcloud = WordCloud(width=800, height=400, background_color ='white').generate_from_frequencies(negative_fake_freq_dist)\n",
    "\n",
    "# Plotting the WordCloud image                        \n",
    "plt.figure(figsize = (8, 8), facecolor = None) \n",
    "plt.imshow(wordcloud)\n",
    "plt.axis(\"off\")\n",
    "plt.tight_layout(pad = 0) \n",
    "plt.title('Word Cloud for Negative Sentiment in Fake News Articles')\n",
    "plt.show()"
   ]
  },
  {
   "cell_type": "code",
   "execution_count": null,
   "id": "d368b28d",
   "metadata": {},
   "outputs": [],
   "source": [
    "# Generic function to generate word cloud for specific sentiment and category\n",
    "def generate_wordcloud(sentiment, class_label, title):\n",
    "    filtered_news = news_df.loc[\n",
    "                    (news_df['class'] == class_label) & (news_df['sentiment'] == sentiment), 'tokens']\n",
    "    \n",
    "   \n",
    "    # Flat the negative_fake_news into a single list\n",
    "    flat_token_list = []\n",
    "\n",
    "    # Loop through each sublist in the true_news_tokens\n",
    "    for sublist in filtered_news:\n",
    "        # Loop through each token in the current sublist\n",
    "        for token in sublist:\n",
    "            # Add the token to the flattened list\n",
    "            flat_token_list.append(token)\n",
    "        \n",
    "    \n",
    "    # Calculate the frequency distribution\n",
    "    freq_dist = FreqDist(flat_token_list)\n",
    "    print(f\"Most common words in {'fake' if class_label == 0 else 'true'} news with {sentiment} sentiment:\")\n",
    "    print(freq_dist.most_common(30)) \n",
    "    \n",
    "    # Visualization using a word cloud\n",
    "    wordcloud = WordCloud(width=800, height=400, background_color='white').generate_from_frequencies(freq_dist)\n",
    "    \n",
    "    # Plotting the WordCloud image                        \n",
    "    plt.figure(figsize=(8, 8), facecolor=None) \n",
    "    plt.imshow(wordcloud)\n",
    "    plt.axis(\"off\")\n",
    "    plt.tight_layout(pad=0) \n",
    "    plt.title(title)\n",
    "    plt.show()\n",
    "\n"
   ]
  },
  {
   "cell_type": "code",
   "execution_count": null,
   "id": "4629131b",
   "metadata": {},
   "outputs": [],
   "source": [
    "# Most common words in fake news with positive sentiment:\n",
    "generate_wordcloud('positive', 0, 'Word Cloud for Positive Sentiment in Fake News Articles')\n"
   ]
  },
  {
   "cell_type": "code",
   "execution_count": null,
   "id": "a25e1c33",
   "metadata": {},
   "outputs": [],
   "source": [
    "# Most common words in real news with positive sentiment:\n",
    "generate_wordcloud('positive', 1, 'Word Cloud for Positive Sentiment in True News Articles')\n"
   ]
  },
  {
   "cell_type": "code",
   "execution_count": null,
   "id": "5f7479f8",
   "metadata": {},
   "outputs": [],
   "source": [
    "# Most common words in fake news with negative sentiment:\n",
    "generate_wordcloud('negative', 0, 'Word Cloud for Negative Sentiment in Fake News Articles')\n"
   ]
  },
  {
   "cell_type": "code",
   "execution_count": null,
   "id": "22410887",
   "metadata": {},
   "outputs": [],
   "source": [
    "# Most common words in true news with negative sentiment:\n",
    "generate_wordcloud('negative', 1, 'Word Cloud for Negative Sentiment in True News Articles')\n"
   ]
  },
  {
   "cell_type": "code",
   "execution_count": null,
   "id": "ed55b8e6",
   "metadata": {},
   "outputs": [],
   "source": []
  },
  {
   "cell_type": "code",
   "execution_count": null,
   "id": "c2854189",
   "metadata": {},
   "outputs": [],
   "source": [
    "\n",
    "\n"
   ]
  },
  {
   "cell_type": "code",
   "execution_count": null,
   "id": "562596a4",
   "metadata": {},
   "outputs": [],
   "source": []
  },
  {
   "cell_type": "code",
   "execution_count": null,
   "id": "371c884f",
   "metadata": {},
   "outputs": [],
   "source": []
  },
  {
   "cell_type": "code",
   "execution_count": null,
   "id": "514e07a2",
   "metadata": {},
   "outputs": [],
   "source": []
  },
  {
   "cell_type": "code",
   "execution_count": null,
   "id": "c8021a15",
   "metadata": {},
   "outputs": [],
   "source": []
  }
 ],
 "metadata": {
  "kernelspec": {
   "display_name": "Python 3 (ipykernel)",
   "language": "python",
   "name": "python3"
  },
  "language_info": {
   "codemirror_mode": {
    "name": "ipython",
    "version": 3
   },
   "file_extension": ".py",
   "mimetype": "text/x-python",
   "name": "python",
   "nbconvert_exporter": "python",
   "pygments_lexer": "ipython3",
   "version": "3.10.11"
  }
 },
 "nbformat": 4,
 "nbformat_minor": 5
}
